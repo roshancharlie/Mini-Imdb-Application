{
  "cells": [
    {
      "cell_type": "markdown",
      "metadata": {
        "id": "view-in-github",
        "colab_type": "text"
      },
      "source": [
        "<a href=\"https://colab.research.google.com/github/roshancharlie/Mini-Imdb-Application/blob/main/recommendation_system.ipynb\" target=\"_parent\"><img src=\"https://colab.research.google.com/assets/colab-badge.svg\" alt=\"Open In Colab\"/></a>"
      ]
    },
    {
      "cell_type": "markdown",
      "source": [
        "# Importing The Libraries"
      ],
      "metadata": {
        "id": "dg-uhleTnSmZ"
      }
    },
    {
      "cell_type": "code",
      "execution_count": 1,
      "metadata": {
        "id": "FDSZF3djM7nh"
      },
      "outputs": [],
      "source": [
        "import pandas as pd\n",
        "import numpy as np"
      ]
    },
    {
      "cell_type": "code",
      "execution_count": 2,
      "metadata": {
        "id": "dQbLXVInNETN"
      },
      "outputs": [],
      "source": [
        "netflix = pd.read_csv('https://raw.githubusercontent.com/roshancharlie/Mini-Imdb-Application/main/dataset/netflix_titles.csv')\n",
        "amazon = pd.read_csv('https://raw.githubusercontent.com/roshancharlie/Mini-Imdb-Application/main/dataset/amazon_prime_titles.csv')\n",
        "hotstar = pd.read_csv('https://raw.githubusercontent.com/roshancharlie/Mini-Imdb-Application/main/dataset/disney_plus_titles.csv')"
      ]
    },
    {
      "cell_type": "code",
      "execution_count": 3,
      "metadata": {
        "colab": {
          "base_uri": "https://localhost:8080/",
          "height": 337
        },
        "id": "k8n2ErRkQ4XJ",
        "outputId": "2404834f-b272-4b4b-cbf3-657cac94ed24"
      },
      "outputs": [
        {
          "output_type": "execute_result",
          "data": {
            "text/plain": [
              "  show_id     type                  title         director  \\\n",
              "0      s1    Movie   Dick Johnson Is Dead  Kirsten Johnson   \n",
              "1      s2  TV Show          Blood & Water              NaN   \n",
              "2      s3  TV Show              Ganglands  Julien Leclercq   \n",
              "3      s4  TV Show  Jailbirds New Orleans              NaN   \n",
              "4      s5  TV Show           Kota Factory              NaN   \n",
              "\n",
              "                                                cast        country  \\\n",
              "0                                                NaN  United States   \n",
              "1  Ama Qamata, Khosi Ngema, Gail Mabalane, Thaban...   South Africa   \n",
              "2  Sami Bouajila, Tracy Gotoas, Samuel Jouy, Nabi...            NaN   \n",
              "3                                                NaN            NaN   \n",
              "4  Mayur More, Jitendra Kumar, Ranjan Raj, Alam K...          India   \n",
              "\n",
              "           date_added  release_year rating   duration  \\\n",
              "0  September 25, 2021          2020  PG-13     90 min   \n",
              "1  September 24, 2021          2021  TV-MA  2 Seasons   \n",
              "2  September 24, 2021          2021  TV-MA   1 Season   \n",
              "3  September 24, 2021          2021  TV-MA   1 Season   \n",
              "4  September 24, 2021          2021  TV-MA  2 Seasons   \n",
              "\n",
              "                                           listed_in  \\\n",
              "0                                      Documentaries   \n",
              "1    International TV Shows, TV Dramas, TV Mysteries   \n",
              "2  Crime TV Shows, International TV Shows, TV Act...   \n",
              "3                             Docuseries, Reality TV   \n",
              "4  International TV Shows, Romantic TV Shows, TV ...   \n",
              "\n",
              "                                         description  \n",
              "0  As her father nears the end of his life, filmm...  \n",
              "1  After crossing paths at a party, a Cape Town t...  \n",
              "2  To protect his family from a powerful drug lor...  \n",
              "3  Feuds, flirtations and toilet talk go down amo...  \n",
              "4  In a city of coaching centers known to train I...  "
            ],
            "text/html": [
              "\n",
              "  <div id=\"df-4e85c727-4844-488f-89dc-b082f85f70d4\">\n",
              "    <div class=\"colab-df-container\">\n",
              "      <div>\n",
              "<style scoped>\n",
              "    .dataframe tbody tr th:only-of-type {\n",
              "        vertical-align: middle;\n",
              "    }\n",
              "\n",
              "    .dataframe tbody tr th {\n",
              "        vertical-align: top;\n",
              "    }\n",
              "\n",
              "    .dataframe thead th {\n",
              "        text-align: right;\n",
              "    }\n",
              "</style>\n",
              "<table border=\"1\" class=\"dataframe\">\n",
              "  <thead>\n",
              "    <tr style=\"text-align: right;\">\n",
              "      <th></th>\n",
              "      <th>show_id</th>\n",
              "      <th>type</th>\n",
              "      <th>title</th>\n",
              "      <th>director</th>\n",
              "      <th>cast</th>\n",
              "      <th>country</th>\n",
              "      <th>date_added</th>\n",
              "      <th>release_year</th>\n",
              "      <th>rating</th>\n",
              "      <th>duration</th>\n",
              "      <th>listed_in</th>\n",
              "      <th>description</th>\n",
              "    </tr>\n",
              "  </thead>\n",
              "  <tbody>\n",
              "    <tr>\n",
              "      <th>0</th>\n",
              "      <td>s1</td>\n",
              "      <td>Movie</td>\n",
              "      <td>Dick Johnson Is Dead</td>\n",
              "      <td>Kirsten Johnson</td>\n",
              "      <td>NaN</td>\n",
              "      <td>United States</td>\n",
              "      <td>September 25, 2021</td>\n",
              "      <td>2020</td>\n",
              "      <td>PG-13</td>\n",
              "      <td>90 min</td>\n",
              "      <td>Documentaries</td>\n",
              "      <td>As her father nears the end of his life, filmm...</td>\n",
              "    </tr>\n",
              "    <tr>\n",
              "      <th>1</th>\n",
              "      <td>s2</td>\n",
              "      <td>TV Show</td>\n",
              "      <td>Blood &amp; Water</td>\n",
              "      <td>NaN</td>\n",
              "      <td>Ama Qamata, Khosi Ngema, Gail Mabalane, Thaban...</td>\n",
              "      <td>South Africa</td>\n",
              "      <td>September 24, 2021</td>\n",
              "      <td>2021</td>\n",
              "      <td>TV-MA</td>\n",
              "      <td>2 Seasons</td>\n",
              "      <td>International TV Shows, TV Dramas, TV Mysteries</td>\n",
              "      <td>After crossing paths at a party, a Cape Town t...</td>\n",
              "    </tr>\n",
              "    <tr>\n",
              "      <th>2</th>\n",
              "      <td>s3</td>\n",
              "      <td>TV Show</td>\n",
              "      <td>Ganglands</td>\n",
              "      <td>Julien Leclercq</td>\n",
              "      <td>Sami Bouajila, Tracy Gotoas, Samuel Jouy, Nabi...</td>\n",
              "      <td>NaN</td>\n",
              "      <td>September 24, 2021</td>\n",
              "      <td>2021</td>\n",
              "      <td>TV-MA</td>\n",
              "      <td>1 Season</td>\n",
              "      <td>Crime TV Shows, International TV Shows, TV Act...</td>\n",
              "      <td>To protect his family from a powerful drug lor...</td>\n",
              "    </tr>\n",
              "    <tr>\n",
              "      <th>3</th>\n",
              "      <td>s4</td>\n",
              "      <td>TV Show</td>\n",
              "      <td>Jailbirds New Orleans</td>\n",
              "      <td>NaN</td>\n",
              "      <td>NaN</td>\n",
              "      <td>NaN</td>\n",
              "      <td>September 24, 2021</td>\n",
              "      <td>2021</td>\n",
              "      <td>TV-MA</td>\n",
              "      <td>1 Season</td>\n",
              "      <td>Docuseries, Reality TV</td>\n",
              "      <td>Feuds, flirtations and toilet talk go down amo...</td>\n",
              "    </tr>\n",
              "    <tr>\n",
              "      <th>4</th>\n",
              "      <td>s5</td>\n",
              "      <td>TV Show</td>\n",
              "      <td>Kota Factory</td>\n",
              "      <td>NaN</td>\n",
              "      <td>Mayur More, Jitendra Kumar, Ranjan Raj, Alam K...</td>\n",
              "      <td>India</td>\n",
              "      <td>September 24, 2021</td>\n",
              "      <td>2021</td>\n",
              "      <td>TV-MA</td>\n",
              "      <td>2 Seasons</td>\n",
              "      <td>International TV Shows, Romantic TV Shows, TV ...</td>\n",
              "      <td>In a city of coaching centers known to train I...</td>\n",
              "    </tr>\n",
              "  </tbody>\n",
              "</table>\n",
              "</div>\n",
              "      <button class=\"colab-df-convert\" onclick=\"convertToInteractive('df-4e85c727-4844-488f-89dc-b082f85f70d4')\"\n",
              "              title=\"Convert this dataframe to an interactive table.\"\n",
              "              style=\"display:none;\">\n",
              "        \n",
              "  <svg xmlns=\"http://www.w3.org/2000/svg\" height=\"24px\"viewBox=\"0 0 24 24\"\n",
              "       width=\"24px\">\n",
              "    <path d=\"M0 0h24v24H0V0z\" fill=\"none\"/>\n",
              "    <path d=\"M18.56 5.44l.94 2.06.94-2.06 2.06-.94-2.06-.94-.94-2.06-.94 2.06-2.06.94zm-11 1L8.5 8.5l.94-2.06 2.06-.94-2.06-.94L8.5 2.5l-.94 2.06-2.06.94zm10 10l.94 2.06.94-2.06 2.06-.94-2.06-.94-.94-2.06-.94 2.06-2.06.94z\"/><path d=\"M17.41 7.96l-1.37-1.37c-.4-.4-.92-.59-1.43-.59-.52 0-1.04.2-1.43.59L10.3 9.45l-7.72 7.72c-.78.78-.78 2.05 0 2.83L4 21.41c.39.39.9.59 1.41.59.51 0 1.02-.2 1.41-.59l7.78-7.78 2.81-2.81c.8-.78.8-2.07 0-2.86zM5.41 20L4 18.59l7.72-7.72 1.47 1.35L5.41 20z\"/>\n",
              "  </svg>\n",
              "      </button>\n",
              "      \n",
              "  <style>\n",
              "    .colab-df-container {\n",
              "      display:flex;\n",
              "      flex-wrap:wrap;\n",
              "      gap: 12px;\n",
              "    }\n",
              "\n",
              "    .colab-df-convert {\n",
              "      background-color: #E8F0FE;\n",
              "      border: none;\n",
              "      border-radius: 50%;\n",
              "      cursor: pointer;\n",
              "      display: none;\n",
              "      fill: #1967D2;\n",
              "      height: 32px;\n",
              "      padding: 0 0 0 0;\n",
              "      width: 32px;\n",
              "    }\n",
              "\n",
              "    .colab-df-convert:hover {\n",
              "      background-color: #E2EBFA;\n",
              "      box-shadow: 0px 1px 2px rgba(60, 64, 67, 0.3), 0px 1px 3px 1px rgba(60, 64, 67, 0.15);\n",
              "      fill: #174EA6;\n",
              "    }\n",
              "\n",
              "    [theme=dark] .colab-df-convert {\n",
              "      background-color: #3B4455;\n",
              "      fill: #D2E3FC;\n",
              "    }\n",
              "\n",
              "    [theme=dark] .colab-df-convert:hover {\n",
              "      background-color: #434B5C;\n",
              "      box-shadow: 0px 1px 3px 1px rgba(0, 0, 0, 0.15);\n",
              "      filter: drop-shadow(0px 1px 2px rgba(0, 0, 0, 0.3));\n",
              "      fill: #FFFFFF;\n",
              "    }\n",
              "  </style>\n",
              "\n",
              "      <script>\n",
              "        const buttonEl =\n",
              "          document.querySelector('#df-4e85c727-4844-488f-89dc-b082f85f70d4 button.colab-df-convert');\n",
              "        buttonEl.style.display =\n",
              "          google.colab.kernel.accessAllowed ? 'block' : 'none';\n",
              "\n",
              "        async function convertToInteractive(key) {\n",
              "          const element = document.querySelector('#df-4e85c727-4844-488f-89dc-b082f85f70d4');\n",
              "          const dataTable =\n",
              "            await google.colab.kernel.invokeFunction('convertToInteractive',\n",
              "                                                     [key], {});\n",
              "          if (!dataTable) return;\n",
              "\n",
              "          const docLinkHtml = 'Like what you see? Visit the ' +\n",
              "            '<a target=\"_blank\" href=https://colab.research.google.com/notebooks/data_table.ipynb>data table notebook</a>'\n",
              "            + ' to learn more about interactive tables.';\n",
              "          element.innerHTML = '';\n",
              "          dataTable['output_type'] = 'display_data';\n",
              "          await google.colab.output.renderOutput(dataTable, element);\n",
              "          const docLink = document.createElement('div');\n",
              "          docLink.innerHTML = docLinkHtml;\n",
              "          element.appendChild(docLink);\n",
              "        }\n",
              "      </script>\n",
              "    </div>\n",
              "  </div>\n",
              "  "
            ]
          },
          "metadata": {},
          "execution_count": 3
        }
      ],
      "source": [
        "data = pd.concat([netflix,amazon,hotstar])\n",
        "data.head()"
      ]
    },
    {
      "cell_type": "code",
      "execution_count": 4,
      "metadata": {
        "colab": {
          "base_uri": "https://localhost:8080/"
        },
        "id": "vXQUO2RjNZ71",
        "outputId": "63cba03d-307f-41c4-ac76-71b06cbedc9e"
      },
      "outputs": [
        {
          "output_type": "stream",
          "name": "stdout",
          "text": [
            "<class 'pandas.core.frame.DataFrame'>\n",
            "Int64Index: 19925 entries, 0 to 1449\n",
            "Data columns (total 12 columns):\n",
            " #   Column        Non-Null Count  Dtype \n",
            "---  ------        --------------  ----- \n",
            " 0   show_id       19925 non-null  object\n",
            " 1   type          19925 non-null  object\n",
            " 2   title         19925 non-null  object\n",
            " 3   director      14736 non-null  object\n",
            " 4   cast          17677 non-null  object\n",
            " 5   country       9879 non-null   object\n",
            " 6   date_added    10399 non-null  object\n",
            " 7   release_year  19925 non-null  int64 \n",
            " 8   rating        19581 non-null  object\n",
            " 9   duration      19922 non-null  object\n",
            " 10  listed_in     19925 non-null  object\n",
            " 11  description   19925 non-null  object\n",
            "dtypes: int64(1), object(11)\n",
            "memory usage: 2.0+ MB\n"
          ]
        }
      ],
      "source": [
        "data.info()"
      ]
    },
    {
      "cell_type": "markdown",
      "source": [
        "The dataset contains several missing values, and in order to fill them, we will utilize web scraping and the IMDb API."
      ],
      "metadata": {
        "id": "S3wxVx-Pndzn"
      }
    },
    {
      "cell_type": "markdown",
      "source": [
        "# Importing the Dataset with Imputed Values"
      ],
      "metadata": {
        "id": "Vr0sYh3Bn_yM"
      }
    },
    {
      "cell_type": "code",
      "execution_count": 5,
      "metadata": {
        "id": "SXoHprbafLp9"
      },
      "outputs": [],
      "source": [
        "df = pd.read_csv('https://raw.githubusercontent.com/roshancharlie/Mini-Imdb-Application/main/dataset/final_movie_shows.csv')"
      ]
    },
    {
      "cell_type": "code",
      "execution_count": 6,
      "metadata": {
        "colab": {
          "base_uri": "https://localhost:8080/"
        },
        "id": "9QuiN7ySfThB",
        "outputId": "679f9b64-4e7e-499c-a310-fc908bc29308"
      },
      "outputs": [
        {
          "output_type": "stream",
          "name": "stdout",
          "text": [
            "<class 'pandas.core.frame.DataFrame'>\n",
            "RangeIndex: 20821 entries, 0 to 20820\n",
            "Data columns (total 12 columns):\n",
            " #   Column        Non-Null Count  Dtype \n",
            "---  ------        --------------  ----- \n",
            " 0   show_id       20821 non-null  object\n",
            " 1   type          20821 non-null  object\n",
            " 2   title         20821 non-null  object\n",
            " 3   director      16439 non-null  object\n",
            " 4   cast          20186 non-null  object\n",
            " 5   date_added    10896 non-null  object\n",
            " 6   release_year  20821 non-null  int64 \n",
            " 7   rating        20465 non-null  object\n",
            " 8   duration      20818 non-null  object\n",
            " 9   listed_in     20821 non-null  object\n",
            " 10  description   20821 non-null  object\n",
            " 11  country_y     19579 non-null  object\n",
            "dtypes: int64(1), object(11)\n",
            "memory usage: 1.9+ MB\n"
          ]
        }
      ],
      "source": [
        "df.info()"
      ]
    },
    {
      "cell_type": "markdown",
      "source": [
        "# Data Exploration and Data Preparation"
      ],
      "metadata": {
        "id": "B1j_jZ8DokPn"
      }
    },
    {
      "cell_type": "code",
      "execution_count": 7,
      "metadata": {
        "colab": {
          "base_uri": "https://localhost:8080/"
        },
        "id": "XIaKgJHNfVMC",
        "outputId": "2f825c68-9100-4a37-af94-a69d4697cbf4"
      },
      "outputs": [
        {
          "output_type": "execute_result",
          "data": {
            "text/plain": [
              "array(['Movie', 'TV Show'], dtype=object)"
            ]
          },
          "metadata": {},
          "execution_count": 7
        }
      ],
      "source": [
        "df['type'].unique()"
      ]
    },
    {
      "cell_type": "code",
      "execution_count": 8,
      "metadata": {
        "colab": {
          "base_uri": "https://localhost:8080/"
        },
        "id": "w_byFKQlgJT-",
        "outputId": "8da871ec-6f4a-44e8-aca9-72a8fe6a5bec"
      },
      "outputs": [
        {
          "output_type": "execute_result",
          "data": {
            "text/plain": [
              "array(['The Grand Seduction', 'Take Care Good Night',\n",
              "       'Secrets of Deception', ..., \"Marvel's Rocket & Groot (Shorts)\",\n",
              "       'Spider-Man (Shorts)', 'Star Wars Rebels (Shorts)'], dtype=object)"
            ]
          },
          "metadata": {},
          "execution_count": 8
        }
      ],
      "source": [
        "df['title'].unique()"
      ]
    },
    {
      "cell_type": "code",
      "execution_count": 9,
      "metadata": {
        "colab": {
          "base_uri": "https://localhost:8080/"
        },
        "id": "37g16BYBgNrG",
        "outputId": "5555f353-d1f3-4832-d806-c0ac1132819b"
      },
      "outputs": [
        {
          "output_type": "execute_result",
          "data": {
            "text/plain": [
              "array(['Don McKellar', 'Girish Joshi', 'Josh Webber', ..., 'Mike Jacobs',\n",
              "       'Hart Bochner', 'Ben Fast'], dtype=object)"
            ]
          },
          "metadata": {},
          "execution_count": 9
        }
      ],
      "source": [
        "df['director'].unique()"
      ]
    },
    {
      "cell_type": "code",
      "execution_count": 10,
      "metadata": {
        "colab": {
          "base_uri": "https://localhost:8080/"
        },
        "id": "SY4xLUyqgT--",
        "outputId": "55f70ce6-56b2-4266-f823-5d5a3dd781ee"
      },
      "outputs": [
        {
          "output_type": "execute_result",
          "data": {
            "text/plain": [
              "array(['Brendan Gleeson, Taylor Kitsch, Gordon Pinsent',\n",
              "       'Mahesh Manjrekar, Abhay Mahajan, Sachin Khedekar',\n",
              "       'Tom Sizemore, Lorenzo Lamas, Robert LaSardo, Richard Jones, Yancey Arias, Noel Gugliemi',\n",
              "       ...,\n",
              "       \"['Chukwudi Iwuji', 'Bradley Cooper', 'Pom Klementieff', 'Dave Bautista', 'Karen Gillan', 'Vin Diesel', 'Austin Freeman', 'Stephen Blackehart', 'Terence Rosemore', 'Maria Bakalova', 'Sean Gunn', 'Sarah Alami', 'Jasmine Munoz', 'Chris Pratt', 'Giovannie Cruz', 'Will Poulter', 'Nico Santos', 'Miriam Shor', 'Noa Raskin', 'Linda Cardellini', 'Asim Chaudhry', 'Mikaela Hoover', 'Elizabeth Debicki', 'Judy Greer', 'Reinaldo Faberlle', 'Sylvester Stallone', 'Tara Strong', 'Jared Gore', 'Michael Rosenbaum', 'Elan Gale', 'Molly C. Quinn', 'Gerardo Davila', 'Dee Bradley Baker', 'Zoe Saldana', 'Hanna Pak', 'Jennifer Holland', 'Nathan Fillion', 'Kyle Mclean', 'Benjamin Byron Davis', 'Tiffany Smith', 'Joe Daru', 'Daniela Melchior', 'Jonathan Mercedes', 'Jonathan Fritschi', 'Diego Ward', 'Max Bickelhaup', 'Brandon Morales', 'Renae Moneymaker', 'Alexis Hadesty', 'Tara Warren', 'Candi VandiZandi', 'Grecia Balboa', 'Caleb Spillyards', 'Darla Delgado', 'Michelle Civile', 'Ken Lyle', 'Elodie Clarke', 'John William Wright', 'Autumn Griffin', 'Skylar Huntley', 'Randy Havens', 'Dane DiLiegro', 'Kai Zen', 'Sarah Anne', 'Yael Ocasio', 'Adelynn Spoon', 'Henry Heffernan', 'Brooklyn Skye Oliver', 'Scarlett Blum', 'Alejandro Estevon Angel', 'Emery Grilliot', 'Amelia Waters', 'Lloyd Kaufman', 'Christopher Fairbank', 'Rhett Miller', 'Natalia Safran', 'Murphy Weed', 'Michael Rooker', 'James Gunn', 'Pete Davidson', 'Jessica Fontaine', 'Karen Abercrombie', 'Gregg Henry', 'Adriana Leonard', 'Bonnie Discepolo', 'Clare Grant', 'Grace Gunn', 'Will Gunn', 'Sarah Allyn', 'Thomas R. Baker', 'Jerry Beharry', 'Scarlett Bell', 'Olive Raine Cleope', 'Finn David', 'Sarah Dean', 'Gregory French', 'Seth Green', 'Christina R Gregg', 'Keanu Ham', 'Rowan Delana Howard', 'Elbert Kim', 'Michael Koske', 'Aaliyah Luu', 'C.J. Maxwell', 'Andrew S. McMillan', 'Zachary Ortega', 'Dennice Rivera', 'Casey Shirley', 'Sebastian Soler', 'Liam Stuckey', 'Analisa Wall', 'Ilara Phoenix Williams']\",\n",
              "       \"['Kevin Michael Richardson', 'Trevor Devall']\",\n",
              "       '[\\'Dave Filoni\\', \\'Taylor Gray\\', \\'Freddie Prinze Jr.\\', \\'Vanessa Marshall\\', \\'Steve Blum\\', \\'Tiya Sircar\\', \\'Dee Bradley Baker\\', \\'David Oyelowo\\', \\'Stephen Stanton\\', \\'Keone Young\\', \\'Lars Mikkelsen\\', \\'Mary Elizabeth McGlynn\\', \\'Matthew Wood\\', \\'Ashley Eckstein\\', \\'Clancy Brown\\', \\'Jason Isaacs\\', \\'Keith Szarabajka\\', \\'Sam Witwer\\', \\'David Acord\\', \\'Kath Soucie\\', \\'Phil LaMarr\\', \\'Kevin McKidd\\', \"Liam O\\'Brien\", \\'David Shaughnessy\\', \\'Philip Anthony-Rodriguez\\', \\'Jim Cummings\\', \\'Sarah Michelle Gellar\\', \\'Warwick Davis\\', \\'Tom Baker\\', \\'James Earl Jones\\', \"Genevieve O\\'Reilly\", \\'Nathan Kress\\', \\'Greg Ellis\\', \\'Corey Burton\\', \\'Brent Spiner\\', \\'Dante Basco\\', \\'Michael Bell\\', \\'Gina Torres\\', \\'Ritesh Rajan\\', \\'Forest Whitaker\\', \\'Mario Vernazza\\', \\'Sharmila Devar\\', \\'James Hong\\', \\'Derek Partridge\\', \\'Ian McDiarmid\\', \\'Bonnie Wild\\', \\'Billy Dee Williams\\', \\'Zachary Gordon\\', \\'Greg Weisman\\', \\'Cary-Hiroyuki Tagawa\\']'],\n",
              "      dtype=object)"
            ]
          },
          "metadata": {},
          "execution_count": 10
        }
      ],
      "source": [
        "df['cast'].unique()"
      ]
    },
    {
      "cell_type": "code",
      "execution_count": 11,
      "metadata": {
        "colab": {
          "base_uri": "https://localhost:8080/"
        },
        "id": "phwnvC6qgZGX",
        "outputId": "f9cf478f-3032-4254-b4db-77ef65740756"
      },
      "outputs": [
        {
          "output_type": "execute_result",
          "data": {
            "text/plain": [
              "array([2014, 2018, 2017, 1989, 2016, 1994, 2020, 2019, 1996, 2011, 1991,\n",
              "       2008, 2012, 2002, 1955, 2001, 1995, 2013, 1974, 1963, 1987, 1956,\n",
              "       2004, 2015, 1939, 2007, 2021, 2009, 1997, 1951, 1979, 1971, 1992,\n",
              "       2006, 1988, 1975, 1946, 2005, 2003, 1968, 2010, 1981, 1984, 1993,\n",
              "       1973, 1998, 1986, 1990, 2000, 1967, 1999, 1959, 1962, 1978, 1983,\n",
              "       1982, 1980, 1961, 1985, 1976, 1972, 1964, 1954, 1958, 1970, 1960,\n",
              "       1966, 1969, 1977, 1965, 1945, 1942, 1947, 1944, 1957, 1950, 1952,\n",
              "       1948, 1936, 1935, 1940, 1937, 1938, 1953, 1943, 1928, 1949, 1941,\n",
              "       1934, 1933, 1920, 1932, 1929, 1925, 1924, 1922, 1926, 1930, 1931,\n",
              "       1923, 1927])"
            ]
          },
          "metadata": {},
          "execution_count": 11
        }
      ],
      "source": [
        "df['release_year'].unique()"
      ]
    },
    {
      "cell_type": "code",
      "execution_count": 12,
      "metadata": {
        "colab": {
          "base_uri": "https://localhost:8080/"
        },
        "id": "lD9ynx8xgkbO",
        "outputId": "4269c466-a70f-4f49-b396-838d3caaeaa3"
      },
      "outputs": [
        {
          "output_type": "execute_result",
          "data": {
            "text/plain": [
              "array([nan, '13+', '18+', 'ALL', 'PG-13', 'R', 'G', 'NR', 'PG', '16+',\n",
              "       '7+', 'NOT_RATE', 'TV-MA', 'TV-14', 'TV-PG', 'TV-Y7', 'TV-G',\n",
              "       'TV-Y', 'NC-17', '74 min', '84 min', '66 min', 'TV-Y7-FV', 'UR',\n",
              "       'UNRATED', '16', 'AGES_16_', 'AGES_18_', 'ALL_AGES', 'TV-NR'],\n",
              "      dtype=object)"
            ]
          },
          "metadata": {},
          "execution_count": 12
        }
      ],
      "source": [
        "df['rating'].unique()"
      ]
    },
    {
      "cell_type": "code",
      "execution_count": 13,
      "metadata": {
        "colab": {
          "base_uri": "https://localhost:8080/"
        },
        "id": "Zcy5w689gprd",
        "outputId": "394a3cf7-e5a8-48b9-a876-eccff347db09"
      },
      "outputs": [
        {
          "output_type": "execute_result",
          "data": {
            "text/plain": [
              "array(['113 min', '110 min', '74 min', '69 min', '45 min', '52 min',\n",
              "       '98 min', '131 min', '87 min', '92 min', '88 min', '93 min',\n",
              "       '94 min', '46 min', '96 min', '64 min', '138 min', '90 min',\n",
              "       '151 min', '149 min', '125 min', '121 min', '102 min', '107 min',\n",
              "       '126 min', '142 min', '104 min', '106 min', '159 min', '116 min',\n",
              "       '91 min', '99 min', '61 min', '82 min', '80 min', '89 min',\n",
              "       '77 min', '81 min', '100 min', '101 min', '103 min', '146 min',\n",
              "       '27 min', '132 min', '157 min', '85 min', '127 min', '44 min',\n",
              "       '133 min', '148 min', '119 min', '124 min', '174 min', '137 min',\n",
              "       '68 min', '78 min', '75 min', '134 min', '163 min', '162 min',\n",
              "       '112 min', '114 min', '147 min', '58 min', '139 min', '111 min',\n",
              "       '55 min', '120 min', '136 min', '129 min', '86 min', '153 min',\n",
              "       '166 min', '118 min', '84 min', '135 min', '109 min', '117 min',\n",
              "       '145 min', '53 min', '141 min', '59 min', '167 min', '105 min',\n",
              "       '83 min', '97 min', '155 min', '71 min', '108 min', '67 min',\n",
              "       '150 min', '123 min', '34 min', '140 min', '177 min', '115 min',\n",
              "       '156 min', '154 min', '95 min', '65 min', '130 min', '76 min',\n",
              "       '60 min', '169 min', '158 min', '79 min', '144 min', '165 min',\n",
              "       '73 min', '57 min', '122 min', '56 min', '171 min', '180 min',\n",
              "       '152 min', '164 min', '128 min', '188 min', '187 min', '143 min',\n",
              "       '176 min', '168 min', '190 min', '20 min', '66 min', '72 min',\n",
              "       '185 min', '209 min', '192 min', '170 min', '161 min', '32 min',\n",
              "       '9 Seasons', '182 min', '229 min', '1 Season', '2 Seasons',\n",
              "       '189 min', '7 Seasons', '4 Seasons', '13 min', '49 min', '70 min',\n",
              "       '15 min', '224 min', '173 min', '181 min', '6 Seasons', '24 min',\n",
              "       '22 min', '8 min', '28 min', '50 min', '26 min', '54 min',\n",
              "       '48 min', '42 min', '51 min', '47 min', '33 min', '29 min',\n",
              "       '63 min', '203 min', '25 min', '30 min', '62 min', '194 min',\n",
              "       '5 Seasons', '15 Seasons', '237 min', '195 min', '253 min',\n",
              "       '160 min', '208 min', '172 min', '186 min', '8 Seasons', '193 min',\n",
              "       '17 min', '40 min', '12 min', '214 min', '31 min', '14 min', nan,\n",
              "       '179 min', '38 min', '23 min', '3 Seasons', '43 min', '200 min',\n",
              "       '196 min', '41 min', '37 min', '35 min', '178 min', '228 min',\n",
              "       '18 min', '205 min', '201 min', '191 min', '11 min', '7 min',\n",
              "       '9 min', '6 min', '4 min', '3 min', '2 min', '5 min', '10 min',\n",
              "       '183 min', '175 min', '19 min', '0 min', '39 min', '1 min',\n",
              "       '16 min', '21 min', '550 min', '36 min', '207 min', '540 min',\n",
              "       '269 min', '204 min', '212 min', '233 min', '230 min', '480 min',\n",
              "       '601 min', '541 min', '240 min', '479 min', '481 min', '485 min',\n",
              "       '10 Seasons', '17 Seasons', '13 Seasons', '312 min', '12 Seasons',\n",
              "       '11 Seasons', '32 Seasons', '16 Seasons', '19 Seasons',\n",
              "       '29 Seasons', '21 Seasons', '14 Seasons', '273 min'], dtype=object)"
            ]
          },
          "metadata": {},
          "execution_count": 13
        }
      ],
      "source": [
        "df['duration'].unique()"
      ]
    },
    {
      "cell_type": "code",
      "execution_count": 14,
      "metadata": {
        "colab": {
          "base_uri": "https://localhost:8080/"
        },
        "id": "1rHG7KaJguI1",
        "outputId": "2011008c-ccc9-42a6-ab9e-dcfd74801136"
      },
      "outputs": [
        {
          "output_type": "execute_result",
          "data": {
            "text/plain": [
              "array(['Comedy, Drama', 'Drama, International', 'Action, Drama, Suspense',\n",
              "       ..., 'Anthology, Documentary', 'Animals & Nature, Kids, Music',\n",
              "       'Comedy, Family, Game Show / Competition'], dtype=object)"
            ]
          },
          "metadata": {},
          "execution_count": 14
        }
      ],
      "source": [
        "df['listed_in'].unique()"
      ]
    },
    {
      "cell_type": "code",
      "execution_count": 15,
      "metadata": {
        "colab": {
          "base_uri": "https://localhost:8080/",
          "height": 70
        },
        "id": "X5k89dN-g3Kt",
        "outputId": "23d13d50-1d6e-4115-bbe4-ff52df66eeb1"
      },
      "outputs": [
        {
          "output_type": "execute_result",
          "data": {
            "text/plain": [
              "\"A small fishing village must procure a local doctor to secure a lucrative business contract. When unlikely candidate and big city doctor Paul Lewis lands in their lap for a trial residence, the townsfolk rally together to charm him into staying. As the doctor's time in the village winds to a close, acting mayor Murray French has no choice but to pull out all the stops.\""
            ],
            "application/vnd.google.colaboratory.intrinsic+json": {
              "type": "string"
            }
          },
          "metadata": {},
          "execution_count": 15
        }
      ],
      "source": [
        "df['description'][0]"
      ]
    },
    {
      "cell_type": "code",
      "execution_count": 16,
      "metadata": {
        "colab": {
          "base_uri": "https://localhost:8080/"
        },
        "id": "aZ2cysEwg-IU",
        "outputId": "1cddfdb7-a905-4a15-9804-aed0c18e07cb"
      },
      "outputs": [
        {
          "output_type": "execute_result",
          "data": {
            "text/plain": [
              "array(['Canada', 'India', 'United States', 'United Kingdom', 'France',\n",
              "       'Spain', 'United Kingdom, France', 'United States, Italy',\n",
              "       'United States, India', 'United States, United Kingdom, Germany',\n",
              "       'China, United States, United Kingdom',\n",
              "       'Denmark, United Kingdom, Czech Republic, Netherlands',\n",
              "       'United States, Ireland', 'United Kingdom, United States, India',\n",
              "       'United Kingdom, India', 'United States, China',\n",
              "       'United States, Thailand', 'Brazil, United States, India',\n",
              "       'Pakistan', 'Germany', 'United Kingdom, United States',\n",
              "       'Hong Kong, China', 'Belgium', 'Italy', 'Netherlands',\n",
              "       'Canada, United States', 'United States, United Kingdom',\n",
              "       'United States, Portugal', 'United States, France',\n",
              "       'Canada, United States, Brazil', 'France, United States',\n",
              "       'India, United States', 'India, Sweden',\n",
              "       'United Kingdom, Hungary, United States',\n",
              "       'United Kingdom, France, United States',\n",
              "       'United States, France, Denmark', 'Brazil',\n",
              "       'Ireland, Belgium, France, Luxembourg, United Kingdom',\n",
              "       'United States, Germany, Brazil, Italy', 'South Africa',\n",
              "       'Australia, United States, Germany',\n",
              "       'Germany, Austria, United States',\n",
              "       'France, China, Belgium, Monaco', 'Egypt',\n",
              "       'United States, Austria', 'United States, United Arab Emirates',\n",
              "       'United States, Belgium, Denmark, France', 'Switzerland',\n",
              "       'United States, Canada',\n",
              "       'India, United States, United Kingdom, Canada, China',\n",
              "       'India, South Africa, Brazil', 'United States, Germany',\n",
              "       'Australia', 'United States, Japan, Singapore, South Korea',\n",
              "       'Afghanistan, France', 'Australia, Colombia, United Kingdom',\n",
              "       'United States, Sweden, Norway', 'Kosovo, Netherlands',\n",
              "       'Spain, United Kingdom, Italy', 'Austria', 'United Kingdom, Spain',\n",
              "       'United States, United Kingdom, Kazakhstan', 'Malaysia',\n",
              "       'Poland, United States', 'Canada, Germany', 'India, Denmark',\n",
              "       'United States, Switzerland', 'United States, Germany, Italy',\n",
              "       'Denmark, France', 'Japan, France',\n",
              "       'Kosovo, Albania, United States, Georgia', 'United States, Japan',\n",
              "       'Germany, Canada, United States, France, United Kingdom',\n",
              "       'United States, Mexico',\n",
              "       'United States, Germany, Japan, United Kingdom, Hong Kong',\n",
              "       'Italy, Canada', 'France, Belgium', 'Italy, Spain',\n",
              "       'United States, Ghana, Burkina Faso, United Kingdom, Germany, Ethiopia',\n",
              "       'Germany, Czech Republic', 'United States, India, France',\n",
              "       'China, Canada, United States',\n",
              "       'South Africa, United States, Japan', 'Japan', 'Nigeria',\n",
              "       'Spain, United States', 'United Kingdom, Australia, France',\n",
              "       'United Kingdom, Australia, France, United States',\n",
              "       'Germany, United States', 'South Africa, United States',\n",
              "       'United States, Italy, France, Japan',\n",
              "       'United States, Italy, Romania, United Kingdom',\n",
              "       'Australia, United States', 'Argentina, Venezuela',\n",
              "       'United States, United Kingdom, Canada', 'China, Hong Kong',\n",
              "       'Hong Kong', 'United States, China, Hong Kong',\n",
              "       'Italy, United States', 'United Kingdom, Canada, United States',\n",
              "       'India, Nepal', 'New Zealand, Australia, France, United States',\n",
              "       'Italy, Brazil, Greece', 'Colombia', 'Mexico',\n",
              "       'Switzerland, United Kingdom, Australia', 'Argentina',\n",
              "       'Argentina, Spain', 'United States, Nigeria', 'Taiwan',\n",
              "       'Bulgaria, United States', 'Spain, United Kingdom, United States',\n",
              "       'Spain, France, United Kingdom, United States',\n",
              "       ', France, Algeria', 'Poland',\n",
              "       'France, Israel, Germany, United States, United Kingdom',\n",
              "       'New Zealand', 'Saudi Arabia', 'Thailand', 'Indonesia',\n",
              "       'Hong Kong, Canada, United States', 'Kuwait, United States',\n",
              "       'France, Canada, United States, Spain',\n",
              "       'France, Netherlands, Singapore', 'South Korea, Czech Republic',\n",
              "       'South Korea', 'Vietnam', 'United Kingdom, Belgium',\n",
              "       'United Kingdom, Australia, United States',\n",
              "       'France, Japan, United States',\n",
              "       'United Kingdom, Germany, Spain, United States',\n",
              "       'United Kingdom, United States, France, Italy',\n",
              "       'United States, Germany, Canada',\n",
              "       'United States, France, Italy, United Kingdom',\n",
              "       'United States, United Kingdom, Germany, Hungary',\n",
              "       'United States, New Zealand', 'Lebanon', 'Romania',\n",
              "       'Lebanon, Syria', 'Philippines',\n",
              "       'Philippines, Singapore, Indonesia',\n",
              "       'China, United States, Canada', 'Lebanon, United Arab Emirates',\n",
              "       'Canada, United States, Denmark', 'Denmark',\n",
              "       'United Arab Emirates', 'Mexico, France, Colombia', 'Sweden',\n",
              "       'Germany, United States, France', 'United States, Bulgaria',\n",
              "       'United Kingdom, France, Germany, United States',\n",
              "       'Syria, France, Lebanon, Qatar', 'Belgium, Netherlands',\n",
              "       'Mauritius', 'Canada, South Africa', 'Mexico, Brazil', 'China',\n",
              "       'Turkey', 'Germany, France',\n",
              "       'United Kingdom, France, Spain, United States',\n",
              "       'United States, Australia',\n",
              "       'United States, United Kingdom, France', 'United States, Russia',\n",
              "       'United States, United Kingdom, New Zealand',\n",
              "       'Canada, Nigeria, United States',\n",
              "       'France, United States, United Kingdom, Canada',\n",
              "       'India, United Kingdom', 'Canada, United States, Mexico',\n",
              "       'United Kingdom, Germany, United States',\n",
              "       'Czech Republic, United Kingdom, United States', 'China, Taiwan',\n",
              "       'Cameroon', 'Japan, United States', 'Egypt, Saudi Arabia',\n",
              "       'United Kingdom, France, Poland, Germany, United States',\n",
              "       'Ireland, Switzerland, United Kingdom, France, United States',\n",
              "       'China, United Kingdom', 'United Kingdom, South Africa, France',\n",
              "       'Ireland, United Kingdom, France, Germany',\n",
              "       'Russia, United States', 'United Kingdom, United States, France',\n",
              "       'United Kingdom,', 'United States, India, United Kingdom', 'Kenya',\n",
              "       'Spain, Argentina', 'India, United Kingdom, France, Qatar',\n",
              "       'Belgium, France', 'Argentina, Chile', 'Chile, Brazil',\n",
              "       'Canada, United States, United Kingdom',\n",
              "       'United States, Cambodia, Romania', 'Bangladesh',\n",
              "       'Spain, Belgium, United States',\n",
              "       'United Kingdom, United States, Australia',\n",
              "       'Portugal, United States', 'Portugal, Spain',\n",
              "       'United Kingdom, Ireland', 'United Kingdom, Spain, United States',\n",
              "       'Hungary, United States', 'United States, South Korea',\n",
              "       'Canada, United States, Cayman Islands', 'India, France',\n",
              "       'France, Canada', 'Canada, Hungary, United States', 'Norway',\n",
              "       'Canada, United Kingdom, United States',\n",
              "       'CanadaUnited KingdomUnited States[1]',\n",
              "       'United Kingdom, Germany, France, United States',\n",
              "       'France, Algeria',\n",
              "       'Philippines, Canada, United Kingdom, United States',\n",
              "       'Ireland, France, Iceland, United States, Mexico, Belgium, United Kingdom, Hong Kong',\n",
              "       'Singapore', 'Iceland', 'United States, France, Serbia',\n",
              "       'Hong Kong, United States',\n",
              "       'United States, Malta, France, United Kingdom',\n",
              "       'United States, China, Canada', 'Spain, France, Canada',\n",
              "       'United States, China, Colombia', 'Spain, Thailand, United States',\n",
              "       'Mexico, Spain', 'Ireland, Luxembourg, Belgium',\n",
              "       'China, United States', 'Canada, Belgium',\n",
              "       'Canada, United Kingdom',\n",
              "       'Lebanon, United Arab Emirates, France, Switzerland, Germany',\n",
              "       'France, Belgium, Italy',\n",
              "       'Lebanon, United States, United Arab Emirates', 'Lebanon, France',\n",
              "       'France, Lebanon', 'France, Lebanon, United Kingdom',\n",
              "       'France, Norway, Lebanon, Belgium', 'Lebanon, Canada, France',\n",
              "       'Sweden, Czech Republic, United Kingdom, Denmark, Netherlands',\n",
              "       'United States, United Kingdom, India', 'Indonesia, Netherlands',\n",
              "       'Turkey, South Korea', 'Russia', 'Serbia, United States',\n",
              "       'Namibia', 'United Kingdom, Kenya',\n",
              "       'United Kingdom, France, United States, Belgium, Luxembourg, China, Germany',\n",
              "       'United States, France, Canada, Belgium',\n",
              "       'Germany, China, United Kingdom',\n",
              "       'Hong Kong, Iceland, United States',\n",
              "       'United States, Belgium, Canada, France', 'South Africa, Angola',\n",
              "       'United States, Philippines',\n",
              "       'United States, United Kingdom, Canada, China',\n",
              "       'United States, Canada, United Kingdom', 'Uruguay',\n",
              "       'Turkey, United States', 'Peru, Germany, Norway', 'Mozambique',\n",
              "       'Brazil, France', 'China, Spain, South Korea, United States',\n",
              "       'Spain, Germany', 'France, Belgium, Luxembourg, Cambodia,',\n",
              "       'Indonesia, United Kingdom',\n",
              "       'Switzerland, France, Belgium, United States', 'Ghana',\n",
              "       'United Kingdom, Nigeria', 'Chile', 'France, Egypt',\n",
              "       'Egypt, France', 'France, Brazil, Spain, Belgium',\n",
              "       'Egypt, Algeria', 'Canada, South Korea, United States',\n",
              "       'Nigeria, United Kingdom',\n",
              "       'United Arab Emirates, Jordan, Lebanon, Saudi Arabia',\n",
              "       'Saudi Arabia, United Arab Emirates', 'Zimbabwe',\n",
              "       'United Kingdom, Germany, United Arab Emirates, New Zealand',\n",
              "       'Romania, United States', 'Mexico, United States', 'Kuwait',\n",
              "       'Canada, Nigeria',\n",
              "       'Saudi Arabia, Netherlands, Germany, Jordan, United Arab Emirates, United States',\n",
              "       'United Kingdom, Germany, United States, France',\n",
              "       'India, United Kingdom, China, Canada, Japan, South Korea, United States',\n",
              "       'Turkey, India', 'Italy, Turkey',\n",
              "       'United Kingdom, United States, Japan',\n",
              "       'France, Belgium, United States', 'Uruguay, Argentina',\n",
              "       'United States, United Kingdom, Japan', 'United Kingdom, Italy',\n",
              "       'Ireland, United Kingdom',\n",
              "       'United Kingdom, France, Belgium, Canada, United States',\n",
              "       'Netherlands, Germany, Denmark, United Kingdom', 'Hungary',\n",
              "       'South Korea, United States',\n",
              "       'Romania, France, Switzerland, Germany',\n",
              "       'France, Malta, United States',\n",
              "       'United Kingdom, France, Belgium, Ireland, United States',\n",
              "       'United States, Norway, Canada', 'Kenya, United States',\n",
              "       'France, South Korea, Japan, United States', 'Taiwan, Malaysia',\n",
              "       'Uruguay, Argentina, Germany, Spain',\n",
              "       'United States, United Kingdom, France, Germany, Japan',\n",
              "       'United States, France, Japan', 'Spain, France, United States',\n",
              "       'Indonesia, South Korea, Singapore', 'United States, Spain',\n",
              "       'Argentina, Uruguay, Serbia', 'Israel, United States',\n",
              "       'France, Japan',\n",
              "       'United Kingdom, United States, Germany, Denmark, Belgium, Japan',\n",
              "       'India, Germany', 'India, United Kingdom, Canada, United States',\n",
              "       'Philippines, United States', 'Romania, Bulgaria, Hungary',\n",
              "       'Uruguay, Guatemala', 'France, Senegal, Belgium', 'Canada, Norway',\n",
              "       'United States, Chile', 'United Kingdom, Japan, United States',\n",
              "       'Spain, United Kingdom', 'United States, South Korea, Japan',\n",
              "       'United Kingdom, Hungary, Australia', 'Italy, Belgium',\n",
              "       'Singapore, Malaysia',\n",
              "       'France, Belgium, Luxembourg, Romania, Canada, United States',\n",
              "       'South Africa, Nigeria', 'Spain, France',\n",
              "       'Denmark, Brazil, France, Portugal, Sweden', 'India, Turkey',\n",
              "       'Philippines, Singapore', 'Taiwan, China, France, United States',\n",
              "       'Colombia, Peru, United Kingdom', 'Thailand, China, United States',\n",
              "       'Argentina, United States', 'Uruguay, Spain, Mexico',\n",
              "       'France, Luxembourg, Canada', 'Chile, Argentina', 'Italy, France',\n",
              "       'Pakistan, United Arab Emirates', 'Ghana, United States',\n",
              "       'Mexico, Finland', 'United Arab Emirates, United Kingdom, India',\n",
              "       'Netherlands, Belgium', 'United States, Taiwan',\n",
              "       'United Kingdom, Malawi', 'Paraguay, Argentina',\n",
              "       'United Kingdom, Russia, United States', 'India, Pakistan',\n",
              "       'Indonesia, Singapore', 'Spain, Belgium',\n",
              "       'Iceland, Sweden, Belgium', 'Uruguay, Argentina, Spain',\n",
              "       'United Kingdom, Ireland, United States',\n",
              "       'Canada, Germany, France, United States', 'United Kingdom, Japan',\n",
              "       'Norway, Denmark, Netherlands, Sweden',\n",
              "       'Hong Kong, China, United States', 'Ireland, Canada',\n",
              "       'Italy, Switzerland, France, Germany', 'Mexico, Netherlands',\n",
              "       'Ukraine', 'France, Iran, United States', 'Russia, Poland, Serbia',\n",
              "       'Spain, Portugal', 'Peru', 'Mexico, Argentina',\n",
              "       'United Kingdom, Canada, United States, Cayman Islands',\n",
              "       'Indonesia, United States',\n",
              "       'United States, Israel, United Kingdom, Canada',\n",
              "       'Norway, Iceland, United States',\n",
              "       'United Kingdom, India, United States', 'India, Australia',\n",
              "       'Belgium, United Kingdom, United States',\n",
              "       'India, Germany, Austria', 'Spain, Mexico', 'China, Japan',\n",
              "       'Argentina, France', 'France, Luxembourg, United States',\n",
              "       'China, United States, Australia', 'Colombia, Mexico',\n",
              "       'United States, Canada, Ireland', 'Israel', 'Chile, Peru',\n",
              "       'Canada, Japan, United States',\n",
              "       'United Kingdom, Canada, United States, Germany',\n",
              "       'Italy, Switzerland, Albania, Poland', 'Cambodia',\n",
              "       'United States, Canada, Indonesia, United Kingdom, China, Singapore',\n",
              "       'Spain, Colombia', 'Bulgaria',\n",
              "       'Argentina, Brazil, France, Poland, Germany, Denmark',\n",
              "       'United Kingdom, Spain, United States, Germany',\n",
              "       'Philippines, Qatar', 'Netherlands, Belgium, Germany, Jordan',\n",
              "       'United Arab Emirates, United States', 'United Kingdom, Germany',\n",
              "       'United Kingdom, Canada', 'Soviet Union, India',\n",
              "       'Australia, United Arab Emirates', 'Czech Republic, United States',\n",
              "       'South Korea, China, United States', 'India, Soviet Union',\n",
              "       'India, Mexico', 'Georgia, Germany, France',\n",
              "       'United Arab Emirates, Romania', 'Australia, Canada',\n",
              "       'India, Malaysia', 'Germany, Jordan, Netherlands',\n",
              "       'Turkey, France, Germany, Poland', 'Norway, Germany',\n",
              "       'France, Morocco', 'Cambodia, United States',\n",
              "       'United Kingdom, Italy, Israel, Peru, United States',\n",
              "       'Argentina, Uruguay, Spain, France',\n",
              "       'United Kingdom, France, United States, Belgium',\n",
              "       'France, Canada, China, Cambodia',\n",
              "       'United Kingdom, France, Belgium, United States', 'Ireland',\n",
              "       'Chile, France', 'France, United Kingdom, India',\n",
              "       'Czech Republic, Slovakia', 'Singapore, France',\n",
              "       'Spain, Switzerland', 'South Africa, United States, Germany',\n",
              "       'Spain, Italy, Argentina', 'Chile, Spain, Argentina, Germany',\n",
              "       'Austria, Czech Republic', 'Lebanon, Qatar',\n",
              "       'United Kingdom, Jordan, Qatar, Iran',\n",
              "       'France, South Korea, Japan', 'Israel, Germany, France',\n",
              "       'United States, Hungary', 'France, Qatar',\n",
              "       'United Kingdom, Germany, Canada', 'Ireland, South Africa',\n",
              "       'Chile, United States, France', 'Belgium, France, Netherlands',\n",
              "       'United States, Bermuda, Ecuador',\n",
              "       'United Kingdom, Egypt, United States',\n",
              "       'United States, France, United Kingdom', 'Spain, Mexico, France',\n",
              "       'United States, South Africa', 'Hong Kong, China, Singapore',\n",
              "       'South Africa, China, United States', 'Denmark, France, Poland',\n",
              "       'New Zealand, United Kingdom',\n",
              "       'Netherlands, Denmark, South Africa', 'Iran, France',\n",
              "       'United Kingdom, United States, France, Germany',\n",
              "       'Australia, France', 'Ireland, United Kingdom, United States',\n",
              "       'Spain, Italy', 'United Kingdom, France, Germany',\n",
              "       'Canada, Luxembourg',\n",
              "       'Brazil, Netherlands, United States, Colombia, Austria, Germany',\n",
              "       'France, Canada, Belgium',\n",
              "       'Bulgaria, United States, Spain, Canada', 'Sweden, Netherlands',\n",
              "       'France, United States, Mexico',\n",
              "       'Australia, United Kingdom, United Arab Emirates, Canada',\n",
              "       'Singapore, United States', 'India, Iran',\n",
              "       'France, Belgium, Spain', 'Denmark, Sweden, Israel, United States',\n",
              "       'United States, Iceland', 'United Kingdom, Russia',\n",
              "       'United States, Israel, Italy, South Africa', 'South Korea, Japan',\n",
              "       'United Kingdom, Pakistan',\n",
              "       'United Kingdom, Czech Republic, United States, Germany, Bahamas',\n",
              "       'Germany, Sri Lanka', 'United States, Sweden',\n",
              "       'United States, India, Bangladesh',\n",
              "       'United States, Canada, France', 'Brazil, France, Germany',\n",
              "       'United States, United Kingdom, Australia',\n",
              "       'Germany, United States, Hong Kong, Singapore',\n",
              "       'France, Germany, Switzerland',\n",
              "       'Germany, France, Luxembourg, United Kingdom, United States',\n",
              "       'United Kingdom, Canada, Italy',\n",
              "       'Taiwan, Hong Kong, United States, China', 'Germany, Australia',\n",
              "       'United Kingdom, Poland, United States',\n",
              "       'United Kingdom, South Africa',\n",
              "       'Finland, Sweden, Norway, Latvia, Germany',\n",
              "       'South Africa, United States, New Zealand, Canada',\n",
              "       'United States, Italy, United Kingdom, Liechtenstein',\n",
              "       'Denmark, France, Belgium, Italy, Netherlands, United States, United Kingdom',\n",
              "       'United States, Australia, Mexico',\n",
              "       'United Kingdom, Czech Republic, Germany, United States',\n",
              "       'France, China, Japan, United States', 'Germany, Belgium',\n",
              "       'Pakistan, Norway, United States',\n",
              "       'United States, Canada, Belgium, United Kingdom', 'Venezuela',\n",
              "       'Canada, Spain, France', 'United States, Indonesia',\n",
              "       'Spain, France, Italy',\n",
              "       'United Arab Emirates, United States, United Kingdom',\n",
              "       'United States, Brazil', 'United States, France, Mexico',\n",
              "       'United States, Nicaragua',\n",
              "       'France, United Kingdom, United States',\n",
              "       'United Kingdom, United States, Spain, Germany, Greece, Canada',\n",
              "       'Portugal', 'Italy, Canada, France', 'Thailand, United States',\n",
              "       'United Kingdom, Denmark, Canada, Croatia',\n",
              "       'United States, France, United Kingdom, Japan',\n",
              "       'United States, United Kingdom, Denmark, Sweden',\n",
              "       'United States, United Kingdom, Italy',\n",
              "       'United States, France, Canada, Spain',\n",
              "       'Russia, United States, China', 'United States, Canada, Germany',\n",
              "       'Ireland, United States', 'Poland,',\n",
              "       'Slovenia, Croatia, Germany, Czech Republic, Qatar',\n",
              "       'United States, Spain, Germany', 'India, Japan',\n",
              "       'United Kingdom, France, Belgium',\n",
              "       'Canada, Ireland, United States',\n",
              "       'United Kingdom, United States, Dominican Republic',\n",
              "       'Germany, United Kingdom, United States',\n",
              "       'South Africa, Germany, Netherlands, France',\n",
              "       'Ireland, United States, France', 'Germany, United States, Canada',\n",
              "       'United Kingdom, Germany, Canada, United States',\n",
              "       'United States, France, Canada, Lebanon, Qatar',\n",
              "       'Netherlands, Belgium, United Kingdom, United States',\n",
              "       'France, Belgium, China, United States',\n",
              "       'United States, Chile, Israel',\n",
              "       'United Kingdom, Norway, Denmark, Germany, Sweden',\n",
              "       'Norway, Denmark, Sweden', 'China, India, Nepal',\n",
              "       'Colombia, Mexico, United States', 'United Kingdom, South Korea',\n",
              "       'United States, Greece, Brazil', 'Germany, United Kingdom', nan,\n",
              "       'Argentina, Chile, Peru', 'Poland, West Germany', 'Canada, Spain',\n",
              "       'United States, Cambodia', 'United States, Greece',\n",
              "       'Norway, United Kingdom, France, Ireland',\n",
              "       'United Kingdom, Poland', 'Pakistan, United States',\n",
              "       'Israel, Sweden, Germany, Netherlands', 'Switzerland, France',\n",
              "       'Chile, Argentina, France, Spain, United States',\n",
              "       'United States, India, South Korea, China',\n",
              "       'Denmark, Germany, Belgium, United Kingdom, France',\n",
              "       'Denmark, Germany, Belgium, United Kingdom, France, Sweden',\n",
              "       'France, Switzerland, Spain, United States, United Arab Emirates',\n",
              "       'Brazil, India, China, United States',\n",
              "       'Denmark, France, United States, Sweden', 'Australia, Iraq',\n",
              "       'China, Morocco, Hong Kong', 'Canada, United States, Germany',\n",
              "       'United Kingdom, Thailand',\n",
              "       'France, Germany, Czech Republic, Belgium',\n",
              "       'Switzerland, Vatican City, Italy, Germany, France',\n",
              "       'Portugal, France, Poland, United States', 'India, Switzerland',\n",
              "       'Canada, India', 'United States, Morocco',\n",
              "       'Singapore, Japan, France',\n",
              "       'Canada, Mexico, Germany, South Africa',\n",
              "       'United Kingdom, United States, Canada',\n",
              "       'Germany, France, United States, Canada, United Kingdom',\n",
              "       'India, Canada', 'Ireland, Canada, United Kingdom, United States',\n",
              "       'United States, Germany, Australia', 'Australia, France, Ireland',\n",
              "       'Australia, India', 'United States, United Kingdom, Canada, Japan',\n",
              "       'Sweden, United Kingdom, Finland', 'Hong Kong, Taiwan',\n",
              "       'United States, United Kingdom, Spain, South Korea', 'Guatemala',\n",
              "       'United States, Germany, United Kingdom, Australia',\n",
              "       'Italy, France, Switzerland', 'Canada, France, United States',\n",
              "       'Switzerland, United States', 'Thailand, Canada, United States',\n",
              "       'China, Hong Kong, United States', 'United Kingdom, New Zealand',\n",
              "       'Czech Republic, United Kingdom, France',\n",
              "       'Australia, United Kingdom, Canada', 'Jamaica, United States',\n",
              "       'Jamaica', 'Australia, United Kingdom',\n",
              "       'United Kingdom, France, Canada, Belgium, United States',\n",
              "       'Denmark, United Kingdom, Sweden', 'United States, Hong Kong',\n",
              "       'Argentina, France, United States, Germany, Qatar',\n",
              "       'United States, Germany, United Kingdom',\n",
              "       'United States, Germany, United Kingdom, Italy',\n",
              "       'United States, New Zealand, United Kingdom',\n",
              "       'Finland, United States', 'Spain, France, Uruguay',\n",
              "       'France, Canada, United States', 'United States, Canada, China',\n",
              "       'Ireland, Canada, Luxembourg, United States, United Kingdom, Philippines, India',\n",
              "       'United States, Czech Republic, United Kingdom', 'Israel, Germany',\n",
              "       'Mexico, France',\n",
              "       'Israel, Germany, Poland, Luxembourg, Belgium, France, United States',\n",
              "       'Austria, United States', 'United Kingdom, Lithuania',\n",
              "       'United States, Greece, United Kingdom',\n",
              "       'United Kingdom, China, United States, India',\n",
              "       'United Kingdom, United States, Morocco',\n",
              "       'United States, United Kingdom, Morocco',\n",
              "       'Spain, Canada, United States',\n",
              "       'United States, India, United Arab Emirates',\n",
              "       'United Kingdom, Canada, France, United States',\n",
              "       'Belgium, Ireland, Netherlands, Germany, Afghanistan',\n",
              "       'France, Canada, Italy, United States, China',\n",
              "       'Ireland, United Kingdom, Greece, France, Netherlands',\n",
              "       'New Zealand, United States',\n",
              "       'United States, Australia, South Africa, United Kingdom',\n",
              "       'United States, Germany, Mexico', 'United States, Czech Republic',\n",
              "       'Somalia, Kenya, Sudan, South Africa, United States',\n",
              "       'United States, Canada, Japan, Panama',\n",
              "       'United Kingdom, Spain, Belgium', 'Serbia, South Korea, Slovenia',\n",
              "       'Denmark, United Kingdom, South Africa, Sweden, Belgium',\n",
              "       'Germany, Canada, United States',\n",
              "       'New Zealand, United Kingdom, Australia',\n",
              "       'United Kingdom, Australia, Canada, United States',\n",
              "       'United Kingdom, China, United States',\n",
              "       'United Kingdom, Brazil, Germany',\n",
              "       'Canada, United States, India, United Kingdom',\n",
              "       'Switzerland, United Kingdom, United States',\n",
              "       'United Kingdom, India, Sweden', 'United States, Argentina',\n",
              "       'Germany, United States, United Kingdom, Canada',\n",
              "       'United States, East Germany, West Germany',\n",
              "       'Egypt, Austria, United States',\n",
              "       'Croatia, Slovenia, Serbia, Montenegro',\n",
              "       'United Arab Emirates, Jordan',\n",
              "       'Ireland, United States, Canada, United Kingdom, Denmark, Spain, Poland, Hungary',\n",
              "       'United States, United Kingdom, Hungary',\n",
              "       'United States, Canada, United Kingdom, Singapore, Australia, Thailand',\n",
              "       'United Kingdom, United States, Canada, Ireland',\n",
              "       'United States, United Kingdom, Belgium, Canada',\n",
              "       'Austria, South Africa', 'United States, Canada, Hong Kong',\n",
              "       'India, Germany, France',\n",
              "       'United States, Germany, Ireland, United Kingdom',\n",
              "       'United States, United Kingdom, South Africa',\n",
              "       'United States, Australia, France, Canada',\n",
              "       'United States, Hungary, United Kingdom',\n",
              "       'Tanzania, United States', 'United States, Panama, Mexico',\n",
              "       'United States, United Kingdom, Australia, Canada',\n",
              "       'Canada, United States, France',\n",
              "       'United States, Angola, Botswana, Namibia, South Africa',\n",
              "       'Denmark, China',\n",
              "       'United States, South Korea, Singapore, Russia, Malaysia, Kazakhstan, Taiwan, Hong Kong, Japan, China, India, Syria, Iran, Egypt, Pakistan',\n",
              "       'United States, Canada, Australia', 'United States, Taiwan, China',\n",
              "       'Canada, Malaysia, United States', 'Norway, Sweden, United States',\n",
              "       'United States, Poland, Slovenia, Czech Republic, United Kingdom',\n",
              "       'United States, Canada, Australia, Taiwan',\n",
              "       'Austria, United Kingdom, United States',\n",
              "       'United States, Spain, France, Canada, United Kingdom',\n",
              "       'West Germany', 'Bahamas', 'Luxembourg', 'Aruba', 'Finland',\n",
              "       'France, Australia, Germany', 'United States\\nCanada',\n",
              "       'Yugoslavia', 'Czechia', 'United States\\nItaly',\n",
              "       'CanadaFranceSouth Africa', 'Armenia', 'Iran', 'Serbia', 'Panama',\n",
              "       'Czechoslovakia', 'Nepal', 'Costa Rica', 'Slovakia', 'Bolivia',\n",
              "       'USA', 'Ecuador', 'United StatesCanada', 'Mongolia', 'Malta',\n",
              "       'Canada\\nAustralia\\nUnited States', 'Greece', 'Isle of Man',\n",
              "       'Australia, United Kingdom, United States, New Zealand, Italy, France',\n",
              "       'Soviet Union', 'Puerto Rico', 'Syria', 'Estonia', 'Croatia',\n",
              "       'Honduras', 'United StatesNew Zealand',\n",
              "       'United Kingdom, Namibia, South Africa, Zimbabwe, United States',\n",
              "       'United KingdomUnited States', 'Palestinian Territories',\n",
              "       'Morocco', 'Switzerland, India', 'Denmark, Sweden, United States',\n",
              "       'Belgium, United Kingdom', 'Egypt, Denmark, Germany',\n",
              "       'United States, Brazil, Japan, Spain, India',\n",
              "       'United States, China, United Kingdom',\n",
              "       'Lebanon, Palestine, Denmark, Qatar',\n",
              "       'Spain, France, Canada, United States', 'Romania, United Kingdom',\n",
              "       'Spain, Germany, Denmark, United States',\n",
              "       'Finland, Germany, Belgium', 'Brazil, United States',\n",
              "       'Germany, Italy', 'Sweden, United States', 'Denmark, Spain',\n",
              "       'United Kingdom, Belgium, Sweden', 'Austria, Iraq, United States',\n",
              "       'United States,', 'Argentina, Italy',\n",
              "       'Italy, United States, Argentina', 'Georgia',\n",
              "       'Greece, United States', 'United States, Denmark',\n",
              "       'Netherlands, United States', 'United States, Australia, China',\n",
              "       'Denmark, United States', 'United Kingdom, Ukraine, United States',\n",
              "       'Australia, Armenia, Japan, Jordan, Mexico, Mongolia, New Zealand, Philippines, South Africa, Sweden, United States, Uruguay',\n",
              "       'Netherlands, Denmark, France, Germany', 'France, New Zealand',\n",
              "       'China, Germany, India, United States', 'Czech Republic, France',\n",
              "       'Denmark, Zimbabwe',\n",
              "       'Canada, France, Italy, Morocco, United States',\n",
              "       'United Kingdom, Israel, Russia',\n",
              "       'Ireland, United Kingdom, Italy, United States',\n",
              "       'Canada, United Kingdom, Netherlands',\n",
              "       'China, South Korea, United States', 'United States, Senegal',\n",
              "       'United States, Australia, Samoa, United Kingdom',\n",
              "       'Germany, United States, Sweden', 'Italy, India',\n",
              "       'United States, Botswana', 'Venezuela, Colombia',\n",
              "       'United States, Uruguay', 'United States, Kazakhstan',\n",
              "       'Denmark, Indonesia, Finland, Norway, United Kingdom, Israel, France, United States, Germany, Netherlands',\n",
              "       'United States, Venezuela', 'United Kingdom, Canada, Japan',\n",
              "       'United States, Brazil, India, Uganda, China',\n",
              "       'Peru, United States, United Kingdom',\n",
              "       'Canada, India, Thailand, United States, United Arab Emirates',\n",
              "       'France, Netherlands, South Africa, Finland', 'Latvia',\n",
              "       'Chile, Argentina, United States', 'Czech Republic, Germany',\n",
              "       'United States, Singapore', ', South Korea',\n",
              "       'Italy\\nUnited States (revived series)[1][2]', 'Jordan',\n",
              "       'Ireland, United States, United Kingdom', 'Australia, New Zealand',\n",
              "       'Australia, Germany', 'United StatesIreland', 'Finland, Germany',\n",
              "       'Norway, Denmark', 'France, United Kingdom',\n",
              "       'Italy, United Kingdom', 'United States, Colombia', 'Senegal',\n",
              "       'United Kingdom, Finland, Germany, United States, Australia, Japan, France, Ireland',\n",
              "       'United Kingdom[1]',\n",
              "       'United States, Ireland, United Kingdom, India',\n",
              "       'United Kingdom, Singapore', 'Canada, United States, Ireland',\n",
              "       'Japan, Canada, United States',\n",
              "       'Denmark, Singapore, Canada, United States',\n",
              "       'France\\nUnited States', 'United Kingdom, France, Germany, Spain',\n",
              "       'United Kingdom, China', 'Australia, New Zealand, United States',\n",
              "       'United Kingdom, Australia', 'Belarus',\n",
              "       'Belarus (2015-22)Poland (2022-)', 'United States, France, Canada',\n",
              "       'United States, Mexico, Spain, Malta', 'Finland, France',\n",
              "       'Italy, United Kingdom, France', 'United States, Mexico, Colombia',\n",
              "       'Puerto Rico, United States, Colombia', 'Austria, Germany',\n",
              "       'Taiwan, China', 'United Kingdom, United States, Ireland',\n",
              "       'Brazil, United Kingdom', 'Cyprus',\n",
              "       'Netherlands, Germany, Italy, Canada', 'Norway, Sweden',\n",
              "       'South Korea, Canada, United States, China',\n",
              "       'South KoreaChinaCanada[citation needed]',\n",
              "       'Mauritius, South Africa', 'United States, Poland',\n",
              "       'Mexico, United States, Spain, Colombia',\n",
              "       'Argentina, United States, Mexico', 'Canada, Australia',\n",
              "       'United Kingdom, Hong Kong', 'Malaysia, Singapore, Hong Kong',\n",
              "       'Canada, Brazil', 'United Kingdom, West Germany',\n",
              "       'United States, Brazil, South Korea, Mexico, Japan, Germany',\n",
              "       'United States, Japan, Canada',\n",
              "       'Saudi Arabia, Syria, Egypt, Lebanon, Kuwait',\n",
              "       'United Kingdom, South Africa, Australia, United States',\n",
              "       'Norway, Germany, Sweden', 'South Korea, China',\n",
              "       'Canada, Germany, South Africa', 'United States, Colombia, Mexico',\n",
              "       'Canada, Japan, Netherlands', 'Germany, Australia, France, China',\n",
              "       'Norway, United States', 'United States, Hungary, Ireland, Canada',\n",
              "       'Canada, France', 'United States, South Korea, China',\n",
              "       'Spain, Cuba', 'Italy, Germany',\n",
              "       'Canada, United States, United Kingdom, France, Luxembourg',\n",
              "       'South Korea, France', 'Turkey, Azerbaijan',\n",
              "       'United StatesUnited Kingdom (Full Series)[1]',\n",
              "       'Colombia, United States', 'United States, New Zealand, Japan',\n",
              "       'United States, Netherlands, Japan, France',\n",
              "       'Italy, South Africa, West Germany, Australia, United States',\n",
              "       'France, United States, Canada',\n",
              "       'South Korea\\nChina\\nUnited States',\n",
              "       'Ireland, Canada, United States, United Kingdom',\n",
              "       'Germany, United States, Italy', 'Russia, Spain', 'Japan, Canada',\n",
              "       'United States, France, South Korea, Indonesia', 'FranceCanada',\n",
              "       'South Korea, United States, China, Japan',\n",
              "       'United States, United Kingdom, South Korea', 'Argentina, Mexico',\n",
              "       'Ireland, United Kingdom, United States, South Korea, Canada',\n",
              "       'United States, South Korea, France',\n",
              "       'United States, Hong Kong, South Korea, France, Canada, China, United Kingdom, Australia, Japan, Taiwan, Philippines',\n",
              "       'United States, Taiwan, South Korea, China, Japan, United Kingdom',\n",
              "       'United States, Philippines, South Korea',\n",
              "       'United States, Guatemala',\n",
              "       'United States, South Korea, China, Taiwan',\n",
              "       'United States\\nFrance', 'France\\nCanada (season 3–5)',\n",
              "       'Sweden\\nUnited States',\n",
              "       'Original series:Switzerland\\nRevival series:United Kingdom',\n",
              "       'United Kingdom\\nUnited States', 'CanadaUnited States',\n",
              "       'South KoreaSingapore', 'England', 'AustraliaUnited States',\n",
              "       'United States\\nSingapore\\nCanada', 'United StatesUnited Kingdom',\n",
              "       'United KingdomCanada (seasons 3-4)', 'USA & Canada',\n",
              "       'United States\\nUnited Kingdom\\nAustria', 'CanadaUnited Kingdom',\n",
              "       'Canada\\nUnited States', 'CanadaHong Kong',\n",
              "       'SpainItaly (Season 1)Philippines (Season 1)Ireland (Season 2)India (Season 2)',\n",
              "       'CanadaFrance', 'Canada\\nChina', 'United Kingdom / US',\n",
              "       'United KingdomSingapore', 'United KingdomCanada',\n",
              "       'Dominican Republic', 'CanadaLuxembourg',\n",
              "       'JapanCanadaUnited StatesAustralia', 'Australia\\nCanada',\n",
              "       'United States\\nIreland', 'Republic of China (Taiwan)', 'Bahrain',\n",
              "       'SingaporeChina', 'MalaysiaSingapore',\n",
              "       'Various participating countries', 'Asia', 'United StatesJapan',\n",
              "       'United Kingdom\\nNew Zealand\\nUnited States',\n",
              "       'United StatesFrance', 'United States\\nCanada\\nTaiwan[1]',\n",
              "       'Uruguay, Germany', 'Chile, Italy', 'Germany, France, Russia',\n",
              "       'France, Germany', 'United Kingdom, United States, Czech Republic',\n",
              "       'Liechtenstein', 'United StatesCanada[1]',\n",
              "       'JapanCanadaUnited States', 'Brazil\\nUnited Kingdom'], dtype=object)"
            ]
          },
          "metadata": {},
          "execution_count": 16
        }
      ],
      "source": [
        "df['country_y'].unique()"
      ]
    },
    {
      "cell_type": "code",
      "execution_count": 17,
      "metadata": {
        "colab": {
          "base_uri": "https://localhost:8080/"
        },
        "id": "7nGjbiC_NCfH",
        "outputId": "f07d65ab-63c9-4f29-c6bc-259933c87b8f"
      },
      "outputs": [
        {
          "output_type": "execute_result",
          "data": {
            "text/plain": [
              "0           Brendan Gleeson, Taylor Kitsch, Gordon Pinsent\n",
              "1         Mahesh Manjrekar, Abhay Mahajan, Sachin Khedekar\n",
              "2        Tom Sizemore, Lorenzo Lamas, Robert LaSardo, R...\n",
              "3        Interviews with: Pink, Adele, Beyoncé, Britney...\n",
              "4        Harry Dean Stanton, Kieran O'Brien, George Cos...\n",
              "                               ...                        \n",
              "20816    ['Kathryn Newton', 'Jonathan Majors', 'Chris H...\n",
              "20817    ['Chukwudi Iwuji', 'Bradley Cooper', 'Pom Klem...\n",
              "20818        ['Kevin Michael Richardson', 'Trevor Devall']\n",
              "20819                                                  NaN\n",
              "20820    ['Dave Filoni', 'Taylor Gray', 'Freddie Prinze...\n",
              "Name: cast, Length: 20821, dtype: object"
            ]
          },
          "metadata": {},
          "execution_count": 17
        }
      ],
      "source": [
        "df['cast']"
      ]
    },
    {
      "cell_type": "code",
      "execution_count": 18,
      "metadata": {
        "id": "-vwOCXO3N4dk"
      },
      "outputs": [],
      "source": [
        "df['cast'] = df['cast'].str.split(',').str[:3]\n",
        "df['cast'] = df['cast'].apply(lambda x: ', '.join(x) if isinstance(x, list) else '')"
      ]
    },
    {
      "cell_type": "code",
      "execution_count": 19,
      "metadata": {
        "colab": {
          "base_uri": "https://localhost:8080/"
        },
        "id": "HjV88vvEN71F",
        "outputId": "72d80b52-e220-4328-b09b-7810e9a66dbc"
      },
      "outputs": [
        {
          "output_type": "execute_result",
          "data": {
            "text/plain": [
              "0         Brendan Gleeson,  Taylor Kitsch,  Gordon Pinsent\n",
              "1        Mahesh Manjrekar,  Abhay Mahajan,  Sachin Khed...\n",
              "2            Tom Sizemore,  Lorenzo Lamas,  Robert LaSardo\n",
              "3                  Interviews with: Pink,  Adele,  Beyoncé\n",
              "4        Harry Dean Stanton,  Kieran O'Brien,  George C...\n",
              "                               ...                        \n",
              "20816    ['Kathryn Newton',  'Jonathan Majors',  'Chris...\n",
              "20817    ['Chukwudi Iwuji',  'Bradley Cooper',  'Pom Kl...\n",
              "20818       ['Kevin Michael Richardson',  'Trevor Devall']\n",
              "20819                                                     \n",
              "20820    ['Dave Filoni',  'Taylor Gray',  'Freddie Prin...\n",
              "Name: cast, Length: 20821, dtype: object"
            ]
          },
          "metadata": {},
          "execution_count": 19
        }
      ],
      "source": [
        "df['cast']"
      ]
    },
    {
      "cell_type": "code",
      "execution_count": 20,
      "metadata": {
        "id": "ndyQxEavN9Ra"
      },
      "outputs": [],
      "source": [
        "def extract_names(names):\n",
        "    if isinstance(names, list):\n",
        "        return ', '.join(names[:3])\n",
        "    elif isinstance(names, str):\n",
        "        names_list = [name.strip() for name in names.strip(\"[]\").split(',') if name.strip()]\n",
        "        return ', '.join(names_list[:3])\n",
        "    else:\n",
        "        return names"
      ]
    },
    {
      "cell_type": "code",
      "execution_count": 21,
      "metadata": {
        "id": "amiuHj68O9Lv"
      },
      "outputs": [],
      "source": [
        "df['cast'] = df['cast'].apply(extract_names)"
      ]
    },
    {
      "cell_type": "code",
      "execution_count": 22,
      "metadata": {
        "colab": {
          "base_uri": "https://localhost:8080/"
        },
        "id": "vBb0Awz4O_kX",
        "outputId": "e841f253-de54-4281-c818-b5af31369ce1"
      },
      "outputs": [
        {
          "output_type": "execute_result",
          "data": {
            "text/plain": [
              "0           Brendan Gleeson, Taylor Kitsch, Gordon Pinsent\n",
              "1         Mahesh Manjrekar, Abhay Mahajan, Sachin Khedekar\n",
              "2              Tom Sizemore, Lorenzo Lamas, Robert LaSardo\n",
              "3                    Interviews with: Pink, Adele, Beyoncé\n",
              "4        Harry Dean Stanton, Kieran O'Brien, George Cos...\n",
              "                               ...                        \n",
              "20816    'Kathryn Newton', 'Jonathan Majors', 'Chris He...\n",
              "20817    'Chukwudi Iwuji', 'Bradley Cooper', 'Pom Kleme...\n",
              "20818          'Kevin Michael Richardson', 'Trevor Devall'\n",
              "20819                                                     \n",
              "20820    'Dave Filoni', 'Taylor Gray', 'Freddie Prinze ...\n",
              "Name: cast, Length: 20821, dtype: object"
            ]
          },
          "metadata": {},
          "execution_count": 22
        }
      ],
      "source": [
        "df['cast']"
      ]
    },
    {
      "cell_type": "code",
      "execution_count": 23,
      "metadata": {
        "id": "O3kSyyeePSrm"
      },
      "outputs": [],
      "source": [
        "def format_names(names):\n",
        "    if isinstance(names, str):\n",
        "        names_list = [name.strip().strip(\"'\") for name in names.split(\",\") if name.strip()]\n",
        "        return \", \".join(names_list)\n",
        "    else:\n",
        "        return names"
      ]
    },
    {
      "cell_type": "code",
      "execution_count": 24,
      "metadata": {
        "id": "8N2BDMrkRDUq"
      },
      "outputs": [],
      "source": [
        "df['cast'] = df['cast'].apply(format_names)"
      ]
    },
    {
      "cell_type": "code",
      "execution_count": 25,
      "metadata": {
        "colab": {
          "base_uri": "https://localhost:8080/",
          "height": 36
        },
        "id": "3BCWyzANRJJ6",
        "outputId": "01eec0f7-e284-463a-b411-d80965d45eda"
      },
      "outputs": [
        {
          "output_type": "execute_result",
          "data": {
            "text/plain": [
              "'Kathryn Newton, Jonathan Majors, Chris Hemsworth'"
            ],
            "application/vnd.google.colaboratory.intrinsic+json": {
              "type": "string"
            }
          },
          "metadata": {},
          "execution_count": 25
        }
      ],
      "source": [
        "df['cast'][20816]"
      ]
    },
    {
      "cell_type": "code",
      "execution_count": 26,
      "metadata": {
        "colab": {
          "base_uri": "https://localhost:8080/"
        },
        "id": "kVRP-1qGRLkx",
        "outputId": "e99818eb-a6f2-416d-9f47-ad56bb7a244b"
      },
      "outputs": [
        {
          "output_type": "execute_result",
          "data": {
            "text/plain": [
              "array(['Brendan Gleeson, Taylor Kitsch, Gordon Pinsent',\n",
              "       'Mahesh Manjrekar, Abhay Mahajan, Sachin Khedekar',\n",
              "       'Tom Sizemore, Lorenzo Lamas, Robert LaSardo', ...,\n",
              "       'Chukwudi Iwuji, Bradley Cooper, Pom Klementieff',\n",
              "       'Kevin Michael Richardson, Trevor Devall',\n",
              "       'Dave Filoni, Taylor Gray, Freddie Prinze Jr.'], dtype=object)"
            ]
          },
          "metadata": {},
          "execution_count": 26
        }
      ],
      "source": [
        "df['cast'].unique()"
      ]
    },
    {
      "cell_type": "code",
      "execution_count": 27,
      "metadata": {
        "colab": {
          "base_uri": "https://localhost:8080/"
        },
        "id": "cx93rFEHTA98",
        "outputId": "8114e1c2-9fc5-4ac4-d27f-f5dfaa3dacb3"
      },
      "outputs": [
        {
          "output_type": "execute_result",
          "data": {
            "text/plain": [
              "show_id            0\n",
              "type               0\n",
              "title              0\n",
              "director        4382\n",
              "cast               0\n",
              "date_added      9925\n",
              "release_year       0\n",
              "rating           356\n",
              "duration           3\n",
              "listed_in          0\n",
              "description        0\n",
              "country_y       1242\n",
              "dtype: int64"
            ]
          },
          "metadata": {},
          "execution_count": 27
        }
      ],
      "source": [
        "df.isnull().sum()"
      ]
    },
    {
      "cell_type": "code",
      "execution_count": 28,
      "metadata": {
        "id": "Oauoiyk3UmDY"
      },
      "outputs": [],
      "source": [
        "df.drop(['director','date_added','show_id','duration'],axis=1,inplace=True)"
      ]
    },
    {
      "cell_type": "code",
      "execution_count": 29,
      "metadata": {
        "colab": {
          "base_uri": "https://localhost:8080/"
        },
        "id": "WAw82-C2VbK2",
        "outputId": "d28800d6-db2f-4abe-eb56-135ade915952"
      },
      "outputs": [
        {
          "output_type": "stream",
          "name": "stdout",
          "text": [
            "<class 'pandas.core.frame.DataFrame'>\n",
            "RangeIndex: 20821 entries, 0 to 20820\n",
            "Data columns (total 8 columns):\n",
            " #   Column        Non-Null Count  Dtype \n",
            "---  ------        --------------  ----- \n",
            " 0   type          20821 non-null  object\n",
            " 1   title         20821 non-null  object\n",
            " 2   cast          20821 non-null  object\n",
            " 3   release_year  20821 non-null  int64 \n",
            " 4   rating        20465 non-null  object\n",
            " 5   listed_in     20821 non-null  object\n",
            " 6   description   20821 non-null  object\n",
            " 7   country_y     19579 non-null  object\n",
            "dtypes: int64(1), object(7)\n",
            "memory usage: 1.3+ MB\n"
          ]
        }
      ],
      "source": [
        "df.info()"
      ]
    },
    {
      "cell_type": "code",
      "execution_count": 30,
      "metadata": {
        "id": "WIuxjfrMVd-t"
      },
      "outputs": [],
      "source": [
        "df.dropna(inplace=True)"
      ]
    },
    {
      "cell_type": "code",
      "execution_count": 31,
      "metadata": {
        "colab": {
          "base_uri": "https://localhost:8080/"
        },
        "id": "dzijA21UVko8",
        "outputId": "243de42e-2e93-423d-d8c2-439ae14dc862"
      },
      "outputs": [
        {
          "output_type": "stream",
          "name": "stdout",
          "text": [
            "<class 'pandas.core.frame.DataFrame'>\n",
            "RangeIndex: 19250 entries, 0 to 19249\n",
            "Data columns (total 8 columns):\n",
            " #   Column        Non-Null Count  Dtype \n",
            "---  ------        --------------  ----- \n",
            " 0   type          19250 non-null  object\n",
            " 1   title         19250 non-null  object\n",
            " 2   cast          19250 non-null  object\n",
            " 3   release_year  19250 non-null  int64 \n",
            " 4   rating        19250 non-null  object\n",
            " 5   listed_in     19250 non-null  object\n",
            " 6   description   19250 non-null  object\n",
            " 7   country_y     19250 non-null  object\n",
            "dtypes: int64(1), object(7)\n",
            "memory usage: 1.2+ MB\n"
          ]
        }
      ],
      "source": [
        "df.reset_index(inplace=True, drop=True)\n",
        "df.info()"
      ]
    },
    {
      "cell_type": "code",
      "execution_count": 32,
      "metadata": {
        "colab": {
          "base_uri": "https://localhost:8080/"
        },
        "id": "HmnPC5SLVxQg",
        "outputId": "4f4f3098-0e50-4992-b063-ffc261403884"
      },
      "outputs": [
        {
          "output_type": "execute_result",
          "data": {
            "text/plain": [
              "0                         India\n",
              "1                         India\n",
              "2                         India\n",
              "3        United Kingdom, France\n",
              "4                 United States\n",
              "                  ...          \n",
              "19245             United States\n",
              "19246             United States\n",
              "19247             United States\n",
              "19248             United States\n",
              "19249             United States\n",
              "Name: country_y, Length: 19250, dtype: object"
            ]
          },
          "metadata": {},
          "execution_count": 32
        }
      ],
      "source": [
        "df['country_y']"
      ]
    },
    {
      "cell_type": "code",
      "execution_count": 33,
      "metadata": {
        "id": "Xmo-jYEWW3wp"
      },
      "outputs": [],
      "source": [
        "df['country_y'] = df['country_y'].str.split(',').str[0]"
      ]
    },
    {
      "cell_type": "code",
      "execution_count": 34,
      "metadata": {
        "colab": {
          "base_uri": "https://localhost:8080/"
        },
        "id": "Z83Wkdk3Y--s",
        "outputId": "af988c3c-452a-462e-e564-d998078a8a2b"
      },
      "outputs": [
        {
          "output_type": "execute_result",
          "data": {
            "text/plain": [
              "array(['India', 'United Kingdom', 'United States', 'China', 'Denmark',\n",
              "       'Canada', 'Brazil', 'Pakistan', 'Germany', 'Hong Kong', 'Belgium',\n",
              "       'Italy', 'Netherlands', 'France', 'Spain', 'Ireland',\n",
              "       'South Africa', 'Australia', 'Egypt', 'Switzerland', 'Afghanistan',\n",
              "       'Kosovo', 'Austria', 'Malaysia', 'Poland', 'Japan', 'Nigeria',\n",
              "       'Argentina', 'New Zealand', 'Colombia', 'Mexico', 'Taiwan',\n",
              "       'Bulgaria', '', 'Saudi Arabia', 'Thailand', 'Indonesia', 'Kuwait',\n",
              "       'South Korea', 'Vietnam', 'Lebanon', 'Romania', 'Philippines',\n",
              "       'United Arab Emirates', 'Sweden', 'Syria', 'Mauritius', 'Turkey',\n",
              "       'Czech Republic', 'Cameroon', 'Russia', 'Kenya', 'Chile',\n",
              "       'Bangladesh', 'Portugal', 'Hungary', 'Norway',\n",
              "       'CanadaUnited KingdomUnited States[1]', 'Singapore', 'Iceland',\n",
              "       'Serbia', 'Namibia', 'Uruguay', 'Peru', 'Mozambique', 'Ghana',\n",
              "       'Zimbabwe', 'Israel', 'Paraguay', 'Ukraine', 'Cambodia',\n",
              "       'Soviet Union', 'Georgia', 'Iran', 'Finland', 'Venezuela',\n",
              "       'Slovenia', 'Guatemala', 'Jamaica', 'Somalia', 'Croatia',\n",
              "       'Tanzania', 'West Germany', 'Bahamas', 'Luxembourg', 'Aruba',\n",
              "       'United States\\nCanada', 'Yugoslavia', 'Czechia',\n",
              "       'United States\\nItaly', 'CanadaFranceSouth Africa', 'Armenia',\n",
              "       'Panama', 'Czechoslovakia', 'Nepal', 'Costa Rica', 'Slovakia',\n",
              "       'Bolivia', 'USA', 'Ecuador', 'United StatesCanada', 'Mongolia',\n",
              "       'Malta', 'Canada\\nAustralia\\nUnited States', 'Greece',\n",
              "       'Isle of Man', 'Puerto Rico', 'Estonia', 'Honduras',\n",
              "       'United StatesNew Zealand', 'United KingdomUnited States',\n",
              "       'Palestinian Territories', 'Morocco', 'Latvia',\n",
              "       'Italy\\nUnited States (revived series)[1][2]', 'Jordan',\n",
              "       'United StatesIreland', 'Senegal', 'United Kingdom[1]',\n",
              "       'France\\nUnited States', 'Belarus',\n",
              "       'Belarus (2015-22)Poland (2022-)', 'Cyprus',\n",
              "       'South KoreaChinaCanada[citation needed]',\n",
              "       'United StatesUnited Kingdom (Full Series)[1]',\n",
              "       'South Korea\\nChina\\nUnited States', 'FranceCanada',\n",
              "       'United States\\nFrance', 'France\\nCanada (season 3–5)',\n",
              "       'Sweden\\nUnited States',\n",
              "       'Original series:Switzerland\\nRevival series:United Kingdom',\n",
              "       'United Kingdom\\nUnited States', 'CanadaUnited States',\n",
              "       'South KoreaSingapore', 'England', 'AustraliaUnited States',\n",
              "       'United States\\nSingapore\\nCanada', 'United StatesUnited Kingdom',\n",
              "       'United KingdomCanada (seasons 3-4)', 'USA & Canada',\n",
              "       'United States\\nUnited Kingdom\\nAustria', 'CanadaUnited Kingdom',\n",
              "       'Canada\\nUnited States', 'CanadaHong Kong',\n",
              "       'SpainItaly (Season 1)Philippines (Season 1)Ireland (Season 2)India (Season 2)',\n",
              "       'CanadaFrance', 'Canada\\nChina', 'United Kingdom / US',\n",
              "       'United KingdomSingapore', 'United KingdomCanada',\n",
              "       'Dominican Republic', 'CanadaLuxembourg',\n",
              "       'JapanCanadaUnited StatesAustralia', 'Australia\\nCanada',\n",
              "       'United States\\nIreland', 'Republic of China (Taiwan)', 'Bahrain',\n",
              "       'SingaporeChina', 'MalaysiaSingapore',\n",
              "       'Various participating countries', 'Asia', 'United StatesJapan',\n",
              "       'United StatesFrance', 'United States\\nCanada\\nTaiwan[1]',\n",
              "       'Liechtenstein', 'United StatesCanada[1]',\n",
              "       'JapanCanadaUnited States', 'Brazil\\nUnited Kingdom'], dtype=object)"
            ]
          },
          "metadata": {},
          "execution_count": 34
        }
      ],
      "source": [
        "df['country_y'].unique()"
      ]
    },
    {
      "cell_type": "code",
      "execution_count": 35,
      "metadata": {
        "id": "AUvVxGp7dcBv"
      },
      "outputs": [],
      "source": [
        "replacements = [\n",
        "    ('CanadaUnited KingdomUnited States[1]', 'Canada'),\n",
        "    ('CanadaFranceSouth Africa', 'Canada'),\n",
        "    ('CanadaUnited Kingdom', 'Canada'),\n",
        "    ('CanadaFrance', 'Canada'),\n",
        "    ('United KingdomUnited States', 'United Kingdom'),\n",
        "    ('Italy\\nUnited States (revived series)[1][2]', 'Italy'),\n",
        "    ('United StatesIreland', 'United States'),\n",
        "    ('France\\nUnited States', 'France'),\n",
        "    ('United Kingdom[1]', 'United Kingdom'),\n",
        "    ('FranceCanada (season 3–5)', 'France'),\n",
        "    ('Sweden\\nUnited States', 'Sweden'),\n",
        "    ('Original series:Switzerland\\nRevival series:United Kingdom', 'Switzerland'),\n",
        "    ('United Kingdom (seasons 3-4)', 'United Kingdom'),\n",
        "    ('United States & Canada', 'United States'),\n",
        "    ('CanadaUnited Kingdom', 'Canada'),\n",
        "    ('Canada\\nUnited States', 'Canada'),\n",
        "    ('CanadaHong Kong', 'Canada'),\n",
        "    ('SpainItaly (Season 1)Philippines (Season 1)Ireland (Season 2)India (Season 2)', 'Spain'),\n",
        "    ('Canada\\nChina', 'Canada'),\n",
        "    ('United Kingdom / US', 'United Kingdom'),\n",
        "    ('United KingdomSingapore', 'United Kingdom'),\n",
        "    ('CanadaLuxembourg', 'Canada'),\n",
        "    ('JapanCanadaAustralia', 'Japan'),\n",
        "    ('Australia\\nCanada', 'Australia'),\n",
        "    ('United States\\nIreland', 'United States'),\n",
        "    ('Republic of China (Taiwan)', 'Taiwan'),\n",
        "    ('SingaporeChina', 'Singapore'),\n",
        "    ('MalaysiaSingapore', 'Malaysia'),\n",
        "    ('United StatesJapan', 'United States'),\n",
        "    ('United StatesFrance', 'United States'),\n",
        "    ('United States\\nTaiwan[1]', 'United States'),\n",
        "    ('JapanCanada', 'Japan'),\n",
        "    ('Belarus (2015-22)Poland (2022-)', 'Belarus'),\n",
        "    ('South KoreaChinaCanada[citation needed]', 'South Korea'),\n",
        "    ('United States (Full Series)[1]', 'United States'),\n",
        "    ('FranceCanada', 'France'),\n",
        "    ('France\\nCanada (season 3–5)', 'France'),\n",
        "    ('England', 'United Kingdom'),\n",
        "    ('Dominican Republic', 'Dominican Republic'),\n",
        "    ('Bahrain', 'Bahrain'),\n",
        "    ('Various participating countries', 'Various'),\n",
        "    ('Asia', 'Asia'),\n",
        "    ('Liechtenstein', 'Liechtenstein'),\n",
        "    ('United States[1]', 'United States'),\n",
        "    ('USA', 'United States'),\n",
        "    ('CanadaUnited KingdomUnited States[1]', 'Canada'),\n",
        "    ('Canada\\nAustralia\\nUnited States', 'Canada'),\n",
        "    ('United States\\nCanada', 'United States'),\n",
        "    ('United States\\nItaly', 'United States'),\n",
        "    ('United StatesNew Zealand', 'United States'),\n",
        "    ('United Kingdom[1]', 'United Kingdom'),\n",
        "    ('United StatesCanada', 'United States'),\n",
        "    ('United States\\nFrance', 'United States'),\n",
        "    ('United StatesUnited Kingdom', 'United States'),\n",
        "    ('United KingdomCanada (seasons 3-4)', 'United Kingdom'),\n",
        "    ('United States\\nSingapore\\nCanada', 'United States'),\n",
        "    ('United StatesUnited Kingdom (Full Series)[1]', 'United States'),\n",
        "    ('South KoreaChinaCanada[citation needed]', 'South Korea'),\n",
        "    ('South Korea\\nChina\\nUnited States', 'South Korea'),\n",
        "    ('United States\\nUnited Kingdom\\nAustria', 'United States'),\n",
        "    ('United Kingdom\\nUnited States', 'United Kingdom'),\n",
        "    ('CanadaUnited States', 'Canada'),\n",
        "    ('South KoreaSingapore', 'South Korea'),\n",
        "    ('AustraliaUnited States', 'Australia'),\n",
        "    ('United States\\nSingapore\\nCanada', 'United States'),\n",
        "    ('United KingdomCanada', 'United Kingdom'),\n",
        "    ('USA & Canada', 'United States'),\n",
        "    ('United States\\nCanada\\nTaiwan[1]', 'United States'),\n",
        "    ('JapanCanadaUnited States', 'Japan'),\n",
        "    ('United States\\nCanada\\nTaiwan[1]', 'United States'),\n",
        "    ('Brazil\\nUnited Kingdom', 'Brazil'),\n",
        "    ('JapanCanadaUnited StatesAustralia','Japan'),\n",
        "    ('United StatesCanada[1]','United States')]\n",
        "\n",
        "replacements_dict = dict(replacements)\n",
        "df['country_y'] = df['country_y'].map(replacements_dict).fillna(df['country_y'])"
      ]
    },
    {
      "cell_type": "code",
      "execution_count": 36,
      "metadata": {
        "colab": {
          "base_uri": "https://localhost:8080/"
        },
        "id": "a9lY3jMzg5pN",
        "outputId": "19345e55-3d1d-480b-91b6-8dc52f73c149"
      },
      "outputs": [
        {
          "output_type": "execute_result",
          "data": {
            "text/plain": [
              "array(['India', 'United Kingdom', 'United States', 'China', 'Denmark',\n",
              "       'Canada', 'Brazil', 'Pakistan', 'Germany', 'Hong Kong', 'Belgium',\n",
              "       'Italy', 'Netherlands', 'France', 'Spain', 'Ireland',\n",
              "       'South Africa', 'Australia', 'Egypt', 'Switzerland', 'Afghanistan',\n",
              "       'Kosovo', 'Austria', 'Malaysia', 'Poland', 'Japan', 'Nigeria',\n",
              "       'Argentina', 'New Zealand', 'Colombia', 'Mexico', 'Taiwan',\n",
              "       'Bulgaria', '', 'Saudi Arabia', 'Thailand', 'Indonesia', 'Kuwait',\n",
              "       'South Korea', 'Vietnam', 'Lebanon', 'Romania', 'Philippines',\n",
              "       'United Arab Emirates', 'Sweden', 'Syria', 'Mauritius', 'Turkey',\n",
              "       'Czech Republic', 'Cameroon', 'Russia', 'Kenya', 'Chile',\n",
              "       'Bangladesh', 'Portugal', 'Hungary', 'Norway', 'Singapore',\n",
              "       'Iceland', 'Serbia', 'Namibia', 'Uruguay', 'Peru', 'Mozambique',\n",
              "       'Ghana', 'Zimbabwe', 'Israel', 'Paraguay', 'Ukraine', 'Cambodia',\n",
              "       'Soviet Union', 'Georgia', 'Iran', 'Finland', 'Venezuela',\n",
              "       'Slovenia', 'Guatemala', 'Jamaica', 'Somalia', 'Croatia',\n",
              "       'Tanzania', 'West Germany', 'Bahamas', 'Luxembourg', 'Aruba',\n",
              "       'Yugoslavia', 'Czechia', 'Armenia', 'Panama', 'Czechoslovakia',\n",
              "       'Nepal', 'Costa Rica', 'Slovakia', 'Bolivia', 'Ecuador',\n",
              "       'Mongolia', 'Malta', 'Greece', 'Isle of Man', 'Puerto Rico',\n",
              "       'Estonia', 'Honduras', 'Palestinian Territories', 'Morocco',\n",
              "       'Latvia', 'Jordan', 'Senegal', 'Belarus', 'Cyprus',\n",
              "       'Dominican Republic', 'Bahrain', 'Various', 'Asia',\n",
              "       'Liechtenstein'], dtype=object)"
            ]
          },
          "metadata": {},
          "execution_count": 36
        }
      ],
      "source": [
        "df['country_y'].unique()"
      ]
    },
    {
      "cell_type": "code",
      "execution_count": 37,
      "metadata": {
        "colab": {
          "base_uri": "https://localhost:8080/",
          "height": 641
        },
        "id": "nzlE0-lng8KF",
        "outputId": "33214126-2e46-4cdd-a73d-2358e0e1ec69"
      },
      "outputs": [
        {
          "output_type": "execute_result",
          "data": {
            "text/plain": [
              "          type                                      title  \\\n",
              "0        Movie                       Take Care Good Night   \n",
              "1        Movie                                     Whoop!   \n",
              "2        Movie                        Wedding Cha Shinema   \n",
              "3        Movie                            Waiting for You   \n",
              "4        Movie                          Vows of Deception   \n",
              "...        ...                                        ...   \n",
              "19245    Movie     Marvel Studios: Expanding the Universe   \n",
              "19246  TV Show    Marvel's Avengers: Secret Wars (Shorts)   \n",
              "19247  TV Show  Marvel's Guardians of the Galaxy (Shorts)   \n",
              "19248  TV Show           Marvel's Rocket & Groot (Shorts)   \n",
              "19249  TV Show                  Star Wars Rebels (Shorts)   \n",
              "\n",
              "                                                   cast  release_year rating  \\\n",
              "0      Mahesh Manjrekar, Abhay Mahajan, Sachin Khedekar          2018    13+   \n",
              "1                                          Abish Mathew          2018    18+   \n",
              "2           Shivraj Waichal, Rucha Inamdar, Mukta Barve          2019    ALL   \n",
              "3         Colin Morgan, Fanny Ardant, Abdelkrim Bahloul          2018    13+   \n",
              "4           Cheryl Ladd, Nick Manusco, Nancy Cartwright          1996  PG-13   \n",
              "...                                                 ...           ...    ...   \n",
              "19245      Stephen Broussard, Kevin Feige, Mary Livanos          2019  TV-PG   \n",
              "19246  Kathryn Newton, Jonathan Majors, Chris Hemsworth          2016  TV-Y7   \n",
              "19247   Chukwudi Iwuji, Bradley Cooper, Pom Klementieff          2014  TV-Y7   \n",
              "19248           Kevin Michael Richardson, Trevor Devall          2016  TV-Y7   \n",
              "19249      Dave Filoni, Taylor Gray, Freddie Prinze Jr.          2014  TV-Y7   \n",
              "\n",
              "                                listed_in  \\\n",
              "0                    Drama, International   \n",
              "1        Arts, Entertainment, and Culture   \n",
              "2                   Comedy, International   \n",
              "3                Drama, Romance, Suspense   \n",
              "4                         Drama, Suspense   \n",
              "...                                   ...   \n",
              "19245                 Documentary, Family   \n",
              "19246   Action-Adventure, Animation, Kids   \n",
              "19247   Action-Adventure, Animation, Kids   \n",
              "19248  Action-Adventure, Animation, Buddy   \n",
              "19249   Action-Adventure, Animation, Kids   \n",
              "\n",
              "                                             description       country_y  \n",
              "0      A Metro Family decides to fight a Cyber Crimin...           India  \n",
              "1      Abish Mathew is the world's greatest stand-up ...           India  \n",
              "2      An aspiring filmmaker reluctantly takes up the...           India  \n",
              "3      Paul (Morgan) investigates his late father's i...  United Kingdom  \n",
              "4      When a prominent lawyer is found murdered, his...   United States  \n",
              "...                                                  ...             ...  \n",
              "19245  An exciting look into the future of Marvel Stu...   United States  \n",
              "19246           A new team of heroes joins the Avengers.   United States  \n",
              "19247  The stories of five outlaws who became the Gua...   United States  \n",
              "19248              Rocket and Groot shop for a new ship.   United States  \n",
              "19249  It is a dark time in the galaxy as the Empire ...   United States  \n",
              "\n",
              "[19250 rows x 8 columns]"
            ],
            "text/html": [
              "\n",
              "  <div id=\"df-047a008e-9c3b-49c1-81b4-9b092fc57ecc\">\n",
              "    <div class=\"colab-df-container\">\n",
              "      <div>\n",
              "<style scoped>\n",
              "    .dataframe tbody tr th:only-of-type {\n",
              "        vertical-align: middle;\n",
              "    }\n",
              "\n",
              "    .dataframe tbody tr th {\n",
              "        vertical-align: top;\n",
              "    }\n",
              "\n",
              "    .dataframe thead th {\n",
              "        text-align: right;\n",
              "    }\n",
              "</style>\n",
              "<table border=\"1\" class=\"dataframe\">\n",
              "  <thead>\n",
              "    <tr style=\"text-align: right;\">\n",
              "      <th></th>\n",
              "      <th>type</th>\n",
              "      <th>title</th>\n",
              "      <th>cast</th>\n",
              "      <th>release_year</th>\n",
              "      <th>rating</th>\n",
              "      <th>listed_in</th>\n",
              "      <th>description</th>\n",
              "      <th>country_y</th>\n",
              "    </tr>\n",
              "  </thead>\n",
              "  <tbody>\n",
              "    <tr>\n",
              "      <th>0</th>\n",
              "      <td>Movie</td>\n",
              "      <td>Take Care Good Night</td>\n",
              "      <td>Mahesh Manjrekar, Abhay Mahajan, Sachin Khedekar</td>\n",
              "      <td>2018</td>\n",
              "      <td>13+</td>\n",
              "      <td>Drama, International</td>\n",
              "      <td>A Metro Family decides to fight a Cyber Crimin...</td>\n",
              "      <td>India</td>\n",
              "    </tr>\n",
              "    <tr>\n",
              "      <th>1</th>\n",
              "      <td>Movie</td>\n",
              "      <td>Whoop!</td>\n",
              "      <td>Abish Mathew</td>\n",
              "      <td>2018</td>\n",
              "      <td>18+</td>\n",
              "      <td>Arts, Entertainment, and Culture</td>\n",
              "      <td>Abish Mathew is the world's greatest stand-up ...</td>\n",
              "      <td>India</td>\n",
              "    </tr>\n",
              "    <tr>\n",
              "      <th>2</th>\n",
              "      <td>Movie</td>\n",
              "      <td>Wedding Cha Shinema</td>\n",
              "      <td>Shivraj Waichal, Rucha Inamdar, Mukta Barve</td>\n",
              "      <td>2019</td>\n",
              "      <td>ALL</td>\n",
              "      <td>Comedy, International</td>\n",
              "      <td>An aspiring filmmaker reluctantly takes up the...</td>\n",
              "      <td>India</td>\n",
              "    </tr>\n",
              "    <tr>\n",
              "      <th>3</th>\n",
              "      <td>Movie</td>\n",
              "      <td>Waiting for You</td>\n",
              "      <td>Colin Morgan, Fanny Ardant, Abdelkrim Bahloul</td>\n",
              "      <td>2018</td>\n",
              "      <td>13+</td>\n",
              "      <td>Drama, Romance, Suspense</td>\n",
              "      <td>Paul (Morgan) investigates his late father's i...</td>\n",
              "      <td>United Kingdom</td>\n",
              "    </tr>\n",
              "    <tr>\n",
              "      <th>4</th>\n",
              "      <td>Movie</td>\n",
              "      <td>Vows of Deception</td>\n",
              "      <td>Cheryl Ladd, Nick Manusco, Nancy Cartwright</td>\n",
              "      <td>1996</td>\n",
              "      <td>PG-13</td>\n",
              "      <td>Drama, Suspense</td>\n",
              "      <td>When a prominent lawyer is found murdered, his...</td>\n",
              "      <td>United States</td>\n",
              "    </tr>\n",
              "    <tr>\n",
              "      <th>...</th>\n",
              "      <td>...</td>\n",
              "      <td>...</td>\n",
              "      <td>...</td>\n",
              "      <td>...</td>\n",
              "      <td>...</td>\n",
              "      <td>...</td>\n",
              "      <td>...</td>\n",
              "      <td>...</td>\n",
              "    </tr>\n",
              "    <tr>\n",
              "      <th>19245</th>\n",
              "      <td>Movie</td>\n",
              "      <td>Marvel Studios: Expanding the Universe</td>\n",
              "      <td>Stephen Broussard, Kevin Feige, Mary Livanos</td>\n",
              "      <td>2019</td>\n",
              "      <td>TV-PG</td>\n",
              "      <td>Documentary, Family</td>\n",
              "      <td>An exciting look into the future of Marvel Stu...</td>\n",
              "      <td>United States</td>\n",
              "    </tr>\n",
              "    <tr>\n",
              "      <th>19246</th>\n",
              "      <td>TV Show</td>\n",
              "      <td>Marvel's Avengers: Secret Wars (Shorts)</td>\n",
              "      <td>Kathryn Newton, Jonathan Majors, Chris Hemsworth</td>\n",
              "      <td>2016</td>\n",
              "      <td>TV-Y7</td>\n",
              "      <td>Action-Adventure, Animation, Kids</td>\n",
              "      <td>A new team of heroes joins the Avengers.</td>\n",
              "      <td>United States</td>\n",
              "    </tr>\n",
              "    <tr>\n",
              "      <th>19247</th>\n",
              "      <td>TV Show</td>\n",
              "      <td>Marvel's Guardians of the Galaxy (Shorts)</td>\n",
              "      <td>Chukwudi Iwuji, Bradley Cooper, Pom Klementieff</td>\n",
              "      <td>2014</td>\n",
              "      <td>TV-Y7</td>\n",
              "      <td>Action-Adventure, Animation, Kids</td>\n",
              "      <td>The stories of five outlaws who became the Gua...</td>\n",
              "      <td>United States</td>\n",
              "    </tr>\n",
              "    <tr>\n",
              "      <th>19248</th>\n",
              "      <td>TV Show</td>\n",
              "      <td>Marvel's Rocket &amp; Groot (Shorts)</td>\n",
              "      <td>Kevin Michael Richardson, Trevor Devall</td>\n",
              "      <td>2016</td>\n",
              "      <td>TV-Y7</td>\n",
              "      <td>Action-Adventure, Animation, Buddy</td>\n",
              "      <td>Rocket and Groot shop for a new ship.</td>\n",
              "      <td>United States</td>\n",
              "    </tr>\n",
              "    <tr>\n",
              "      <th>19249</th>\n",
              "      <td>TV Show</td>\n",
              "      <td>Star Wars Rebels (Shorts)</td>\n",
              "      <td>Dave Filoni, Taylor Gray, Freddie Prinze Jr.</td>\n",
              "      <td>2014</td>\n",
              "      <td>TV-Y7</td>\n",
              "      <td>Action-Adventure, Animation, Kids</td>\n",
              "      <td>It is a dark time in the galaxy as the Empire ...</td>\n",
              "      <td>United States</td>\n",
              "    </tr>\n",
              "  </tbody>\n",
              "</table>\n",
              "<p>19250 rows × 8 columns</p>\n",
              "</div>\n",
              "      <button class=\"colab-df-convert\" onclick=\"convertToInteractive('df-047a008e-9c3b-49c1-81b4-9b092fc57ecc')\"\n",
              "              title=\"Convert this dataframe to an interactive table.\"\n",
              "              style=\"display:none;\">\n",
              "        \n",
              "  <svg xmlns=\"http://www.w3.org/2000/svg\" height=\"24px\"viewBox=\"0 0 24 24\"\n",
              "       width=\"24px\">\n",
              "    <path d=\"M0 0h24v24H0V0z\" fill=\"none\"/>\n",
              "    <path d=\"M18.56 5.44l.94 2.06.94-2.06 2.06-.94-2.06-.94-.94-2.06-.94 2.06-2.06.94zm-11 1L8.5 8.5l.94-2.06 2.06-.94-2.06-.94L8.5 2.5l-.94 2.06-2.06.94zm10 10l.94 2.06.94-2.06 2.06-.94-2.06-.94-.94-2.06-.94 2.06-2.06.94z\"/><path d=\"M17.41 7.96l-1.37-1.37c-.4-.4-.92-.59-1.43-.59-.52 0-1.04.2-1.43.59L10.3 9.45l-7.72 7.72c-.78.78-.78 2.05 0 2.83L4 21.41c.39.39.9.59 1.41.59.51 0 1.02-.2 1.41-.59l7.78-7.78 2.81-2.81c.8-.78.8-2.07 0-2.86zM5.41 20L4 18.59l7.72-7.72 1.47 1.35L5.41 20z\"/>\n",
              "  </svg>\n",
              "      </button>\n",
              "      \n",
              "  <style>\n",
              "    .colab-df-container {\n",
              "      display:flex;\n",
              "      flex-wrap:wrap;\n",
              "      gap: 12px;\n",
              "    }\n",
              "\n",
              "    .colab-df-convert {\n",
              "      background-color: #E8F0FE;\n",
              "      border: none;\n",
              "      border-radius: 50%;\n",
              "      cursor: pointer;\n",
              "      display: none;\n",
              "      fill: #1967D2;\n",
              "      height: 32px;\n",
              "      padding: 0 0 0 0;\n",
              "      width: 32px;\n",
              "    }\n",
              "\n",
              "    .colab-df-convert:hover {\n",
              "      background-color: #E2EBFA;\n",
              "      box-shadow: 0px 1px 2px rgba(60, 64, 67, 0.3), 0px 1px 3px 1px rgba(60, 64, 67, 0.15);\n",
              "      fill: #174EA6;\n",
              "    }\n",
              "\n",
              "    [theme=dark] .colab-df-convert {\n",
              "      background-color: #3B4455;\n",
              "      fill: #D2E3FC;\n",
              "    }\n",
              "\n",
              "    [theme=dark] .colab-df-convert:hover {\n",
              "      background-color: #434B5C;\n",
              "      box-shadow: 0px 1px 3px 1px rgba(0, 0, 0, 0.15);\n",
              "      filter: drop-shadow(0px 1px 2px rgba(0, 0, 0, 0.3));\n",
              "      fill: #FFFFFF;\n",
              "    }\n",
              "  </style>\n",
              "\n",
              "      <script>\n",
              "        const buttonEl =\n",
              "          document.querySelector('#df-047a008e-9c3b-49c1-81b4-9b092fc57ecc button.colab-df-convert');\n",
              "        buttonEl.style.display =\n",
              "          google.colab.kernel.accessAllowed ? 'block' : 'none';\n",
              "\n",
              "        async function convertToInteractive(key) {\n",
              "          const element = document.querySelector('#df-047a008e-9c3b-49c1-81b4-9b092fc57ecc');\n",
              "          const dataTable =\n",
              "            await google.colab.kernel.invokeFunction('convertToInteractive',\n",
              "                                                     [key], {});\n",
              "          if (!dataTable) return;\n",
              "\n",
              "          const docLinkHtml = 'Like what you see? Visit the ' +\n",
              "            '<a target=\"_blank\" href=https://colab.research.google.com/notebooks/data_table.ipynb>data table notebook</a>'\n",
              "            + ' to learn more about interactive tables.';\n",
              "          element.innerHTML = '';\n",
              "          dataTable['output_type'] = 'display_data';\n",
              "          await google.colab.output.renderOutput(dataTable, element);\n",
              "          const docLink = document.createElement('div');\n",
              "          docLink.innerHTML = docLinkHtml;\n",
              "          element.appendChild(docLink);\n",
              "        }\n",
              "      </script>\n",
              "    </div>\n",
              "  </div>\n",
              "  "
            ]
          },
          "metadata": {},
          "execution_count": 37
        }
      ],
      "source": [
        "df"
      ]
    },
    {
      "cell_type": "code",
      "execution_count": 38,
      "metadata": {
        "colab": {
          "base_uri": "https://localhost:8080/"
        },
        "id": "ePlma-R0iEPi",
        "outputId": "9188edc1-b3c5-4e41-bd3c-0df54c0ef3f8"
      },
      "outputs": [
        {
          "output_type": "execute_result",
          "data": {
            "text/plain": [
              "array(['Drama, International', 'Arts, Entertainment, and Culture',\n",
              "       'Comedy, International', ..., 'Anthology, Documentary',\n",
              "       'Animals & Nature, Kids, Music',\n",
              "       'Comedy, Family, Game Show / Competition'], dtype=object)"
            ]
          },
          "metadata": {},
          "execution_count": 38
        }
      ],
      "source": [
        "df['listed_in'].unique()"
      ]
    },
    {
      "cell_type": "code",
      "execution_count": 39,
      "metadata": {
        "id": "esryTld4iQUh"
      },
      "outputs": [],
      "source": [
        "import re\n",
        "df['listed_in'] = df['listed_in'].apply(lambda x: re.sub('[^a-zA-Z]+', ',', x))\n",
        "df['listed_in'] = df['listed_in'].replace(',and','')"
      ]
    },
    {
      "cell_type": "code",
      "execution_count": 40,
      "metadata": {
        "colab": {
          "base_uri": "https://localhost:8080/"
        },
        "id": "HPzKELjVjxQl",
        "outputId": "a1e22de6-94e9-4744-c44f-a8a0cab00241"
      },
      "outputs": [
        {
          "output_type": "execute_result",
          "data": {
            "text/plain": [
              "0                     Drama,International\n",
              "1          Arts,Entertainment,and,Culture\n",
              "2                    Comedy,International\n",
              "3                  Drama,Romance,Suspense\n",
              "4                          Drama,Suspense\n",
              "                       ...               \n",
              "19245                  Documentary,Family\n",
              "19246     Action,Adventure,Animation,Kids\n",
              "19247     Action,Adventure,Animation,Kids\n",
              "19248    Action,Adventure,Animation,Buddy\n",
              "19249     Action,Adventure,Animation,Kids\n",
              "Name: listed_in, Length: 19250, dtype: object"
            ]
          },
          "metadata": {},
          "execution_count": 40
        }
      ],
      "source": [
        "df['listed_in']"
      ]
    },
    {
      "cell_type": "code",
      "execution_count": 41,
      "metadata": {
        "colab": {
          "base_uri": "https://localhost:8080/"
        },
        "id": "biHCSROvj9rE",
        "outputId": "f0f8008c-dd73-49e9-8214-8c4064945598"
      },
      "outputs": [
        {
          "output_type": "execute_result",
          "data": {
            "text/plain": [
              "False    18548\n",
              "True       702\n",
              "dtype: int64"
            ]
          },
          "metadata": {},
          "execution_count": 41
        }
      ],
      "source": [
        "df.duplicated().value_counts()"
      ]
    },
    {
      "cell_type": "code",
      "execution_count": 42,
      "metadata": {
        "id": "rbxzxF55kqQL"
      },
      "outputs": [],
      "source": [
        "df.drop_duplicates(inplace=True)"
      ]
    },
    {
      "cell_type": "code",
      "execution_count": 43,
      "metadata": {
        "colab": {
          "base_uri": "https://localhost:8080/"
        },
        "id": "vas_GRUbkxUD",
        "outputId": "f93b63a3-0ee1-4e5c-82d5-88b22741842d"
      },
      "outputs": [
        {
          "output_type": "stream",
          "name": "stdout",
          "text": [
            "<class 'pandas.core.frame.DataFrame'>\n",
            "Int64Index: 18548 entries, 0 to 19249\n",
            "Data columns (total 8 columns):\n",
            " #   Column        Non-Null Count  Dtype \n",
            "---  ------        --------------  ----- \n",
            " 0   type          18548 non-null  object\n",
            " 1   title         18548 non-null  object\n",
            " 2   cast          18548 non-null  object\n",
            " 3   release_year  18548 non-null  int64 \n",
            " 4   rating        18548 non-null  object\n",
            " 5   listed_in     18548 non-null  object\n",
            " 6   description   18548 non-null  object\n",
            " 7   country_y     18548 non-null  object\n",
            "dtypes: int64(1), object(7)\n",
            "memory usage: 1.3+ MB\n"
          ]
        }
      ],
      "source": [
        "df.info()"
      ]
    },
    {
      "cell_type": "code",
      "execution_count": 44,
      "metadata": {
        "colab": {
          "base_uri": "https://localhost:8080/",
          "height": 407
        },
        "id": "U-lJVwp6kze5",
        "outputId": "6621c266-4d21-4b35-8c11-22ac46b4743b"
      },
      "outputs": [
        {
          "output_type": "execute_result",
          "data": {
            "text/plain": [
              "    type                 title  \\\n",
              "0  Movie  Take Care Good Night   \n",
              "1  Movie                Whoop!   \n",
              "2  Movie   Wedding Cha Shinema   \n",
              "3  Movie       Waiting for You   \n",
              "4  Movie     Vows of Deception   \n",
              "5  Movie  Voice From the Stone   \n",
              "6  Movie              Viswasam   \n",
              "7  Movie                 Virus   \n",
              "8  Movie       Vicky Velingkar   \n",
              "9  Movie         Vellai Pookal   \n",
              "\n",
              "                                               cast  release_year rating  \\\n",
              "0  Mahesh Manjrekar, Abhay Mahajan, Sachin Khedekar          2018    13+   \n",
              "1                                      Abish Mathew          2018    18+   \n",
              "2       Shivraj Waichal, Rucha Inamdar, Mukta Barve          2019    ALL   \n",
              "3     Colin Morgan, Fanny Ardant, Abdelkrim Bahloul          2018    13+   \n",
              "4       Cheryl Ladd, Nick Manusco, Nancy Cartwright          1996  PG-13   \n",
              "5     Emilia Clarke, Marton Csokas, Caterina Murino          2017      R   \n",
              "6                           Ajith Kumar, Nayanthara          2019    13+   \n",
              "7       Revathy, Kunchako Boban, Parvathy Thiruvoth          2019    ALL   \n",
              "8     Sonalee Kulkarni, Spruha Joshi, Sangram Samel          2019    13+   \n",
              "9                               Vivek, Charlie, Dev          2019    13+   \n",
              "\n",
              "                        listed_in  \\\n",
              "0             Drama,International   \n",
              "1  Arts,Entertainment,and,Culture   \n",
              "2            Comedy,International   \n",
              "3          Drama,Romance,Suspense   \n",
              "4                  Drama,Suspense   \n",
              "5                  Drama,Suspense   \n",
              "6      Action,Drama,International   \n",
              "7  Drama,Science,Fiction,Suspense   \n",
              "8          International,Suspense   \n",
              "9          International,Suspense   \n",
              "\n",
              "                                         description       country_y  \n",
              "0  A Metro Family decides to fight a Cyber Crimin...           India  \n",
              "1  Abish Mathew is the world's greatest stand-up ...           India  \n",
              "2  An aspiring filmmaker reluctantly takes up the...           India  \n",
              "3  Paul (Morgan) investigates his late father's i...  United Kingdom  \n",
              "4  When a prominent lawyer is found murdered, his...   United States  \n",
              "5  Set in 1950s Tuscany, Voice from the Stone is ...   United States  \n",
              "6  A village ruffian, who settles disputes in his...           India  \n",
              "7  Virus is a fiction based on true events, revol...           India  \n",
              "8  Vicky Velingkar is a struggling comic book art...           India  \n",
              "9  Vellai Pookal is a thriller based on the story...   United States  "
            ],
            "text/html": [
              "\n",
              "  <div id=\"df-29259903-1724-4366-b1e2-029ebfbe0045\">\n",
              "    <div class=\"colab-df-container\">\n",
              "      <div>\n",
              "<style scoped>\n",
              "    .dataframe tbody tr th:only-of-type {\n",
              "        vertical-align: middle;\n",
              "    }\n",
              "\n",
              "    .dataframe tbody tr th {\n",
              "        vertical-align: top;\n",
              "    }\n",
              "\n",
              "    .dataframe thead th {\n",
              "        text-align: right;\n",
              "    }\n",
              "</style>\n",
              "<table border=\"1\" class=\"dataframe\">\n",
              "  <thead>\n",
              "    <tr style=\"text-align: right;\">\n",
              "      <th></th>\n",
              "      <th>type</th>\n",
              "      <th>title</th>\n",
              "      <th>cast</th>\n",
              "      <th>release_year</th>\n",
              "      <th>rating</th>\n",
              "      <th>listed_in</th>\n",
              "      <th>description</th>\n",
              "      <th>country_y</th>\n",
              "    </tr>\n",
              "  </thead>\n",
              "  <tbody>\n",
              "    <tr>\n",
              "      <th>0</th>\n",
              "      <td>Movie</td>\n",
              "      <td>Take Care Good Night</td>\n",
              "      <td>Mahesh Manjrekar, Abhay Mahajan, Sachin Khedekar</td>\n",
              "      <td>2018</td>\n",
              "      <td>13+</td>\n",
              "      <td>Drama,International</td>\n",
              "      <td>A Metro Family decides to fight a Cyber Crimin...</td>\n",
              "      <td>India</td>\n",
              "    </tr>\n",
              "    <tr>\n",
              "      <th>1</th>\n",
              "      <td>Movie</td>\n",
              "      <td>Whoop!</td>\n",
              "      <td>Abish Mathew</td>\n",
              "      <td>2018</td>\n",
              "      <td>18+</td>\n",
              "      <td>Arts,Entertainment,and,Culture</td>\n",
              "      <td>Abish Mathew is the world's greatest stand-up ...</td>\n",
              "      <td>India</td>\n",
              "    </tr>\n",
              "    <tr>\n",
              "      <th>2</th>\n",
              "      <td>Movie</td>\n",
              "      <td>Wedding Cha Shinema</td>\n",
              "      <td>Shivraj Waichal, Rucha Inamdar, Mukta Barve</td>\n",
              "      <td>2019</td>\n",
              "      <td>ALL</td>\n",
              "      <td>Comedy,International</td>\n",
              "      <td>An aspiring filmmaker reluctantly takes up the...</td>\n",
              "      <td>India</td>\n",
              "    </tr>\n",
              "    <tr>\n",
              "      <th>3</th>\n",
              "      <td>Movie</td>\n",
              "      <td>Waiting for You</td>\n",
              "      <td>Colin Morgan, Fanny Ardant, Abdelkrim Bahloul</td>\n",
              "      <td>2018</td>\n",
              "      <td>13+</td>\n",
              "      <td>Drama,Romance,Suspense</td>\n",
              "      <td>Paul (Morgan) investigates his late father's i...</td>\n",
              "      <td>United Kingdom</td>\n",
              "    </tr>\n",
              "    <tr>\n",
              "      <th>4</th>\n",
              "      <td>Movie</td>\n",
              "      <td>Vows of Deception</td>\n",
              "      <td>Cheryl Ladd, Nick Manusco, Nancy Cartwright</td>\n",
              "      <td>1996</td>\n",
              "      <td>PG-13</td>\n",
              "      <td>Drama,Suspense</td>\n",
              "      <td>When a prominent lawyer is found murdered, his...</td>\n",
              "      <td>United States</td>\n",
              "    </tr>\n",
              "    <tr>\n",
              "      <th>5</th>\n",
              "      <td>Movie</td>\n",
              "      <td>Voice From the Stone</td>\n",
              "      <td>Emilia Clarke, Marton Csokas, Caterina Murino</td>\n",
              "      <td>2017</td>\n",
              "      <td>R</td>\n",
              "      <td>Drama,Suspense</td>\n",
              "      <td>Set in 1950s Tuscany, Voice from the Stone is ...</td>\n",
              "      <td>United States</td>\n",
              "    </tr>\n",
              "    <tr>\n",
              "      <th>6</th>\n",
              "      <td>Movie</td>\n",
              "      <td>Viswasam</td>\n",
              "      <td>Ajith Kumar, Nayanthara</td>\n",
              "      <td>2019</td>\n",
              "      <td>13+</td>\n",
              "      <td>Action,Drama,International</td>\n",
              "      <td>A village ruffian, who settles disputes in his...</td>\n",
              "      <td>India</td>\n",
              "    </tr>\n",
              "    <tr>\n",
              "      <th>7</th>\n",
              "      <td>Movie</td>\n",
              "      <td>Virus</td>\n",
              "      <td>Revathy, Kunchako Boban, Parvathy Thiruvoth</td>\n",
              "      <td>2019</td>\n",
              "      <td>ALL</td>\n",
              "      <td>Drama,Science,Fiction,Suspense</td>\n",
              "      <td>Virus is a fiction based on true events, revol...</td>\n",
              "      <td>India</td>\n",
              "    </tr>\n",
              "    <tr>\n",
              "      <th>8</th>\n",
              "      <td>Movie</td>\n",
              "      <td>Vicky Velingkar</td>\n",
              "      <td>Sonalee Kulkarni, Spruha Joshi, Sangram Samel</td>\n",
              "      <td>2019</td>\n",
              "      <td>13+</td>\n",
              "      <td>International,Suspense</td>\n",
              "      <td>Vicky Velingkar is a struggling comic book art...</td>\n",
              "      <td>India</td>\n",
              "    </tr>\n",
              "    <tr>\n",
              "      <th>9</th>\n",
              "      <td>Movie</td>\n",
              "      <td>Vellai Pookal</td>\n",
              "      <td>Vivek, Charlie, Dev</td>\n",
              "      <td>2019</td>\n",
              "      <td>13+</td>\n",
              "      <td>International,Suspense</td>\n",
              "      <td>Vellai Pookal is a thriller based on the story...</td>\n",
              "      <td>United States</td>\n",
              "    </tr>\n",
              "  </tbody>\n",
              "</table>\n",
              "</div>\n",
              "      <button class=\"colab-df-convert\" onclick=\"convertToInteractive('df-29259903-1724-4366-b1e2-029ebfbe0045')\"\n",
              "              title=\"Convert this dataframe to an interactive table.\"\n",
              "              style=\"display:none;\">\n",
              "        \n",
              "  <svg xmlns=\"http://www.w3.org/2000/svg\" height=\"24px\"viewBox=\"0 0 24 24\"\n",
              "       width=\"24px\">\n",
              "    <path d=\"M0 0h24v24H0V0z\" fill=\"none\"/>\n",
              "    <path d=\"M18.56 5.44l.94 2.06.94-2.06 2.06-.94-2.06-.94-.94-2.06-.94 2.06-2.06.94zm-11 1L8.5 8.5l.94-2.06 2.06-.94-2.06-.94L8.5 2.5l-.94 2.06-2.06.94zm10 10l.94 2.06.94-2.06 2.06-.94-2.06-.94-.94-2.06-.94 2.06-2.06.94z\"/><path d=\"M17.41 7.96l-1.37-1.37c-.4-.4-.92-.59-1.43-.59-.52 0-1.04.2-1.43.59L10.3 9.45l-7.72 7.72c-.78.78-.78 2.05 0 2.83L4 21.41c.39.39.9.59 1.41.59.51 0 1.02-.2 1.41-.59l7.78-7.78 2.81-2.81c.8-.78.8-2.07 0-2.86zM5.41 20L4 18.59l7.72-7.72 1.47 1.35L5.41 20z\"/>\n",
              "  </svg>\n",
              "      </button>\n",
              "      \n",
              "  <style>\n",
              "    .colab-df-container {\n",
              "      display:flex;\n",
              "      flex-wrap:wrap;\n",
              "      gap: 12px;\n",
              "    }\n",
              "\n",
              "    .colab-df-convert {\n",
              "      background-color: #E8F0FE;\n",
              "      border: none;\n",
              "      border-radius: 50%;\n",
              "      cursor: pointer;\n",
              "      display: none;\n",
              "      fill: #1967D2;\n",
              "      height: 32px;\n",
              "      padding: 0 0 0 0;\n",
              "      width: 32px;\n",
              "    }\n",
              "\n",
              "    .colab-df-convert:hover {\n",
              "      background-color: #E2EBFA;\n",
              "      box-shadow: 0px 1px 2px rgba(60, 64, 67, 0.3), 0px 1px 3px 1px rgba(60, 64, 67, 0.15);\n",
              "      fill: #174EA6;\n",
              "    }\n",
              "\n",
              "    [theme=dark] .colab-df-convert {\n",
              "      background-color: #3B4455;\n",
              "      fill: #D2E3FC;\n",
              "    }\n",
              "\n",
              "    [theme=dark] .colab-df-convert:hover {\n",
              "      background-color: #434B5C;\n",
              "      box-shadow: 0px 1px 3px 1px rgba(0, 0, 0, 0.15);\n",
              "      filter: drop-shadow(0px 1px 2px rgba(0, 0, 0, 0.3));\n",
              "      fill: #FFFFFF;\n",
              "    }\n",
              "  </style>\n",
              "\n",
              "      <script>\n",
              "        const buttonEl =\n",
              "          document.querySelector('#df-29259903-1724-4366-b1e2-029ebfbe0045 button.colab-df-convert');\n",
              "        buttonEl.style.display =\n",
              "          google.colab.kernel.accessAllowed ? 'block' : 'none';\n",
              "\n",
              "        async function convertToInteractive(key) {\n",
              "          const element = document.querySelector('#df-29259903-1724-4366-b1e2-029ebfbe0045');\n",
              "          const dataTable =\n",
              "            await google.colab.kernel.invokeFunction('convertToInteractive',\n",
              "                                                     [key], {});\n",
              "          if (!dataTable) return;\n",
              "\n",
              "          const docLinkHtml = 'Like what you see? Visit the ' +\n",
              "            '<a target=\"_blank\" href=https://colab.research.google.com/notebooks/data_table.ipynb>data table notebook</a>'\n",
              "            + ' to learn more about interactive tables.';\n",
              "          element.innerHTML = '';\n",
              "          dataTable['output_type'] = 'display_data';\n",
              "          await google.colab.output.renderOutput(dataTable, element);\n",
              "          const docLink = document.createElement('div');\n",
              "          docLink.innerHTML = docLinkHtml;\n",
              "          element.appendChild(docLink);\n",
              "        }\n",
              "      </script>\n",
              "    </div>\n",
              "  </div>\n",
              "  "
            ]
          },
          "metadata": {},
          "execution_count": 44
        }
      ],
      "source": [
        "df.head(10)"
      ]
    },
    {
      "cell_type": "code",
      "execution_count": 45,
      "metadata": {
        "colab": {
          "base_uri": "https://localhost:8080/",
          "height": 143
        },
        "id": "3oBzqui7lF1Z",
        "outputId": "fd78a109-3dca-48cf-c21c-8110cb28566c"
      },
      "outputs": [
        {
          "output_type": "execute_result",
          "data": {
            "text/plain": [
              "       type                                 title        cast  release_year  \\\n",
              "3744  Movie                       Louis C.K. 2017  Louis C.K.          2017   \n",
              "3910  Movie                 Louis C.K.: Hilarious  Louis C.K.          2010   \n",
              "3915  Movie  Louis C.K.: Live at the Comedy Store  Louis C.K.          2015   \n",
              "\n",
              "      rating listed_in                                        description  \\\n",
              "3744  74 min    Movies  Louis C.K. muses on religion, eternal love, gi...   \n",
              "3910  84 min    Movies  Emmy-winning comedy writer Louis C.K. brings h...   \n",
              "3915  66 min    Movies  The comic puts his trademark hilarious/thought...   \n",
              "\n",
              "          country_y  \n",
              "3744  United States  \n",
              "3910  United States  \n",
              "3915  United States  "
            ],
            "text/html": [
              "\n",
              "  <div id=\"df-c3ed7968-7cb0-4375-96a0-e5ea3da76294\">\n",
              "    <div class=\"colab-df-container\">\n",
              "      <div>\n",
              "<style scoped>\n",
              "    .dataframe tbody tr th:only-of-type {\n",
              "        vertical-align: middle;\n",
              "    }\n",
              "\n",
              "    .dataframe tbody tr th {\n",
              "        vertical-align: top;\n",
              "    }\n",
              "\n",
              "    .dataframe thead th {\n",
              "        text-align: right;\n",
              "    }\n",
              "</style>\n",
              "<table border=\"1\" class=\"dataframe\">\n",
              "  <thead>\n",
              "    <tr style=\"text-align: right;\">\n",
              "      <th></th>\n",
              "      <th>type</th>\n",
              "      <th>title</th>\n",
              "      <th>cast</th>\n",
              "      <th>release_year</th>\n",
              "      <th>rating</th>\n",
              "      <th>listed_in</th>\n",
              "      <th>description</th>\n",
              "      <th>country_y</th>\n",
              "    </tr>\n",
              "  </thead>\n",
              "  <tbody>\n",
              "    <tr>\n",
              "      <th>3744</th>\n",
              "      <td>Movie</td>\n",
              "      <td>Louis C.K. 2017</td>\n",
              "      <td>Louis C.K.</td>\n",
              "      <td>2017</td>\n",
              "      <td>74 min</td>\n",
              "      <td>Movies</td>\n",
              "      <td>Louis C.K. muses on religion, eternal love, gi...</td>\n",
              "      <td>United States</td>\n",
              "    </tr>\n",
              "    <tr>\n",
              "      <th>3910</th>\n",
              "      <td>Movie</td>\n",
              "      <td>Louis C.K.: Hilarious</td>\n",
              "      <td>Louis C.K.</td>\n",
              "      <td>2010</td>\n",
              "      <td>84 min</td>\n",
              "      <td>Movies</td>\n",
              "      <td>Emmy-winning comedy writer Louis C.K. brings h...</td>\n",
              "      <td>United States</td>\n",
              "    </tr>\n",
              "    <tr>\n",
              "      <th>3915</th>\n",
              "      <td>Movie</td>\n",
              "      <td>Louis C.K.: Live at the Comedy Store</td>\n",
              "      <td>Louis C.K.</td>\n",
              "      <td>2015</td>\n",
              "      <td>66 min</td>\n",
              "      <td>Movies</td>\n",
              "      <td>The comic puts his trademark hilarious/thought...</td>\n",
              "      <td>United States</td>\n",
              "    </tr>\n",
              "  </tbody>\n",
              "</table>\n",
              "</div>\n",
              "      <button class=\"colab-df-convert\" onclick=\"convertToInteractive('df-c3ed7968-7cb0-4375-96a0-e5ea3da76294')\"\n",
              "              title=\"Convert this dataframe to an interactive table.\"\n",
              "              style=\"display:none;\">\n",
              "        \n",
              "  <svg xmlns=\"http://www.w3.org/2000/svg\" height=\"24px\"viewBox=\"0 0 24 24\"\n",
              "       width=\"24px\">\n",
              "    <path d=\"M0 0h24v24H0V0z\" fill=\"none\"/>\n",
              "    <path d=\"M18.56 5.44l.94 2.06.94-2.06 2.06-.94-2.06-.94-.94-2.06-.94 2.06-2.06.94zm-11 1L8.5 8.5l.94-2.06 2.06-.94-2.06-.94L8.5 2.5l-.94 2.06-2.06.94zm10 10l.94 2.06.94-2.06 2.06-.94-2.06-.94-.94-2.06-.94 2.06-2.06.94z\"/><path d=\"M17.41 7.96l-1.37-1.37c-.4-.4-.92-.59-1.43-.59-.52 0-1.04.2-1.43.59L10.3 9.45l-7.72 7.72c-.78.78-.78 2.05 0 2.83L4 21.41c.39.39.9.59 1.41.59.51 0 1.02-.2 1.41-.59l7.78-7.78 2.81-2.81c.8-.78.8-2.07 0-2.86zM5.41 20L4 18.59l7.72-7.72 1.47 1.35L5.41 20z\"/>\n",
              "  </svg>\n",
              "      </button>\n",
              "      \n",
              "  <style>\n",
              "    .colab-df-container {\n",
              "      display:flex;\n",
              "      flex-wrap:wrap;\n",
              "      gap: 12px;\n",
              "    }\n",
              "\n",
              "    .colab-df-convert {\n",
              "      background-color: #E8F0FE;\n",
              "      border: none;\n",
              "      border-radius: 50%;\n",
              "      cursor: pointer;\n",
              "      display: none;\n",
              "      fill: #1967D2;\n",
              "      height: 32px;\n",
              "      padding: 0 0 0 0;\n",
              "      width: 32px;\n",
              "    }\n",
              "\n",
              "    .colab-df-convert:hover {\n",
              "      background-color: #E2EBFA;\n",
              "      box-shadow: 0px 1px 2px rgba(60, 64, 67, 0.3), 0px 1px 3px 1px rgba(60, 64, 67, 0.15);\n",
              "      fill: #174EA6;\n",
              "    }\n",
              "\n",
              "    [theme=dark] .colab-df-convert {\n",
              "      background-color: #3B4455;\n",
              "      fill: #D2E3FC;\n",
              "    }\n",
              "\n",
              "    [theme=dark] .colab-df-convert:hover {\n",
              "      background-color: #434B5C;\n",
              "      box-shadow: 0px 1px 3px 1px rgba(0, 0, 0, 0.15);\n",
              "      filter: drop-shadow(0px 1px 2px rgba(0, 0, 0, 0.3));\n",
              "      fill: #FFFFFF;\n",
              "    }\n",
              "  </style>\n",
              "\n",
              "      <script>\n",
              "        const buttonEl =\n",
              "          document.querySelector('#df-c3ed7968-7cb0-4375-96a0-e5ea3da76294 button.colab-df-convert');\n",
              "        buttonEl.style.display =\n",
              "          google.colab.kernel.accessAllowed ? 'block' : 'none';\n",
              "\n",
              "        async function convertToInteractive(key) {\n",
              "          const element = document.querySelector('#df-c3ed7968-7cb0-4375-96a0-e5ea3da76294');\n",
              "          const dataTable =\n",
              "            await google.colab.kernel.invokeFunction('convertToInteractive',\n",
              "                                                     [key], {});\n",
              "          if (!dataTable) return;\n",
              "\n",
              "          const docLinkHtml = 'Like what you see? Visit the ' +\n",
              "            '<a target=\"_blank\" href=https://colab.research.google.com/notebooks/data_table.ipynb>data table notebook</a>'\n",
              "            + ' to learn more about interactive tables.';\n",
              "          element.innerHTML = '';\n",
              "          dataTable['output_type'] = 'display_data';\n",
              "          await google.colab.output.renderOutput(dataTable, element);\n",
              "          const docLink = document.createElement('div');\n",
              "          docLink.innerHTML = docLinkHtml;\n",
              "          element.appendChild(docLink);\n",
              "        }\n",
              "      </script>\n",
              "    </div>\n",
              "  </div>\n",
              "  "
            ]
          },
          "metadata": {},
          "execution_count": 45
        }
      ],
      "source": [
        "df[df['rating'].str.contains('min')]"
      ]
    },
    {
      "cell_type": "code",
      "execution_count": 46,
      "metadata": {
        "id": "w_3rGcH-qDbb"
      },
      "outputs": [],
      "source": [
        "rating_categories = {'13+': 'PG-13','18+': 'R','ALL': 'G','PG-13': 'PG-13','R': 'R','G': 'G','NR': 'R','PG': 'PG','16+': 'PG-13','7+': 'G',\n",
        "    'NOT_RATE': 'NR','TV-MA': 'NC-17','TV-14': 'R','TV-PG': 'PG','TV-Y7': 'G','TV-G': 'G','TV-Y': 'G','NC-17': 'NC-17','74 min': 'NR','84 min': 'NR',\n",
        "    '66 min': 'NR','TV-Y7-FV': 'G','UR': 'NR','UNRATED': 'NR','AGES_16_': 'PG-13','AGES_18_': 'R','TV-NR': 'NR' }\n",
        "df['rating'] = df['rating'].map(rating_categories)"
      ]
    },
    {
      "cell_type": "code",
      "execution_count": 47,
      "metadata": {
        "colab": {
          "base_uri": "https://localhost:8080/"
        },
        "id": "KkCTQKcKuPXy",
        "outputId": "d751f4fe-f9da-487c-848f-ebde9f6ddc2f"
      },
      "outputs": [
        {
          "output_type": "execute_result",
          "data": {
            "text/plain": [
              "array(['PG-13', 'R', 'G', 'PG', 'NR', 'NC-17'], dtype=object)"
            ]
          },
          "metadata": {},
          "execution_count": 47
        }
      ],
      "source": [
        "df['rating'].unique()"
      ]
    },
    {
      "cell_type": "code",
      "execution_count": 48,
      "metadata": {
        "id": "w3AQvsBXuWgf"
      },
      "outputs": [],
      "source": [
        "df['description'] = df['description'].str.lower()"
      ]
    },
    {
      "cell_type": "code",
      "execution_count": 49,
      "metadata": {
        "colab": {
          "base_uri": "https://localhost:8080/",
          "height": 36
        },
        "id": "xH5mofubutoV",
        "outputId": "8696e6fa-f3d6-4522-feac-0cdd605cba3d"
      },
      "outputs": [
        {
          "output_type": "execute_result",
          "data": {
            "text/plain": [
              "'a metro family decides to fight a cyber criminal threatening their stability and pride.'"
            ],
            "application/vnd.google.colaboratory.intrinsic+json": {
              "type": "string"
            }
          },
          "metadata": {},
          "execution_count": 49
        }
      ],
      "source": [
        "df['description'][0]"
      ]
    },
    {
      "cell_type": "code",
      "execution_count": 50,
      "metadata": {
        "colab": {
          "base_uri": "https://localhost:8080/",
          "height": 250
        },
        "id": "ffYa-Z1yuz2F",
        "outputId": "9c8e2fd5-e087-4afb-85af-9210224abbf5"
      },
      "outputs": [
        {
          "output_type": "execute_result",
          "data": {
            "text/plain": [
              "    type                 title  \\\n",
              "0  Movie  Take Care Good Night   \n",
              "1  Movie                Whoop!   \n",
              "2  Movie   Wedding Cha Shinema   \n",
              "3  Movie       Waiting for You   \n",
              "4  Movie     Vows of Deception   \n",
              "\n",
              "                                               cast  release_year rating  \\\n",
              "0  Mahesh Manjrekar, Abhay Mahajan, Sachin Khedekar          2018  PG-13   \n",
              "1                                      Abish Mathew          2018      R   \n",
              "2       Shivraj Waichal, Rucha Inamdar, Mukta Barve          2019      G   \n",
              "3     Colin Morgan, Fanny Ardant, Abdelkrim Bahloul          2018  PG-13   \n",
              "4       Cheryl Ladd, Nick Manusco, Nancy Cartwright          1996  PG-13   \n",
              "\n",
              "                        listed_in  \\\n",
              "0             Drama,International   \n",
              "1  Arts,Entertainment,and,Culture   \n",
              "2            Comedy,International   \n",
              "3          Drama,Romance,Suspense   \n",
              "4                  Drama,Suspense   \n",
              "\n",
              "                                         description       country_y  \n",
              "0  a metro family decides to fight a cyber crimin...           India  \n",
              "1  abish mathew is the world's greatest stand-up ...           India  \n",
              "2  an aspiring filmmaker reluctantly takes up the...           India  \n",
              "3  paul (morgan) investigates his late father's i...  United Kingdom  \n",
              "4  when a prominent lawyer is found murdered, his...   United States  "
            ],
            "text/html": [
              "\n",
              "  <div id=\"df-14bbb21e-63a6-4912-9f14-d523519e1dcc\">\n",
              "    <div class=\"colab-df-container\">\n",
              "      <div>\n",
              "<style scoped>\n",
              "    .dataframe tbody tr th:only-of-type {\n",
              "        vertical-align: middle;\n",
              "    }\n",
              "\n",
              "    .dataframe tbody tr th {\n",
              "        vertical-align: top;\n",
              "    }\n",
              "\n",
              "    .dataframe thead th {\n",
              "        text-align: right;\n",
              "    }\n",
              "</style>\n",
              "<table border=\"1\" class=\"dataframe\">\n",
              "  <thead>\n",
              "    <tr style=\"text-align: right;\">\n",
              "      <th></th>\n",
              "      <th>type</th>\n",
              "      <th>title</th>\n",
              "      <th>cast</th>\n",
              "      <th>release_year</th>\n",
              "      <th>rating</th>\n",
              "      <th>listed_in</th>\n",
              "      <th>description</th>\n",
              "      <th>country_y</th>\n",
              "    </tr>\n",
              "  </thead>\n",
              "  <tbody>\n",
              "    <tr>\n",
              "      <th>0</th>\n",
              "      <td>Movie</td>\n",
              "      <td>Take Care Good Night</td>\n",
              "      <td>Mahesh Manjrekar, Abhay Mahajan, Sachin Khedekar</td>\n",
              "      <td>2018</td>\n",
              "      <td>PG-13</td>\n",
              "      <td>Drama,International</td>\n",
              "      <td>a metro family decides to fight a cyber crimin...</td>\n",
              "      <td>India</td>\n",
              "    </tr>\n",
              "    <tr>\n",
              "      <th>1</th>\n",
              "      <td>Movie</td>\n",
              "      <td>Whoop!</td>\n",
              "      <td>Abish Mathew</td>\n",
              "      <td>2018</td>\n",
              "      <td>R</td>\n",
              "      <td>Arts,Entertainment,and,Culture</td>\n",
              "      <td>abish mathew is the world's greatest stand-up ...</td>\n",
              "      <td>India</td>\n",
              "    </tr>\n",
              "    <tr>\n",
              "      <th>2</th>\n",
              "      <td>Movie</td>\n",
              "      <td>Wedding Cha Shinema</td>\n",
              "      <td>Shivraj Waichal, Rucha Inamdar, Mukta Barve</td>\n",
              "      <td>2019</td>\n",
              "      <td>G</td>\n",
              "      <td>Comedy,International</td>\n",
              "      <td>an aspiring filmmaker reluctantly takes up the...</td>\n",
              "      <td>India</td>\n",
              "    </tr>\n",
              "    <tr>\n",
              "      <th>3</th>\n",
              "      <td>Movie</td>\n",
              "      <td>Waiting for You</td>\n",
              "      <td>Colin Morgan, Fanny Ardant, Abdelkrim Bahloul</td>\n",
              "      <td>2018</td>\n",
              "      <td>PG-13</td>\n",
              "      <td>Drama,Romance,Suspense</td>\n",
              "      <td>paul (morgan) investigates his late father's i...</td>\n",
              "      <td>United Kingdom</td>\n",
              "    </tr>\n",
              "    <tr>\n",
              "      <th>4</th>\n",
              "      <td>Movie</td>\n",
              "      <td>Vows of Deception</td>\n",
              "      <td>Cheryl Ladd, Nick Manusco, Nancy Cartwright</td>\n",
              "      <td>1996</td>\n",
              "      <td>PG-13</td>\n",
              "      <td>Drama,Suspense</td>\n",
              "      <td>when a prominent lawyer is found murdered, his...</td>\n",
              "      <td>United States</td>\n",
              "    </tr>\n",
              "  </tbody>\n",
              "</table>\n",
              "</div>\n",
              "      <button class=\"colab-df-convert\" onclick=\"convertToInteractive('df-14bbb21e-63a6-4912-9f14-d523519e1dcc')\"\n",
              "              title=\"Convert this dataframe to an interactive table.\"\n",
              "              style=\"display:none;\">\n",
              "        \n",
              "  <svg xmlns=\"http://www.w3.org/2000/svg\" height=\"24px\"viewBox=\"0 0 24 24\"\n",
              "       width=\"24px\">\n",
              "    <path d=\"M0 0h24v24H0V0z\" fill=\"none\"/>\n",
              "    <path d=\"M18.56 5.44l.94 2.06.94-2.06 2.06-.94-2.06-.94-.94-2.06-.94 2.06-2.06.94zm-11 1L8.5 8.5l.94-2.06 2.06-.94-2.06-.94L8.5 2.5l-.94 2.06-2.06.94zm10 10l.94 2.06.94-2.06 2.06-.94-2.06-.94-.94-2.06-.94 2.06-2.06.94z\"/><path d=\"M17.41 7.96l-1.37-1.37c-.4-.4-.92-.59-1.43-.59-.52 0-1.04.2-1.43.59L10.3 9.45l-7.72 7.72c-.78.78-.78 2.05 0 2.83L4 21.41c.39.39.9.59 1.41.59.51 0 1.02-.2 1.41-.59l7.78-7.78 2.81-2.81c.8-.78.8-2.07 0-2.86zM5.41 20L4 18.59l7.72-7.72 1.47 1.35L5.41 20z\"/>\n",
              "  </svg>\n",
              "      </button>\n",
              "      \n",
              "  <style>\n",
              "    .colab-df-container {\n",
              "      display:flex;\n",
              "      flex-wrap:wrap;\n",
              "      gap: 12px;\n",
              "    }\n",
              "\n",
              "    .colab-df-convert {\n",
              "      background-color: #E8F0FE;\n",
              "      border: none;\n",
              "      border-radius: 50%;\n",
              "      cursor: pointer;\n",
              "      display: none;\n",
              "      fill: #1967D2;\n",
              "      height: 32px;\n",
              "      padding: 0 0 0 0;\n",
              "      width: 32px;\n",
              "    }\n",
              "\n",
              "    .colab-df-convert:hover {\n",
              "      background-color: #E2EBFA;\n",
              "      box-shadow: 0px 1px 2px rgba(60, 64, 67, 0.3), 0px 1px 3px 1px rgba(60, 64, 67, 0.15);\n",
              "      fill: #174EA6;\n",
              "    }\n",
              "\n",
              "    [theme=dark] .colab-df-convert {\n",
              "      background-color: #3B4455;\n",
              "      fill: #D2E3FC;\n",
              "    }\n",
              "\n",
              "    [theme=dark] .colab-df-convert:hover {\n",
              "      background-color: #434B5C;\n",
              "      box-shadow: 0px 1px 3px 1px rgba(0, 0, 0, 0.15);\n",
              "      filter: drop-shadow(0px 1px 2px rgba(0, 0, 0, 0.3));\n",
              "      fill: #FFFFFF;\n",
              "    }\n",
              "  </style>\n",
              "\n",
              "      <script>\n",
              "        const buttonEl =\n",
              "          document.querySelector('#df-14bbb21e-63a6-4912-9f14-d523519e1dcc button.colab-df-convert');\n",
              "        buttonEl.style.display =\n",
              "          google.colab.kernel.accessAllowed ? 'block' : 'none';\n",
              "\n",
              "        async function convertToInteractive(key) {\n",
              "          const element = document.querySelector('#df-14bbb21e-63a6-4912-9f14-d523519e1dcc');\n",
              "          const dataTable =\n",
              "            await google.colab.kernel.invokeFunction('convertToInteractive',\n",
              "                                                     [key], {});\n",
              "          if (!dataTable) return;\n",
              "\n",
              "          const docLinkHtml = 'Like what you see? Visit the ' +\n",
              "            '<a target=\"_blank\" href=https://colab.research.google.com/notebooks/data_table.ipynb>data table notebook</a>'\n",
              "            + ' to learn more about interactive tables.';\n",
              "          element.innerHTML = '';\n",
              "          dataTable['output_type'] = 'display_data';\n",
              "          await google.colab.output.renderOutput(dataTable, element);\n",
              "          const docLink = document.createElement('div');\n",
              "          docLink.innerHTML = docLinkHtml;\n",
              "          element.appendChild(docLink);\n",
              "        }\n",
              "      </script>\n",
              "    </div>\n",
              "  </div>\n",
              "  "
            ]
          },
          "metadata": {},
          "execution_count": 50
        }
      ],
      "source": [
        "df.head()"
      ]
    },
    {
      "cell_type": "code",
      "execution_count": 51,
      "metadata": {
        "id": "EB3ZNBnpwRZ5"
      },
      "outputs": [],
      "source": [
        "df['description'] = df['description'].apply(lambda x:x.split())"
      ]
    },
    {
      "cell_type": "code",
      "execution_count": 52,
      "metadata": {
        "colab": {
          "base_uri": "https://localhost:8080/",
          "height": 250
        },
        "id": "QkkeiKAlySmg",
        "outputId": "687bbf8f-861b-472b-aa68-04db79645a3b"
      },
      "outputs": [
        {
          "output_type": "execute_result",
          "data": {
            "text/plain": [
              "    type                 title  \\\n",
              "0  Movie  Take Care Good Night   \n",
              "1  Movie                Whoop!   \n",
              "2  Movie   Wedding Cha Shinema   \n",
              "3  Movie       Waiting for You   \n",
              "4  Movie     Vows of Deception   \n",
              "\n",
              "                                               cast  release_year rating  \\\n",
              "0  Mahesh Manjrekar, Abhay Mahajan, Sachin Khedekar          2018  PG-13   \n",
              "1                                      Abish Mathew          2018      R   \n",
              "2       Shivraj Waichal, Rucha Inamdar, Mukta Barve          2019      G   \n",
              "3     Colin Morgan, Fanny Ardant, Abdelkrim Bahloul          2018  PG-13   \n",
              "4       Cheryl Ladd, Nick Manusco, Nancy Cartwright          1996  PG-13   \n",
              "\n",
              "                        listed_in  \\\n",
              "0             Drama,International   \n",
              "1  Arts,Entertainment,and,Culture   \n",
              "2            Comedy,International   \n",
              "3          Drama,Romance,Suspense   \n",
              "4                  Drama,Suspense   \n",
              "\n",
              "                                         description       country_y  \n",
              "0  [a, metro, family, decides, to, fight, a, cybe...           India  \n",
              "1  [abish, mathew, is, the, world's, greatest, st...           India  \n",
              "2  [an, aspiring, filmmaker, reluctantly, takes, ...           India  \n",
              "3  [paul, (morgan), investigates, his, late, fath...  United Kingdom  \n",
              "4  [when, a, prominent, lawyer, is, found, murder...   United States  "
            ],
            "text/html": [
              "\n",
              "  <div id=\"df-dfad0efa-3739-4623-8660-752df73af01b\">\n",
              "    <div class=\"colab-df-container\">\n",
              "      <div>\n",
              "<style scoped>\n",
              "    .dataframe tbody tr th:only-of-type {\n",
              "        vertical-align: middle;\n",
              "    }\n",
              "\n",
              "    .dataframe tbody tr th {\n",
              "        vertical-align: top;\n",
              "    }\n",
              "\n",
              "    .dataframe thead th {\n",
              "        text-align: right;\n",
              "    }\n",
              "</style>\n",
              "<table border=\"1\" class=\"dataframe\">\n",
              "  <thead>\n",
              "    <tr style=\"text-align: right;\">\n",
              "      <th></th>\n",
              "      <th>type</th>\n",
              "      <th>title</th>\n",
              "      <th>cast</th>\n",
              "      <th>release_year</th>\n",
              "      <th>rating</th>\n",
              "      <th>listed_in</th>\n",
              "      <th>description</th>\n",
              "      <th>country_y</th>\n",
              "    </tr>\n",
              "  </thead>\n",
              "  <tbody>\n",
              "    <tr>\n",
              "      <th>0</th>\n",
              "      <td>Movie</td>\n",
              "      <td>Take Care Good Night</td>\n",
              "      <td>Mahesh Manjrekar, Abhay Mahajan, Sachin Khedekar</td>\n",
              "      <td>2018</td>\n",
              "      <td>PG-13</td>\n",
              "      <td>Drama,International</td>\n",
              "      <td>[a, metro, family, decides, to, fight, a, cybe...</td>\n",
              "      <td>India</td>\n",
              "    </tr>\n",
              "    <tr>\n",
              "      <th>1</th>\n",
              "      <td>Movie</td>\n",
              "      <td>Whoop!</td>\n",
              "      <td>Abish Mathew</td>\n",
              "      <td>2018</td>\n",
              "      <td>R</td>\n",
              "      <td>Arts,Entertainment,and,Culture</td>\n",
              "      <td>[abish, mathew, is, the, world's, greatest, st...</td>\n",
              "      <td>India</td>\n",
              "    </tr>\n",
              "    <tr>\n",
              "      <th>2</th>\n",
              "      <td>Movie</td>\n",
              "      <td>Wedding Cha Shinema</td>\n",
              "      <td>Shivraj Waichal, Rucha Inamdar, Mukta Barve</td>\n",
              "      <td>2019</td>\n",
              "      <td>G</td>\n",
              "      <td>Comedy,International</td>\n",
              "      <td>[an, aspiring, filmmaker, reluctantly, takes, ...</td>\n",
              "      <td>India</td>\n",
              "    </tr>\n",
              "    <tr>\n",
              "      <th>3</th>\n",
              "      <td>Movie</td>\n",
              "      <td>Waiting for You</td>\n",
              "      <td>Colin Morgan, Fanny Ardant, Abdelkrim Bahloul</td>\n",
              "      <td>2018</td>\n",
              "      <td>PG-13</td>\n",
              "      <td>Drama,Romance,Suspense</td>\n",
              "      <td>[paul, (morgan), investigates, his, late, fath...</td>\n",
              "      <td>United Kingdom</td>\n",
              "    </tr>\n",
              "    <tr>\n",
              "      <th>4</th>\n",
              "      <td>Movie</td>\n",
              "      <td>Vows of Deception</td>\n",
              "      <td>Cheryl Ladd, Nick Manusco, Nancy Cartwright</td>\n",
              "      <td>1996</td>\n",
              "      <td>PG-13</td>\n",
              "      <td>Drama,Suspense</td>\n",
              "      <td>[when, a, prominent, lawyer, is, found, murder...</td>\n",
              "      <td>United States</td>\n",
              "    </tr>\n",
              "  </tbody>\n",
              "</table>\n",
              "</div>\n",
              "      <button class=\"colab-df-convert\" onclick=\"convertToInteractive('df-dfad0efa-3739-4623-8660-752df73af01b')\"\n",
              "              title=\"Convert this dataframe to an interactive table.\"\n",
              "              style=\"display:none;\">\n",
              "        \n",
              "  <svg xmlns=\"http://www.w3.org/2000/svg\" height=\"24px\"viewBox=\"0 0 24 24\"\n",
              "       width=\"24px\">\n",
              "    <path d=\"M0 0h24v24H0V0z\" fill=\"none\"/>\n",
              "    <path d=\"M18.56 5.44l.94 2.06.94-2.06 2.06-.94-2.06-.94-.94-2.06-.94 2.06-2.06.94zm-11 1L8.5 8.5l.94-2.06 2.06-.94-2.06-.94L8.5 2.5l-.94 2.06-2.06.94zm10 10l.94 2.06.94-2.06 2.06-.94-2.06-.94-.94-2.06-.94 2.06-2.06.94z\"/><path d=\"M17.41 7.96l-1.37-1.37c-.4-.4-.92-.59-1.43-.59-.52 0-1.04.2-1.43.59L10.3 9.45l-7.72 7.72c-.78.78-.78 2.05 0 2.83L4 21.41c.39.39.9.59 1.41.59.51 0 1.02-.2 1.41-.59l7.78-7.78 2.81-2.81c.8-.78.8-2.07 0-2.86zM5.41 20L4 18.59l7.72-7.72 1.47 1.35L5.41 20z\"/>\n",
              "  </svg>\n",
              "      </button>\n",
              "      \n",
              "  <style>\n",
              "    .colab-df-container {\n",
              "      display:flex;\n",
              "      flex-wrap:wrap;\n",
              "      gap: 12px;\n",
              "    }\n",
              "\n",
              "    .colab-df-convert {\n",
              "      background-color: #E8F0FE;\n",
              "      border: none;\n",
              "      border-radius: 50%;\n",
              "      cursor: pointer;\n",
              "      display: none;\n",
              "      fill: #1967D2;\n",
              "      height: 32px;\n",
              "      padding: 0 0 0 0;\n",
              "      width: 32px;\n",
              "    }\n",
              "\n",
              "    .colab-df-convert:hover {\n",
              "      background-color: #E2EBFA;\n",
              "      box-shadow: 0px 1px 2px rgba(60, 64, 67, 0.3), 0px 1px 3px 1px rgba(60, 64, 67, 0.15);\n",
              "      fill: #174EA6;\n",
              "    }\n",
              "\n",
              "    [theme=dark] .colab-df-convert {\n",
              "      background-color: #3B4455;\n",
              "      fill: #D2E3FC;\n",
              "    }\n",
              "\n",
              "    [theme=dark] .colab-df-convert:hover {\n",
              "      background-color: #434B5C;\n",
              "      box-shadow: 0px 1px 3px 1px rgba(0, 0, 0, 0.15);\n",
              "      filter: drop-shadow(0px 1px 2px rgba(0, 0, 0, 0.3));\n",
              "      fill: #FFFFFF;\n",
              "    }\n",
              "  </style>\n",
              "\n",
              "      <script>\n",
              "        const buttonEl =\n",
              "          document.querySelector('#df-dfad0efa-3739-4623-8660-752df73af01b button.colab-df-convert');\n",
              "        buttonEl.style.display =\n",
              "          google.colab.kernel.accessAllowed ? 'block' : 'none';\n",
              "\n",
              "        async function convertToInteractive(key) {\n",
              "          const element = document.querySelector('#df-dfad0efa-3739-4623-8660-752df73af01b');\n",
              "          const dataTable =\n",
              "            await google.colab.kernel.invokeFunction('convertToInteractive',\n",
              "                                                     [key], {});\n",
              "          if (!dataTable) return;\n",
              "\n",
              "          const docLinkHtml = 'Like what you see? Visit the ' +\n",
              "            '<a target=\"_blank\" href=https://colab.research.google.com/notebooks/data_table.ipynb>data table notebook</a>'\n",
              "            + ' to learn more about interactive tables.';\n",
              "          element.innerHTML = '';\n",
              "          dataTable['output_type'] = 'display_data';\n",
              "          await google.colab.output.renderOutput(dataTable, element);\n",
              "          const docLink = document.createElement('div');\n",
              "          docLink.innerHTML = docLinkHtml;\n",
              "          element.appendChild(docLink);\n",
              "        }\n",
              "      </script>\n",
              "    </div>\n",
              "  </div>\n",
              "  "
            ]
          },
          "metadata": {},
          "execution_count": 52
        }
      ],
      "source": [
        "df.head()"
      ]
    },
    {
      "cell_type": "code",
      "source": [
        "df.release_year.value_counts().head(50)"
      ],
      "metadata": {
        "colab": {
          "base_uri": "https://localhost:8080/"
        },
        "id": "8FW_O-DDf74c",
        "outputId": "cd703e2f-a4e1-45a3-e860-2d129e16e8c9"
      },
      "execution_count": 53,
      "outputs": [
        {
          "output_type": "execute_result",
          "data": {
            "text/plain": [
              "2021    1956\n",
              "2020    1824\n",
              "2019    1805\n",
              "2018    1706\n",
              "2017    1555\n",
              "2016    1393\n",
              "2015     919\n",
              "2014     738\n",
              "2013     572\n",
              "2012     494\n",
              "2011     454\n",
              "2010     398\n",
              "2009     335\n",
              "2008     330\n",
              "2007     267\n",
              "2006     260\n",
              "2005     217\n",
              "2004     193\n",
              "2003     169\n",
              "2002     161\n",
              "2000     145\n",
              "2001     145\n",
              "1999     128\n",
              "1998     120\n",
              "1997     113\n",
              "1995     105\n",
              "1996     103\n",
              "1994      98\n",
              "1993      95\n",
              "1992      87\n",
              "1991      69\n",
              "1990      66\n",
              "1988      66\n",
              "1989      60\n",
              "1986      59\n",
              "1987      48\n",
              "1985      46\n",
              "1984      44\n",
              "1980      38\n",
              "1981      36\n",
              "1974      35\n",
              "1975      35\n",
              "1936      34\n",
              "1982      34\n",
              "1979      31\n",
              "1978      31\n",
              "1937      30\n",
              "1941      28\n",
              "1972      28\n",
              "1973      28\n",
              "Name: release_year, dtype: int64"
            ]
          },
          "metadata": {},
          "execution_count": 53
        }
      ]
    },
    {
      "cell_type": "code",
      "source": [
        "df.info()"
      ],
      "metadata": {
        "colab": {
          "base_uri": "https://localhost:8080/"
        },
        "id": "Wd4NlzvCgMy8",
        "outputId": "ee002244-bdd5-446a-8374-6ab2193f7884"
      },
      "execution_count": 54,
      "outputs": [
        {
          "output_type": "stream",
          "name": "stdout",
          "text": [
            "<class 'pandas.core.frame.DataFrame'>\n",
            "Int64Index: 18548 entries, 0 to 19249\n",
            "Data columns (total 8 columns):\n",
            " #   Column        Non-Null Count  Dtype \n",
            "---  ------        --------------  ----- \n",
            " 0   type          18548 non-null  object\n",
            " 1   title         18548 non-null  object\n",
            " 2   cast          18548 non-null  object\n",
            " 3   release_year  18548 non-null  int64 \n",
            " 4   rating        18548 non-null  object\n",
            " 5   listed_in     18548 non-null  object\n",
            " 6   description   18548 non-null  object\n",
            " 7   country_y     18548 non-null  object\n",
            "dtypes: int64(1), object(7)\n",
            "memory usage: 1.8+ MB\n"
          ]
        }
      ]
    },
    {
      "cell_type": "code",
      "execution_count": 55,
      "metadata": {
        "id": "fCvE_3_7yUAc"
      },
      "outputs": [],
      "source": [
        "df['cast'] = df['cast'].str.split(',')"
      ]
    },
    {
      "cell_type": "code",
      "execution_count": 56,
      "metadata": {
        "id": "gkqg5fQDzCbW"
      },
      "outputs": [],
      "source": [
        "df['release_year'] = df['release_year'].astype(str).str.split(',')\n",
        "df['rating'] = df['rating'].str.split(',')\n",
        "df['listed_in'] = df['listed_in'].str.split(',')\n",
        "df['country_y'] = df['country_y'].str.split(',')"
      ]
    },
    {
      "cell_type": "code",
      "execution_count": 57,
      "metadata": {
        "id": "O9-KigwfzDWG"
      },
      "outputs": [],
      "source": [
        "df['type'] = df['type'].str.split(',')"
      ]
    },
    {
      "cell_type": "code",
      "execution_count": 58,
      "metadata": {
        "colab": {
          "base_uri": "https://localhost:8080/",
          "height": 250
        },
        "id": "USpIqP8tzh8i",
        "outputId": "745b391b-a134-43e2-b382-1687ba87bef1"
      },
      "outputs": [
        {
          "output_type": "execute_result",
          "data": {
            "text/plain": [
              "      type                 title  \\\n",
              "0  [Movie]  Take Care Good Night   \n",
              "1  [Movie]                Whoop!   \n",
              "2  [Movie]   Wedding Cha Shinema   \n",
              "3  [Movie]       Waiting for You   \n",
              "4  [Movie]     Vows of Deception   \n",
              "\n",
              "                                                cast release_year   rating  \\\n",
              "0  [Mahesh Manjrekar,  Abhay Mahajan,  Sachin Khe...       [2018]  [PG-13]   \n",
              "1                                     [Abish Mathew]       [2018]      [R]   \n",
              "2    [Shivraj Waichal,  Rucha Inamdar,  Mukta Barve]       [2019]      [G]   \n",
              "3  [Colin Morgan,  Fanny Ardant,  Abdelkrim Bahloul]       [2018]  [PG-13]   \n",
              "4    [Cheryl Ladd,  Nick Manusco,  Nancy Cartwright]       [1996]  [PG-13]   \n",
              "\n",
              "                             listed_in  \\\n",
              "0               [Drama, International]   \n",
              "1  [Arts, Entertainment, and, Culture]   \n",
              "2              [Comedy, International]   \n",
              "3           [Drama, Romance, Suspense]   \n",
              "4                    [Drama, Suspense]   \n",
              "\n",
              "                                         description         country_y  \n",
              "0  [a, metro, family, decides, to, fight, a, cybe...           [India]  \n",
              "1  [abish, mathew, is, the, world's, greatest, st...           [India]  \n",
              "2  [an, aspiring, filmmaker, reluctantly, takes, ...           [India]  \n",
              "3  [paul, (morgan), investigates, his, late, fath...  [United Kingdom]  \n",
              "4  [when, a, prominent, lawyer, is, found, murder...   [United States]  "
            ],
            "text/html": [
              "\n",
              "  <div id=\"df-adc6742a-12a1-418b-85bd-8c2a456981bf\">\n",
              "    <div class=\"colab-df-container\">\n",
              "      <div>\n",
              "<style scoped>\n",
              "    .dataframe tbody tr th:only-of-type {\n",
              "        vertical-align: middle;\n",
              "    }\n",
              "\n",
              "    .dataframe tbody tr th {\n",
              "        vertical-align: top;\n",
              "    }\n",
              "\n",
              "    .dataframe thead th {\n",
              "        text-align: right;\n",
              "    }\n",
              "</style>\n",
              "<table border=\"1\" class=\"dataframe\">\n",
              "  <thead>\n",
              "    <tr style=\"text-align: right;\">\n",
              "      <th></th>\n",
              "      <th>type</th>\n",
              "      <th>title</th>\n",
              "      <th>cast</th>\n",
              "      <th>release_year</th>\n",
              "      <th>rating</th>\n",
              "      <th>listed_in</th>\n",
              "      <th>description</th>\n",
              "      <th>country_y</th>\n",
              "    </tr>\n",
              "  </thead>\n",
              "  <tbody>\n",
              "    <tr>\n",
              "      <th>0</th>\n",
              "      <td>[Movie]</td>\n",
              "      <td>Take Care Good Night</td>\n",
              "      <td>[Mahesh Manjrekar,  Abhay Mahajan,  Sachin Khe...</td>\n",
              "      <td>[2018]</td>\n",
              "      <td>[PG-13]</td>\n",
              "      <td>[Drama, International]</td>\n",
              "      <td>[a, metro, family, decides, to, fight, a, cybe...</td>\n",
              "      <td>[India]</td>\n",
              "    </tr>\n",
              "    <tr>\n",
              "      <th>1</th>\n",
              "      <td>[Movie]</td>\n",
              "      <td>Whoop!</td>\n",
              "      <td>[Abish Mathew]</td>\n",
              "      <td>[2018]</td>\n",
              "      <td>[R]</td>\n",
              "      <td>[Arts, Entertainment, and, Culture]</td>\n",
              "      <td>[abish, mathew, is, the, world's, greatest, st...</td>\n",
              "      <td>[India]</td>\n",
              "    </tr>\n",
              "    <tr>\n",
              "      <th>2</th>\n",
              "      <td>[Movie]</td>\n",
              "      <td>Wedding Cha Shinema</td>\n",
              "      <td>[Shivraj Waichal,  Rucha Inamdar,  Mukta Barve]</td>\n",
              "      <td>[2019]</td>\n",
              "      <td>[G]</td>\n",
              "      <td>[Comedy, International]</td>\n",
              "      <td>[an, aspiring, filmmaker, reluctantly, takes, ...</td>\n",
              "      <td>[India]</td>\n",
              "    </tr>\n",
              "    <tr>\n",
              "      <th>3</th>\n",
              "      <td>[Movie]</td>\n",
              "      <td>Waiting for You</td>\n",
              "      <td>[Colin Morgan,  Fanny Ardant,  Abdelkrim Bahloul]</td>\n",
              "      <td>[2018]</td>\n",
              "      <td>[PG-13]</td>\n",
              "      <td>[Drama, Romance, Suspense]</td>\n",
              "      <td>[paul, (morgan), investigates, his, late, fath...</td>\n",
              "      <td>[United Kingdom]</td>\n",
              "    </tr>\n",
              "    <tr>\n",
              "      <th>4</th>\n",
              "      <td>[Movie]</td>\n",
              "      <td>Vows of Deception</td>\n",
              "      <td>[Cheryl Ladd,  Nick Manusco,  Nancy Cartwright]</td>\n",
              "      <td>[1996]</td>\n",
              "      <td>[PG-13]</td>\n",
              "      <td>[Drama, Suspense]</td>\n",
              "      <td>[when, a, prominent, lawyer, is, found, murder...</td>\n",
              "      <td>[United States]</td>\n",
              "    </tr>\n",
              "  </tbody>\n",
              "</table>\n",
              "</div>\n",
              "      <button class=\"colab-df-convert\" onclick=\"convertToInteractive('df-adc6742a-12a1-418b-85bd-8c2a456981bf')\"\n",
              "              title=\"Convert this dataframe to an interactive table.\"\n",
              "              style=\"display:none;\">\n",
              "        \n",
              "  <svg xmlns=\"http://www.w3.org/2000/svg\" height=\"24px\"viewBox=\"0 0 24 24\"\n",
              "       width=\"24px\">\n",
              "    <path d=\"M0 0h24v24H0V0z\" fill=\"none\"/>\n",
              "    <path d=\"M18.56 5.44l.94 2.06.94-2.06 2.06-.94-2.06-.94-.94-2.06-.94 2.06-2.06.94zm-11 1L8.5 8.5l.94-2.06 2.06-.94-2.06-.94L8.5 2.5l-.94 2.06-2.06.94zm10 10l.94 2.06.94-2.06 2.06-.94-2.06-.94-.94-2.06-.94 2.06-2.06.94z\"/><path d=\"M17.41 7.96l-1.37-1.37c-.4-.4-.92-.59-1.43-.59-.52 0-1.04.2-1.43.59L10.3 9.45l-7.72 7.72c-.78.78-.78 2.05 0 2.83L4 21.41c.39.39.9.59 1.41.59.51 0 1.02-.2 1.41-.59l7.78-7.78 2.81-2.81c.8-.78.8-2.07 0-2.86zM5.41 20L4 18.59l7.72-7.72 1.47 1.35L5.41 20z\"/>\n",
              "  </svg>\n",
              "      </button>\n",
              "      \n",
              "  <style>\n",
              "    .colab-df-container {\n",
              "      display:flex;\n",
              "      flex-wrap:wrap;\n",
              "      gap: 12px;\n",
              "    }\n",
              "\n",
              "    .colab-df-convert {\n",
              "      background-color: #E8F0FE;\n",
              "      border: none;\n",
              "      border-radius: 50%;\n",
              "      cursor: pointer;\n",
              "      display: none;\n",
              "      fill: #1967D2;\n",
              "      height: 32px;\n",
              "      padding: 0 0 0 0;\n",
              "      width: 32px;\n",
              "    }\n",
              "\n",
              "    .colab-df-convert:hover {\n",
              "      background-color: #E2EBFA;\n",
              "      box-shadow: 0px 1px 2px rgba(60, 64, 67, 0.3), 0px 1px 3px 1px rgba(60, 64, 67, 0.15);\n",
              "      fill: #174EA6;\n",
              "    }\n",
              "\n",
              "    [theme=dark] .colab-df-convert {\n",
              "      background-color: #3B4455;\n",
              "      fill: #D2E3FC;\n",
              "    }\n",
              "\n",
              "    [theme=dark] .colab-df-convert:hover {\n",
              "      background-color: #434B5C;\n",
              "      box-shadow: 0px 1px 3px 1px rgba(0, 0, 0, 0.15);\n",
              "      filter: drop-shadow(0px 1px 2px rgba(0, 0, 0, 0.3));\n",
              "      fill: #FFFFFF;\n",
              "    }\n",
              "  </style>\n",
              "\n",
              "      <script>\n",
              "        const buttonEl =\n",
              "          document.querySelector('#df-adc6742a-12a1-418b-85bd-8c2a456981bf button.colab-df-convert');\n",
              "        buttonEl.style.display =\n",
              "          google.colab.kernel.accessAllowed ? 'block' : 'none';\n",
              "\n",
              "        async function convertToInteractive(key) {\n",
              "          const element = document.querySelector('#df-adc6742a-12a1-418b-85bd-8c2a456981bf');\n",
              "          const dataTable =\n",
              "            await google.colab.kernel.invokeFunction('convertToInteractive',\n",
              "                                                     [key], {});\n",
              "          if (!dataTable) return;\n",
              "\n",
              "          const docLinkHtml = 'Like what you see? Visit the ' +\n",
              "            '<a target=\"_blank\" href=https://colab.research.google.com/notebooks/data_table.ipynb>data table notebook</a>'\n",
              "            + ' to learn more about interactive tables.';\n",
              "          element.innerHTML = '';\n",
              "          dataTable['output_type'] = 'display_data';\n",
              "          await google.colab.output.renderOutput(dataTable, element);\n",
              "          const docLink = document.createElement('div');\n",
              "          docLink.innerHTML = docLinkHtml;\n",
              "          element.appendChild(docLink);\n",
              "        }\n",
              "      </script>\n",
              "    </div>\n",
              "  </div>\n",
              "  "
            ]
          },
          "metadata": {},
          "execution_count": 58
        }
      ],
      "source": [
        "df.head()"
      ]
    },
    {
      "cell_type": "code",
      "execution_count": 59,
      "metadata": {
        "id": "1EmB6Mg1z61l"
      },
      "outputs": [],
      "source": [
        "df['listed_in'] = df['listed_in'].apply(lambda x: [i.replace(' ', '') for i in x])\n",
        "df['cast'] = df['cast'].apply(lambda x: [i.replace(' ','') for i in x])"
      ]
    },
    {
      "cell_type": "code",
      "execution_count": 60,
      "metadata": {
        "colab": {
          "base_uri": "https://localhost:8080/",
          "height": 250
        },
        "id": "NFZDzenR1uum",
        "outputId": "8d7789d7-b6e6-40d0-9aa1-eb2d276be150"
      },
      "outputs": [
        {
          "output_type": "execute_result",
          "data": {
            "text/plain": [
              "      type                 title  \\\n",
              "0  [Movie]  Take Care Good Night   \n",
              "1  [Movie]                Whoop!   \n",
              "2  [Movie]   Wedding Cha Shinema   \n",
              "3  [Movie]       Waiting for You   \n",
              "4  [Movie]     Vows of Deception   \n",
              "\n",
              "                                              cast release_year   rating  \\\n",
              "0  [MaheshManjrekar, AbhayMahajan, SachinKhedekar]       [2018]  [PG-13]   \n",
              "1                                    [AbishMathew]       [2018]      [R]   \n",
              "2       [ShivrajWaichal, RuchaInamdar, MuktaBarve]       [2019]      [G]   \n",
              "3     [ColinMorgan, FannyArdant, AbdelkrimBahloul]       [2018]  [PG-13]   \n",
              "4       [CherylLadd, NickManusco, NancyCartwright]       [1996]  [PG-13]   \n",
              "\n",
              "                             listed_in  \\\n",
              "0               [Drama, International]   \n",
              "1  [Arts, Entertainment, and, Culture]   \n",
              "2              [Comedy, International]   \n",
              "3           [Drama, Romance, Suspense]   \n",
              "4                    [Drama, Suspense]   \n",
              "\n",
              "                                         description         country_y  \n",
              "0  [a, metro, family, decides, to, fight, a, cybe...           [India]  \n",
              "1  [abish, mathew, is, the, world's, greatest, st...           [India]  \n",
              "2  [an, aspiring, filmmaker, reluctantly, takes, ...           [India]  \n",
              "3  [paul, (morgan), investigates, his, late, fath...  [United Kingdom]  \n",
              "4  [when, a, prominent, lawyer, is, found, murder...   [United States]  "
            ],
            "text/html": [
              "\n",
              "  <div id=\"df-2483c467-560d-45fb-a6a2-a220fde6056e\">\n",
              "    <div class=\"colab-df-container\">\n",
              "      <div>\n",
              "<style scoped>\n",
              "    .dataframe tbody tr th:only-of-type {\n",
              "        vertical-align: middle;\n",
              "    }\n",
              "\n",
              "    .dataframe tbody tr th {\n",
              "        vertical-align: top;\n",
              "    }\n",
              "\n",
              "    .dataframe thead th {\n",
              "        text-align: right;\n",
              "    }\n",
              "</style>\n",
              "<table border=\"1\" class=\"dataframe\">\n",
              "  <thead>\n",
              "    <tr style=\"text-align: right;\">\n",
              "      <th></th>\n",
              "      <th>type</th>\n",
              "      <th>title</th>\n",
              "      <th>cast</th>\n",
              "      <th>release_year</th>\n",
              "      <th>rating</th>\n",
              "      <th>listed_in</th>\n",
              "      <th>description</th>\n",
              "      <th>country_y</th>\n",
              "    </tr>\n",
              "  </thead>\n",
              "  <tbody>\n",
              "    <tr>\n",
              "      <th>0</th>\n",
              "      <td>[Movie]</td>\n",
              "      <td>Take Care Good Night</td>\n",
              "      <td>[MaheshManjrekar, AbhayMahajan, SachinKhedekar]</td>\n",
              "      <td>[2018]</td>\n",
              "      <td>[PG-13]</td>\n",
              "      <td>[Drama, International]</td>\n",
              "      <td>[a, metro, family, decides, to, fight, a, cybe...</td>\n",
              "      <td>[India]</td>\n",
              "    </tr>\n",
              "    <tr>\n",
              "      <th>1</th>\n",
              "      <td>[Movie]</td>\n",
              "      <td>Whoop!</td>\n",
              "      <td>[AbishMathew]</td>\n",
              "      <td>[2018]</td>\n",
              "      <td>[R]</td>\n",
              "      <td>[Arts, Entertainment, and, Culture]</td>\n",
              "      <td>[abish, mathew, is, the, world's, greatest, st...</td>\n",
              "      <td>[India]</td>\n",
              "    </tr>\n",
              "    <tr>\n",
              "      <th>2</th>\n",
              "      <td>[Movie]</td>\n",
              "      <td>Wedding Cha Shinema</td>\n",
              "      <td>[ShivrajWaichal, RuchaInamdar, MuktaBarve]</td>\n",
              "      <td>[2019]</td>\n",
              "      <td>[G]</td>\n",
              "      <td>[Comedy, International]</td>\n",
              "      <td>[an, aspiring, filmmaker, reluctantly, takes, ...</td>\n",
              "      <td>[India]</td>\n",
              "    </tr>\n",
              "    <tr>\n",
              "      <th>3</th>\n",
              "      <td>[Movie]</td>\n",
              "      <td>Waiting for You</td>\n",
              "      <td>[ColinMorgan, FannyArdant, AbdelkrimBahloul]</td>\n",
              "      <td>[2018]</td>\n",
              "      <td>[PG-13]</td>\n",
              "      <td>[Drama, Romance, Suspense]</td>\n",
              "      <td>[paul, (morgan), investigates, his, late, fath...</td>\n",
              "      <td>[United Kingdom]</td>\n",
              "    </tr>\n",
              "    <tr>\n",
              "      <th>4</th>\n",
              "      <td>[Movie]</td>\n",
              "      <td>Vows of Deception</td>\n",
              "      <td>[CherylLadd, NickManusco, NancyCartwright]</td>\n",
              "      <td>[1996]</td>\n",
              "      <td>[PG-13]</td>\n",
              "      <td>[Drama, Suspense]</td>\n",
              "      <td>[when, a, prominent, lawyer, is, found, murder...</td>\n",
              "      <td>[United States]</td>\n",
              "    </tr>\n",
              "  </tbody>\n",
              "</table>\n",
              "</div>\n",
              "      <button class=\"colab-df-convert\" onclick=\"convertToInteractive('df-2483c467-560d-45fb-a6a2-a220fde6056e')\"\n",
              "              title=\"Convert this dataframe to an interactive table.\"\n",
              "              style=\"display:none;\">\n",
              "        \n",
              "  <svg xmlns=\"http://www.w3.org/2000/svg\" height=\"24px\"viewBox=\"0 0 24 24\"\n",
              "       width=\"24px\">\n",
              "    <path d=\"M0 0h24v24H0V0z\" fill=\"none\"/>\n",
              "    <path d=\"M18.56 5.44l.94 2.06.94-2.06 2.06-.94-2.06-.94-.94-2.06-.94 2.06-2.06.94zm-11 1L8.5 8.5l.94-2.06 2.06-.94-2.06-.94L8.5 2.5l-.94 2.06-2.06.94zm10 10l.94 2.06.94-2.06 2.06-.94-2.06-.94-.94-2.06-.94 2.06-2.06.94z\"/><path d=\"M17.41 7.96l-1.37-1.37c-.4-.4-.92-.59-1.43-.59-.52 0-1.04.2-1.43.59L10.3 9.45l-7.72 7.72c-.78.78-.78 2.05 0 2.83L4 21.41c.39.39.9.59 1.41.59.51 0 1.02-.2 1.41-.59l7.78-7.78 2.81-2.81c.8-.78.8-2.07 0-2.86zM5.41 20L4 18.59l7.72-7.72 1.47 1.35L5.41 20z\"/>\n",
              "  </svg>\n",
              "      </button>\n",
              "      \n",
              "  <style>\n",
              "    .colab-df-container {\n",
              "      display:flex;\n",
              "      flex-wrap:wrap;\n",
              "      gap: 12px;\n",
              "    }\n",
              "\n",
              "    .colab-df-convert {\n",
              "      background-color: #E8F0FE;\n",
              "      border: none;\n",
              "      border-radius: 50%;\n",
              "      cursor: pointer;\n",
              "      display: none;\n",
              "      fill: #1967D2;\n",
              "      height: 32px;\n",
              "      padding: 0 0 0 0;\n",
              "      width: 32px;\n",
              "    }\n",
              "\n",
              "    .colab-df-convert:hover {\n",
              "      background-color: #E2EBFA;\n",
              "      box-shadow: 0px 1px 2px rgba(60, 64, 67, 0.3), 0px 1px 3px 1px rgba(60, 64, 67, 0.15);\n",
              "      fill: #174EA6;\n",
              "    }\n",
              "\n",
              "    [theme=dark] .colab-df-convert {\n",
              "      background-color: #3B4455;\n",
              "      fill: #D2E3FC;\n",
              "    }\n",
              "\n",
              "    [theme=dark] .colab-df-convert:hover {\n",
              "      background-color: #434B5C;\n",
              "      box-shadow: 0px 1px 3px 1px rgba(0, 0, 0, 0.15);\n",
              "      filter: drop-shadow(0px 1px 2px rgba(0, 0, 0, 0.3));\n",
              "      fill: #FFFFFF;\n",
              "    }\n",
              "  </style>\n",
              "\n",
              "      <script>\n",
              "        const buttonEl =\n",
              "          document.querySelector('#df-2483c467-560d-45fb-a6a2-a220fde6056e button.colab-df-convert');\n",
              "        buttonEl.style.display =\n",
              "          google.colab.kernel.accessAllowed ? 'block' : 'none';\n",
              "\n",
              "        async function convertToInteractive(key) {\n",
              "          const element = document.querySelector('#df-2483c467-560d-45fb-a6a2-a220fde6056e');\n",
              "          const dataTable =\n",
              "            await google.colab.kernel.invokeFunction('convertToInteractive',\n",
              "                                                     [key], {});\n",
              "          if (!dataTable) return;\n",
              "\n",
              "          const docLinkHtml = 'Like what you see? Visit the ' +\n",
              "            '<a target=\"_blank\" href=https://colab.research.google.com/notebooks/data_table.ipynb>data table notebook</a>'\n",
              "            + ' to learn more about interactive tables.';\n",
              "          element.innerHTML = '';\n",
              "          dataTable['output_type'] = 'display_data';\n",
              "          await google.colab.output.renderOutput(dataTable, element);\n",
              "          const docLink = document.createElement('div');\n",
              "          docLink.innerHTML = docLinkHtml;\n",
              "          element.appendChild(docLink);\n",
              "        }\n",
              "      </script>\n",
              "    </div>\n",
              "  </div>\n",
              "  "
            ]
          },
          "metadata": {},
          "execution_count": 60
        }
      ],
      "source": [
        "df.head()"
      ]
    },
    {
      "cell_type": "code",
      "execution_count": 61,
      "metadata": {
        "id": "8bkvd0gE2Eoq"
      },
      "outputs": [],
      "source": [
        "df['listed_in'] = df['listed_in'].replace('and,','')"
      ]
    },
    {
      "cell_type": "code",
      "execution_count": 191,
      "metadata": {
        "id": "Ibqwih7C2Te5"
      },
      "outputs": [],
      "source": [
        "movie = pd.DataFrame()\n",
        "movie['title'] = df['title']\n",
        "movie['tags'] = df['description'] + df['listed_in'] + df['type'] + df['release_year'] + df['rating'] + df['country_y'] + df['cast']"
      ]
    },
    {
      "cell_type": "code",
      "execution_count": 192,
      "metadata": {
        "id": "NWSgnCeJ3FKO"
      },
      "outputs": [],
      "source": [
        "movie['tags'] = movie['tags'].apply(lambda x:' '.join(x))"
      ]
    },
    {
      "cell_type": "code",
      "source": [
        "movie['tags'][0]"
      ],
      "metadata": {
        "colab": {
          "base_uri": "https://localhost:8080/",
          "height": 36
        },
        "id": "fW3-wIQYpmy0",
        "outputId": "07ed90ab-37d6-4f45-919f-ecd5349546b1"
      },
      "execution_count": 193,
      "outputs": [
        {
          "output_type": "execute_result",
          "data": {
            "text/plain": [
              "'a metro family decides to fight a cyber criminal threatening their stability and pride. Drama International Movie 2018 PG-13 India MaheshManjrekar AbhayMahajan SachinKhedekar'"
            ],
            "application/vnd.google.colaboratory.intrinsic+json": {
              "type": "string"
            }
          },
          "metadata": {},
          "execution_count": 193
        }
      ]
    },
    {
      "cell_type": "code",
      "source": [
        "import nltk\n",
        "nltk.download('punkt')\n",
        "nltk.download('stopwords')"
      ],
      "metadata": {
        "colab": {
          "base_uri": "https://localhost:8080/"
        },
        "id": "K3lm1D0A8e_F",
        "outputId": "fdf894c8-79ff-4edc-e0b0-50bfa7b598fe"
      },
      "execution_count": 194,
      "outputs": [
        {
          "output_type": "stream",
          "name": "stderr",
          "text": [
            "[nltk_data] Downloading package punkt to /root/nltk_data...\n",
            "[nltk_data]   Package punkt is already up-to-date!\n",
            "[nltk_data] Downloading package stopwords to /root/nltk_data...\n",
            "[nltk_data]   Package stopwords is already up-to-date!\n"
          ]
        },
        {
          "output_type": "execute_result",
          "data": {
            "text/plain": [
              "True"
            ]
          },
          "metadata": {},
          "execution_count": 194
        }
      ]
    },
    {
      "cell_type": "code",
      "execution_count": 195,
      "metadata": {
        "id": "QLQcUmKu3kDl"
      },
      "outputs": [],
      "source": [
        "import string\n",
        "from nltk.corpus import stopwords\n",
        "from nltk.tokenize import word_tokenize\n",
        "\n",
        "def clean_text(text):\n",
        "    # Remove punctuation\n",
        "    text = text.translate(str.maketrans(\"\", \"\", string.punctuation))\n",
        "\n",
        "    # Convert to lowercase\n",
        "    text = text.lower()\n",
        "\n",
        "    # Remove numbers\n",
        "    text = re.sub(r'\\d+', '', text)\n",
        "\n",
        "    # Tokenize the text\n",
        "    tokens = word_tokenize(text)\n",
        "\n",
        "    # Remove stopwords\n",
        "    stop_words = set(stopwords.words('english'))\n",
        "    tokens = [token for token in tokens if token not in stop_words]\n",
        "\n",
        "    # Join tokens back into a single string\n",
        "    cleaned_text = ' '.join(tokens)\n",
        "\n",
        "    return cleaned_text\n",
        "\n",
        "movie['tags'] = movie['tags'].apply(clean_text)"
      ]
    },
    {
      "cell_type": "code",
      "execution_count": 196,
      "metadata": {
        "colab": {
          "base_uri": "https://localhost:8080/",
          "height": 36
        },
        "id": "z37WX1H54Dcb",
        "outputId": "659987c2-7d82-401c-8833-9841cdf48a5c"
      },
      "outputs": [
        {
          "output_type": "execute_result",
          "data": {
            "text/plain": [
              "'metro family decides fight cyber criminal threatening stability pride drama international movie pg india maheshmanjrekar abhaymahajan sachinkhedekar'"
            ],
            "application/vnd.google.colaboratory.intrinsic+json": {
              "type": "string"
            }
          },
          "metadata": {},
          "execution_count": 196
        }
      ],
      "source": [
        "movie['tags'][0]"
      ]
    },
    {
      "cell_type": "code",
      "execution_count": 197,
      "metadata": {
        "colab": {
          "base_uri": "https://localhost:8080/",
          "height": 206
        },
        "id": "Hmw0-28L4FiL",
        "outputId": "cf5d5a3c-a263-4f20-f597-e7917f1219e5"
      },
      "outputs": [
        {
          "output_type": "execute_result",
          "data": {
            "text/plain": [
              "                  title                                               tags\n",
              "0  Take Care Good Night  metro family decides fight cyber criminal thre...\n",
              "1                Whoop!  abish mathew worlds greatest standup comedian ...\n",
              "2   Wedding Cha Shinema  aspiring filmmaker reluctantly takes assignmen...\n",
              "3       Waiting for You  paul morgan investigates late fathers increasi...\n",
              "4     Vows of Deception  prominent lawyer found murdered wife promptly ..."
            ],
            "text/html": [
              "\n",
              "  <div id=\"df-9f6a4c41-eb29-43d8-ae8c-0428f9fe2fd3\">\n",
              "    <div class=\"colab-df-container\">\n",
              "      <div>\n",
              "<style scoped>\n",
              "    .dataframe tbody tr th:only-of-type {\n",
              "        vertical-align: middle;\n",
              "    }\n",
              "\n",
              "    .dataframe tbody tr th {\n",
              "        vertical-align: top;\n",
              "    }\n",
              "\n",
              "    .dataframe thead th {\n",
              "        text-align: right;\n",
              "    }\n",
              "</style>\n",
              "<table border=\"1\" class=\"dataframe\">\n",
              "  <thead>\n",
              "    <tr style=\"text-align: right;\">\n",
              "      <th></th>\n",
              "      <th>title</th>\n",
              "      <th>tags</th>\n",
              "    </tr>\n",
              "  </thead>\n",
              "  <tbody>\n",
              "    <tr>\n",
              "      <th>0</th>\n",
              "      <td>Take Care Good Night</td>\n",
              "      <td>metro family decides fight cyber criminal thre...</td>\n",
              "    </tr>\n",
              "    <tr>\n",
              "      <th>1</th>\n",
              "      <td>Whoop!</td>\n",
              "      <td>abish mathew worlds greatest standup comedian ...</td>\n",
              "    </tr>\n",
              "    <tr>\n",
              "      <th>2</th>\n",
              "      <td>Wedding Cha Shinema</td>\n",
              "      <td>aspiring filmmaker reluctantly takes assignmen...</td>\n",
              "    </tr>\n",
              "    <tr>\n",
              "      <th>3</th>\n",
              "      <td>Waiting for You</td>\n",
              "      <td>paul morgan investigates late fathers increasi...</td>\n",
              "    </tr>\n",
              "    <tr>\n",
              "      <th>4</th>\n",
              "      <td>Vows of Deception</td>\n",
              "      <td>prominent lawyer found murdered wife promptly ...</td>\n",
              "    </tr>\n",
              "  </tbody>\n",
              "</table>\n",
              "</div>\n",
              "      <button class=\"colab-df-convert\" onclick=\"convertToInteractive('df-9f6a4c41-eb29-43d8-ae8c-0428f9fe2fd3')\"\n",
              "              title=\"Convert this dataframe to an interactive table.\"\n",
              "              style=\"display:none;\">\n",
              "        \n",
              "  <svg xmlns=\"http://www.w3.org/2000/svg\" height=\"24px\"viewBox=\"0 0 24 24\"\n",
              "       width=\"24px\">\n",
              "    <path d=\"M0 0h24v24H0V0z\" fill=\"none\"/>\n",
              "    <path d=\"M18.56 5.44l.94 2.06.94-2.06 2.06-.94-2.06-.94-.94-2.06-.94 2.06-2.06.94zm-11 1L8.5 8.5l.94-2.06 2.06-.94-2.06-.94L8.5 2.5l-.94 2.06-2.06.94zm10 10l.94 2.06.94-2.06 2.06-.94-2.06-.94-.94-2.06-.94 2.06-2.06.94z\"/><path d=\"M17.41 7.96l-1.37-1.37c-.4-.4-.92-.59-1.43-.59-.52 0-1.04.2-1.43.59L10.3 9.45l-7.72 7.72c-.78.78-.78 2.05 0 2.83L4 21.41c.39.39.9.59 1.41.59.51 0 1.02-.2 1.41-.59l7.78-7.78 2.81-2.81c.8-.78.8-2.07 0-2.86zM5.41 20L4 18.59l7.72-7.72 1.47 1.35L5.41 20z\"/>\n",
              "  </svg>\n",
              "      </button>\n",
              "      \n",
              "  <style>\n",
              "    .colab-df-container {\n",
              "      display:flex;\n",
              "      flex-wrap:wrap;\n",
              "      gap: 12px;\n",
              "    }\n",
              "\n",
              "    .colab-df-convert {\n",
              "      background-color: #E8F0FE;\n",
              "      border: none;\n",
              "      border-radius: 50%;\n",
              "      cursor: pointer;\n",
              "      display: none;\n",
              "      fill: #1967D2;\n",
              "      height: 32px;\n",
              "      padding: 0 0 0 0;\n",
              "      width: 32px;\n",
              "    }\n",
              "\n",
              "    .colab-df-convert:hover {\n",
              "      background-color: #E2EBFA;\n",
              "      box-shadow: 0px 1px 2px rgba(60, 64, 67, 0.3), 0px 1px 3px 1px rgba(60, 64, 67, 0.15);\n",
              "      fill: #174EA6;\n",
              "    }\n",
              "\n",
              "    [theme=dark] .colab-df-convert {\n",
              "      background-color: #3B4455;\n",
              "      fill: #D2E3FC;\n",
              "    }\n",
              "\n",
              "    [theme=dark] .colab-df-convert:hover {\n",
              "      background-color: #434B5C;\n",
              "      box-shadow: 0px 1px 3px 1px rgba(0, 0, 0, 0.15);\n",
              "      filter: drop-shadow(0px 1px 2px rgba(0, 0, 0, 0.3));\n",
              "      fill: #FFFFFF;\n",
              "    }\n",
              "  </style>\n",
              "\n",
              "      <script>\n",
              "        const buttonEl =\n",
              "          document.querySelector('#df-9f6a4c41-eb29-43d8-ae8c-0428f9fe2fd3 button.colab-df-convert');\n",
              "        buttonEl.style.display =\n",
              "          google.colab.kernel.accessAllowed ? 'block' : 'none';\n",
              "\n",
              "        async function convertToInteractive(key) {\n",
              "          const element = document.querySelector('#df-9f6a4c41-eb29-43d8-ae8c-0428f9fe2fd3');\n",
              "          const dataTable =\n",
              "            await google.colab.kernel.invokeFunction('convertToInteractive',\n",
              "                                                     [key], {});\n",
              "          if (!dataTable) return;\n",
              "\n",
              "          const docLinkHtml = 'Like what you see? Visit the ' +\n",
              "            '<a target=\"_blank\" href=https://colab.research.google.com/notebooks/data_table.ipynb>data table notebook</a>'\n",
              "            + ' to learn more about interactive tables.';\n",
              "          element.innerHTML = '';\n",
              "          dataTable['output_type'] = 'display_data';\n",
              "          await google.colab.output.renderOutput(dataTable, element);\n",
              "          const docLink = document.createElement('div');\n",
              "          docLink.innerHTML = docLinkHtml;\n",
              "          element.appendChild(docLink);\n",
              "        }\n",
              "      </script>\n",
              "    </div>\n",
              "  </div>\n",
              "  "
            ]
          },
          "metadata": {},
          "execution_count": 197
        }
      ],
      "source": [
        "movie.head()"
      ]
    },
    {
      "cell_type": "code",
      "execution_count": 198,
      "metadata": {
        "colab": {
          "base_uri": "https://localhost:8080/",
          "height": 802
        },
        "id": "_hmo4XeM46zc",
        "outputId": "d855f270-d314-455c-e2a4-0ed97c5e0227"
      },
      "outputs": [
        {
          "output_type": "execute_result",
          "data": {
            "text/plain": [
              "                                                   title  \\\n",
              "3825                 Marvel's Hulk: Where Monsters Dwell   \n",
              "5147             Marvel's Iron Man & Hulk: Heroes United   \n",
              "6343   Marvel's Iron Man & Captain America: Heroes Un...   \n",
              "6466             Marvel's Iron Man & Hulk: Heroes United   \n",
              "14849                    Marvel's Agents of S.H.I.E.L.D.   \n",
              "15446                             Marvel's Jessica Jones   \n",
              "15573                              Marvel's The Punisher   \n",
              "15658                                 Marvel's Daredevil   \n",
              "15695                                 Marvel's Iron Fist   \n",
              "15736                                 Marvel's Luke Cage   \n",
              "15872                             Marvel's The Defenders   \n",
              "16669                                  Marvel's Runaways   \n",
              "16748                              Marvel's Agent Carter   \n",
              "16749                         Marvel's Avengers Assemble   \n",
              "16750          Marvel's Guardians of the Galaxy (Series)   \n",
              "16751                                  Marvel's Inhumans   \n",
              "18396                           Marvel's Ultimate Comics   \n",
              "18673                                       Marvel's 616   \n",
              "18696                          Marvel's Ant-Man (Shorts)   \n",
              "18697                              Marvel's Hero Project   \n",
              "19233                           Marvel's Behind the Mask   \n",
              "19246            Marvel's Avengers: Secret Wars (Shorts)   \n",
              "19247          Marvel's Guardians of the Galaxy (Shorts)   \n",
              "19248                   Marvel's Rocket & Groot (Shorts)   \n",
              "\n",
              "                                                    tags  \n",
              "3825   halloween hulk dr strange battle monsters wrea...  \n",
              "5147   scientists join hulks gamma energy tony starks...  \n",
              "6343   iron man captain america battle red skull task...  \n",
              "6466   avengers iron man hulk team fight energydevour...  \n",
              "14849  agent phil coulson seen action marvels avenger...  \n",
              "15446  haunted traumatic past jessica jones uses gift...  \n",
              "15573  former marine punish criminals responsible fam...  \n",
              "15658  blinded young boy matt murdock fights injustic...  \n",
              "15695  danny rand resurfaces years presumed dead powe...  \n",
              "15736  hoodiewearing unbreakable excon fights clear n...  \n",
              "15872  daredevil jessica jones luke cage iron fist jo...  \n",
              "16669  six kids learn parents hide terrible secret co...  \n",
              "16748  working ssr peggy would rather field action ad...  \n",
              "16749  marvel ’ mightiest heroes combine power action...  \n",
              "16750  guardians find map leading powerful weapon act...  \n",
              "16751  neverbeforetold adventure royal family action ...  \n",
              "18396  spidey iron man teamup black panther vs ghost ...  \n",
              "18673  anthology documentary series exploring impact ...  \n",
              "18696  antman protects world one inch time action adv...  \n",
              "18697  celebrate inspiring efforts young real life he...  \n",
              "19233  documentary special exploring power identity b...  \n",
              "19246  new team heroes joins avengers action adventur...  \n",
              "19247  stories five outlaws became guardians action a...  \n",
              "19248  rocket groot shop new ship action adventure an...  "
            ],
            "text/html": [
              "\n",
              "  <div id=\"df-ace22415-c078-4f90-96a2-558397abceb1\">\n",
              "    <div class=\"colab-df-container\">\n",
              "      <div>\n",
              "<style scoped>\n",
              "    .dataframe tbody tr th:only-of-type {\n",
              "        vertical-align: middle;\n",
              "    }\n",
              "\n",
              "    .dataframe tbody tr th {\n",
              "        vertical-align: top;\n",
              "    }\n",
              "\n",
              "    .dataframe thead th {\n",
              "        text-align: right;\n",
              "    }\n",
              "</style>\n",
              "<table border=\"1\" class=\"dataframe\">\n",
              "  <thead>\n",
              "    <tr style=\"text-align: right;\">\n",
              "      <th></th>\n",
              "      <th>title</th>\n",
              "      <th>tags</th>\n",
              "    </tr>\n",
              "  </thead>\n",
              "  <tbody>\n",
              "    <tr>\n",
              "      <th>3825</th>\n",
              "      <td>Marvel's Hulk: Where Monsters Dwell</td>\n",
              "      <td>halloween hulk dr strange battle monsters wrea...</td>\n",
              "    </tr>\n",
              "    <tr>\n",
              "      <th>5147</th>\n",
              "      <td>Marvel's Iron Man &amp; Hulk: Heroes United</td>\n",
              "      <td>scientists join hulks gamma energy tony starks...</td>\n",
              "    </tr>\n",
              "    <tr>\n",
              "      <th>6343</th>\n",
              "      <td>Marvel's Iron Man &amp; Captain America: Heroes Un...</td>\n",
              "      <td>iron man captain america battle red skull task...</td>\n",
              "    </tr>\n",
              "    <tr>\n",
              "      <th>6466</th>\n",
              "      <td>Marvel's Iron Man &amp; Hulk: Heroes United</td>\n",
              "      <td>avengers iron man hulk team fight energydevour...</td>\n",
              "    </tr>\n",
              "    <tr>\n",
              "      <th>14849</th>\n",
              "      <td>Marvel's Agents of S.H.I.E.L.D.</td>\n",
              "      <td>agent phil coulson seen action marvels avenger...</td>\n",
              "    </tr>\n",
              "    <tr>\n",
              "      <th>15446</th>\n",
              "      <td>Marvel's Jessica Jones</td>\n",
              "      <td>haunted traumatic past jessica jones uses gift...</td>\n",
              "    </tr>\n",
              "    <tr>\n",
              "      <th>15573</th>\n",
              "      <td>Marvel's The Punisher</td>\n",
              "      <td>former marine punish criminals responsible fam...</td>\n",
              "    </tr>\n",
              "    <tr>\n",
              "      <th>15658</th>\n",
              "      <td>Marvel's Daredevil</td>\n",
              "      <td>blinded young boy matt murdock fights injustic...</td>\n",
              "    </tr>\n",
              "    <tr>\n",
              "      <th>15695</th>\n",
              "      <td>Marvel's Iron Fist</td>\n",
              "      <td>danny rand resurfaces years presumed dead powe...</td>\n",
              "    </tr>\n",
              "    <tr>\n",
              "      <th>15736</th>\n",
              "      <td>Marvel's Luke Cage</td>\n",
              "      <td>hoodiewearing unbreakable excon fights clear n...</td>\n",
              "    </tr>\n",
              "    <tr>\n",
              "      <th>15872</th>\n",
              "      <td>Marvel's The Defenders</td>\n",
              "      <td>daredevil jessica jones luke cage iron fist jo...</td>\n",
              "    </tr>\n",
              "    <tr>\n",
              "      <th>16669</th>\n",
              "      <td>Marvel's Runaways</td>\n",
              "      <td>six kids learn parents hide terrible secret co...</td>\n",
              "    </tr>\n",
              "    <tr>\n",
              "      <th>16748</th>\n",
              "      <td>Marvel's Agent Carter</td>\n",
              "      <td>working ssr peggy would rather field action ad...</td>\n",
              "    </tr>\n",
              "    <tr>\n",
              "      <th>16749</th>\n",
              "      <td>Marvel's Avengers Assemble</td>\n",
              "      <td>marvel ’ mightiest heroes combine power action...</td>\n",
              "    </tr>\n",
              "    <tr>\n",
              "      <th>16750</th>\n",
              "      <td>Marvel's Guardians of the Galaxy (Series)</td>\n",
              "      <td>guardians find map leading powerful weapon act...</td>\n",
              "    </tr>\n",
              "    <tr>\n",
              "      <th>16751</th>\n",
              "      <td>Marvel's Inhumans</td>\n",
              "      <td>neverbeforetold adventure royal family action ...</td>\n",
              "    </tr>\n",
              "    <tr>\n",
              "      <th>18396</th>\n",
              "      <td>Marvel's Ultimate Comics</td>\n",
              "      <td>spidey iron man teamup black panther vs ghost ...</td>\n",
              "    </tr>\n",
              "    <tr>\n",
              "      <th>18673</th>\n",
              "      <td>Marvel's 616</td>\n",
              "      <td>anthology documentary series exploring impact ...</td>\n",
              "    </tr>\n",
              "    <tr>\n",
              "      <th>18696</th>\n",
              "      <td>Marvel's Ant-Man (Shorts)</td>\n",
              "      <td>antman protects world one inch time action adv...</td>\n",
              "    </tr>\n",
              "    <tr>\n",
              "      <th>18697</th>\n",
              "      <td>Marvel's Hero Project</td>\n",
              "      <td>celebrate inspiring efforts young real life he...</td>\n",
              "    </tr>\n",
              "    <tr>\n",
              "      <th>19233</th>\n",
              "      <td>Marvel's Behind the Mask</td>\n",
              "      <td>documentary special exploring power identity b...</td>\n",
              "    </tr>\n",
              "    <tr>\n",
              "      <th>19246</th>\n",
              "      <td>Marvel's Avengers: Secret Wars (Shorts)</td>\n",
              "      <td>new team heroes joins avengers action adventur...</td>\n",
              "    </tr>\n",
              "    <tr>\n",
              "      <th>19247</th>\n",
              "      <td>Marvel's Guardians of the Galaxy (Shorts)</td>\n",
              "      <td>stories five outlaws became guardians action a...</td>\n",
              "    </tr>\n",
              "    <tr>\n",
              "      <th>19248</th>\n",
              "      <td>Marvel's Rocket &amp; Groot (Shorts)</td>\n",
              "      <td>rocket groot shop new ship action adventure an...</td>\n",
              "    </tr>\n",
              "  </tbody>\n",
              "</table>\n",
              "</div>\n",
              "      <button class=\"colab-df-convert\" onclick=\"convertToInteractive('df-ace22415-c078-4f90-96a2-558397abceb1')\"\n",
              "              title=\"Convert this dataframe to an interactive table.\"\n",
              "              style=\"display:none;\">\n",
              "        \n",
              "  <svg xmlns=\"http://www.w3.org/2000/svg\" height=\"24px\"viewBox=\"0 0 24 24\"\n",
              "       width=\"24px\">\n",
              "    <path d=\"M0 0h24v24H0V0z\" fill=\"none\"/>\n",
              "    <path d=\"M18.56 5.44l.94 2.06.94-2.06 2.06-.94-2.06-.94-.94-2.06-.94 2.06-2.06.94zm-11 1L8.5 8.5l.94-2.06 2.06-.94-2.06-.94L8.5 2.5l-.94 2.06-2.06.94zm10 10l.94 2.06.94-2.06 2.06-.94-2.06-.94-.94-2.06-.94 2.06-2.06.94z\"/><path d=\"M17.41 7.96l-1.37-1.37c-.4-.4-.92-.59-1.43-.59-.52 0-1.04.2-1.43.59L10.3 9.45l-7.72 7.72c-.78.78-.78 2.05 0 2.83L4 21.41c.39.39.9.59 1.41.59.51 0 1.02-.2 1.41-.59l7.78-7.78 2.81-2.81c.8-.78.8-2.07 0-2.86zM5.41 20L4 18.59l7.72-7.72 1.47 1.35L5.41 20z\"/>\n",
              "  </svg>\n",
              "      </button>\n",
              "      \n",
              "  <style>\n",
              "    .colab-df-container {\n",
              "      display:flex;\n",
              "      flex-wrap:wrap;\n",
              "      gap: 12px;\n",
              "    }\n",
              "\n",
              "    .colab-df-convert {\n",
              "      background-color: #E8F0FE;\n",
              "      border: none;\n",
              "      border-radius: 50%;\n",
              "      cursor: pointer;\n",
              "      display: none;\n",
              "      fill: #1967D2;\n",
              "      height: 32px;\n",
              "      padding: 0 0 0 0;\n",
              "      width: 32px;\n",
              "    }\n",
              "\n",
              "    .colab-df-convert:hover {\n",
              "      background-color: #E2EBFA;\n",
              "      box-shadow: 0px 1px 2px rgba(60, 64, 67, 0.3), 0px 1px 3px 1px rgba(60, 64, 67, 0.15);\n",
              "      fill: #174EA6;\n",
              "    }\n",
              "\n",
              "    [theme=dark] .colab-df-convert {\n",
              "      background-color: #3B4455;\n",
              "      fill: #D2E3FC;\n",
              "    }\n",
              "\n",
              "    [theme=dark] .colab-df-convert:hover {\n",
              "      background-color: #434B5C;\n",
              "      box-shadow: 0px 1px 3px 1px rgba(0, 0, 0, 0.15);\n",
              "      filter: drop-shadow(0px 1px 2px rgba(0, 0, 0, 0.3));\n",
              "      fill: #FFFFFF;\n",
              "    }\n",
              "  </style>\n",
              "\n",
              "      <script>\n",
              "        const buttonEl =\n",
              "          document.querySelector('#df-ace22415-c078-4f90-96a2-558397abceb1 button.colab-df-convert');\n",
              "        buttonEl.style.display =\n",
              "          google.colab.kernel.accessAllowed ? 'block' : 'none';\n",
              "\n",
              "        async function convertToInteractive(key) {\n",
              "          const element = document.querySelector('#df-ace22415-c078-4f90-96a2-558397abceb1');\n",
              "          const dataTable =\n",
              "            await google.colab.kernel.invokeFunction('convertToInteractive',\n",
              "                                                     [key], {});\n",
              "          if (!dataTable) return;\n",
              "\n",
              "          const docLinkHtml = 'Like what you see? Visit the ' +\n",
              "            '<a target=\"_blank\" href=https://colab.research.google.com/notebooks/data_table.ipynb>data table notebook</a>'\n",
              "            + ' to learn more about interactive tables.';\n",
              "          element.innerHTML = '';\n",
              "          dataTable['output_type'] = 'display_data';\n",
              "          await google.colab.output.renderOutput(dataTable, element);\n",
              "          const docLink = document.createElement('div');\n",
              "          docLink.innerHTML = docLinkHtml;\n",
              "          element.appendChild(docLink);\n",
              "        }\n",
              "      </script>\n",
              "    </div>\n",
              "  </div>\n",
              "  "
            ]
          },
          "metadata": {},
          "execution_count": 198
        }
      ],
      "source": [
        "movie[movie['title'].str.contains(\"Marvel's\")]"
      ]
    },
    {
      "cell_type": "code",
      "source": [
        "movie.info()"
      ],
      "metadata": {
        "colab": {
          "base_uri": "https://localhost:8080/"
        },
        "id": "43LI4yfud_nv",
        "outputId": "d13902f9-39a5-406c-e57b-afaba1a5910e"
      },
      "execution_count": 199,
      "outputs": [
        {
          "output_type": "stream",
          "name": "stdout",
          "text": [
            "<class 'pandas.core.frame.DataFrame'>\n",
            "Int64Index: 18548 entries, 0 to 19249\n",
            "Data columns (total 2 columns):\n",
            " #   Column  Non-Null Count  Dtype \n",
            "---  ------  --------------  ----- \n",
            " 0   title   18548 non-null  object\n",
            " 1   tags    18548 non-null  object\n",
            "dtypes: object(2)\n",
            "memory usage: 950.8+ KB\n"
          ]
        }
      ]
    },
    {
      "cell_type": "code",
      "source": [
        "movie.reset_index(inplace=True,drop = True)"
      ],
      "metadata": {
        "id": "ED8FE3nwe5Z-"
      },
      "execution_count": 200,
      "outputs": []
    },
    {
      "cell_type": "code",
      "source": [
        "from sklearn.feature_extraction.text import CountVectorizer\n",
        "from sklearn.neighbors import NearestNeighbors\n",
        "from sklearn.decomposition import TruncatedSVD\n",
        "from sklearn.feature_extraction.text import TfidfVectorizer\n",
        "from sklearn.preprocessing import normalize\n",
        "from sklearn.metrics.pairwise import cosine_similarity"
      ],
      "metadata": {
        "id": "07za8ek4zfQX"
      },
      "execution_count": 201,
      "outputs": []
    },
    {
      "cell_type": "markdown",
      "source": [
        "# Content-Based Recommendation System using Latent Semantic Analysis (LSA) and k-nearest neighbors (KNN)"
      ],
      "metadata": {
        "id": "69r0jfNBwvM_"
      }
    },
    {
      "cell_type": "code",
      "source": [
        "vectorizer = CountVectorizer(stop_words='english')\n",
        "#tfidf = TfidfVectorizer(stop_words='english')\n",
        "X = vectorizer.fit_transform(movie['tags'])"
      ],
      "metadata": {
        "id": "LORjyxeMzfEH"
      },
      "execution_count": 202,
      "outputs": []
    },
    {
      "cell_type": "code",
      "source": [
        "num_topics = 15  # Number of topics to generate\n",
        "lsa = TruncatedSVD(n_components=num_topics)\n",
        "lsa.fit(X)\n",
        "topic_distribution = normalize(lsa.transform(X))"
      ],
      "metadata": {
        "id": "jBAKT12gW7h7"
      },
      "execution_count": 224,
      "outputs": []
    },
    {
      "cell_type": "code",
      "source": [
        "import sys\n",
        "# Calculate the size of topic_distribution in bytes\n",
        "topic_distribution_size_bytes = sys.getsizeof(topic_distribution)\n",
        "\n",
        "# Convert to megabytes (MB)\n",
        "topic_distribution_size_mb = topic_distribution_size_bytes / (1024 * 1024)\n",
        "\n",
        "print(\"Size of topic_distribution:\")\n",
        "print(\"Bytes:\", topic_distribution_size_bytes)\n",
        "print(\"Megabytes (MB):\", topic_distribution_size_mb)"
      ],
      "metadata": {
        "colab": {
          "base_uri": "https://localhost:8080/"
        },
        "id": "cZre_bLSYpoP",
        "outputId": "4b5c6c0b-6615-4ec7-b9bf-356dcd551168"
      },
      "execution_count": 225,
      "outputs": [
        {
          "output_type": "stream",
          "name": "stdout",
          "text": [
            "Size of topic_distribution:\n",
            "Bytes: 2225888\n",
            "Megabytes (MB): 2.122772216796875\n"
          ]
        }
      ]
    },
    {
      "cell_type": "code",
      "source": [
        "knn_t = NearestNeighbors(metric='euclidean', algorithm='brute')\n",
        "knn_t.fit(topic_distribution)"
      ],
      "metadata": {
        "colab": {
          "base_uri": "https://localhost:8080/",
          "height": 74
        },
        "id": "1i0-OT-d27jK",
        "outputId": "2d454cd0-6822-4255-9942-ab914a5f7326"
      },
      "execution_count": 226,
      "outputs": [
        {
          "output_type": "execute_result",
          "data": {
            "text/plain": [
              "NearestNeighbors(algorithm='brute', metric='euclidean')"
            ],
            "text/html": [
              "<style>#sk-container-id-15 {color: black;background-color: white;}#sk-container-id-15 pre{padding: 0;}#sk-container-id-15 div.sk-toggleable {background-color: white;}#sk-container-id-15 label.sk-toggleable__label {cursor: pointer;display: block;width: 100%;margin-bottom: 0;padding: 0.3em;box-sizing: border-box;text-align: center;}#sk-container-id-15 label.sk-toggleable__label-arrow:before {content: \"▸\";float: left;margin-right: 0.25em;color: #696969;}#sk-container-id-15 label.sk-toggleable__label-arrow:hover:before {color: black;}#sk-container-id-15 div.sk-estimator:hover label.sk-toggleable__label-arrow:before {color: black;}#sk-container-id-15 div.sk-toggleable__content {max-height: 0;max-width: 0;overflow: hidden;text-align: left;background-color: #f0f8ff;}#sk-container-id-15 div.sk-toggleable__content pre {margin: 0.2em;color: black;border-radius: 0.25em;background-color: #f0f8ff;}#sk-container-id-15 input.sk-toggleable__control:checked~div.sk-toggleable__content {max-height: 200px;max-width: 100%;overflow: auto;}#sk-container-id-15 input.sk-toggleable__control:checked~label.sk-toggleable__label-arrow:before {content: \"▾\";}#sk-container-id-15 div.sk-estimator input.sk-toggleable__control:checked~label.sk-toggleable__label {background-color: #d4ebff;}#sk-container-id-15 div.sk-label input.sk-toggleable__control:checked~label.sk-toggleable__label {background-color: #d4ebff;}#sk-container-id-15 input.sk-hidden--visually {border: 0;clip: rect(1px 1px 1px 1px);clip: rect(1px, 1px, 1px, 1px);height: 1px;margin: -1px;overflow: hidden;padding: 0;position: absolute;width: 1px;}#sk-container-id-15 div.sk-estimator {font-family: monospace;background-color: #f0f8ff;border: 1px dotted black;border-radius: 0.25em;box-sizing: border-box;margin-bottom: 0.5em;}#sk-container-id-15 div.sk-estimator:hover {background-color: #d4ebff;}#sk-container-id-15 div.sk-parallel-item::after {content: \"\";width: 100%;border-bottom: 1px solid gray;flex-grow: 1;}#sk-container-id-15 div.sk-label:hover label.sk-toggleable__label {background-color: #d4ebff;}#sk-container-id-15 div.sk-serial::before {content: \"\";position: absolute;border-left: 1px solid gray;box-sizing: border-box;top: 0;bottom: 0;left: 50%;z-index: 0;}#sk-container-id-15 div.sk-serial {display: flex;flex-direction: column;align-items: center;background-color: white;padding-right: 0.2em;padding-left: 0.2em;position: relative;}#sk-container-id-15 div.sk-item {position: relative;z-index: 1;}#sk-container-id-15 div.sk-parallel {display: flex;align-items: stretch;justify-content: center;background-color: white;position: relative;}#sk-container-id-15 div.sk-item::before, #sk-container-id-15 div.sk-parallel-item::before {content: \"\";position: absolute;border-left: 1px solid gray;box-sizing: border-box;top: 0;bottom: 0;left: 50%;z-index: -1;}#sk-container-id-15 div.sk-parallel-item {display: flex;flex-direction: column;z-index: 1;position: relative;background-color: white;}#sk-container-id-15 div.sk-parallel-item:first-child::after {align-self: flex-end;width: 50%;}#sk-container-id-15 div.sk-parallel-item:last-child::after {align-self: flex-start;width: 50%;}#sk-container-id-15 div.sk-parallel-item:only-child::after {width: 0;}#sk-container-id-15 div.sk-dashed-wrapped {border: 1px dashed gray;margin: 0 0.4em 0.5em 0.4em;box-sizing: border-box;padding-bottom: 0.4em;background-color: white;}#sk-container-id-15 div.sk-label label {font-family: monospace;font-weight: bold;display: inline-block;line-height: 1.2em;}#sk-container-id-15 div.sk-label-container {text-align: center;}#sk-container-id-15 div.sk-container {/* jupyter's `normalize.less` sets `[hidden] { display: none; }` but bootstrap.min.css set `[hidden] { display: none !important; }` so we also need the `!important` here to be able to override the default hidden behavior on the sphinx rendered scikit-learn.org. See: https://github.com/scikit-learn/scikit-learn/issues/21755 */display: inline-block !important;position: relative;}#sk-container-id-15 div.sk-text-repr-fallback {display: none;}</style><div id=\"sk-container-id-15\" class=\"sk-top-container\"><div class=\"sk-text-repr-fallback\"><pre>NearestNeighbors(algorithm=&#x27;brute&#x27;, metric=&#x27;euclidean&#x27;)</pre><b>In a Jupyter environment, please rerun this cell to show the HTML representation or trust the notebook. <br />On GitHub, the HTML representation is unable to render, please try loading this page with nbviewer.org.</b></div><div class=\"sk-container\" hidden><div class=\"sk-item\"><div class=\"sk-estimator sk-toggleable\"><input class=\"sk-toggleable__control sk-hidden--visually\" id=\"sk-estimator-id-15\" type=\"checkbox\" checked><label for=\"sk-estimator-id-15\" class=\"sk-toggleable__label sk-toggleable__label-arrow\">NearestNeighbors</label><div class=\"sk-toggleable__content\"><pre>NearestNeighbors(algorithm=&#x27;brute&#x27;, metric=&#x27;euclidean&#x27;)</pre></div></div></div></div></div>"
            ]
          },
          "metadata": {},
          "execution_count": 226
        }
      ]
    },
    {
      "cell_type": "code",
      "source": [
        "topic__size_bytes = sys.getsizeof(knn_t)\n",
        "\n",
        "# Convert to megabytes (MB)\n",
        "topic__size_mb = topic__size_bytes / (1024 * 1024)\n",
        "\n",
        "print(\"Size of topic_:\")\n",
        "print(\"Bytes:\", topic__size_bytes)\n",
        "print(\"Megabytes (MB):\", topic__size_mb)"
      ],
      "metadata": {
        "colab": {
          "base_uri": "https://localhost:8080/"
        },
        "id": "UhyFvk0f3M_p",
        "outputId": "45297905-c1bc-4624-b132-6e6cd4c44bc3"
      },
      "execution_count": 227,
      "outputs": [
        {
          "output_type": "stream",
          "name": "stdout",
          "text": [
            "Size of topic_:\n",
            "Bytes: 48\n",
            "Megabytes (MB): 4.57763671875e-05\n"
          ]
        }
      ]
    },
    {
      "cell_type": "code",
      "source": [
        "def recommend_movies(movie_title, num_recommendations=5):\n",
        "    # Find the index of the movie title\n",
        "    movie_index = movie[movie['title'] == movie_title].index[0]\n",
        "\n",
        "    # Get the indices of similar movies based on content similarity\n",
        "    _, indices = knn_t.kneighbors([topic_distribution[movie_index]], n_neighbors=num_recommendations+1)\n",
        "\n",
        "    # Exclude the movie itself from recommendations\n",
        "    indices = indices.squeeze()[1:]\n",
        "\n",
        "    # Return the recommended movie titles\n",
        "    recommended_movies = movie.iloc[indices]['title']\n",
        "    return recommended_movies\n",
        "\n",
        "# Example usage\n",
        "movie_title = \"Aladdin (2019)\"  # Replace with the movie title you want recommendations for\n",
        "recommendations = recommend_movies(movie_title)\n",
        "print(\"Recommended Movies:\")\n",
        "print(recommendations)"
      ],
      "metadata": {
        "colab": {
          "base_uri": "https://localhost:8080/"
        },
        "id": "4SdpFoXXW7d6",
        "outputId": "c158511b-74f6-44c0-9f81-18522b040a4d"
      },
      "execution_count": 228,
      "outputs": [
        {
          "output_type": "stream",
          "name": "stdout",
          "text": [
            "Recommended Movies:\n",
            "6043          The Nutcracker and the Four Realms\n",
            "5963                                  Maleficent\n",
            "6129                                 John Carter\n",
            "6130                            Bride of Boogedy\n",
            "6610    The Chronicles of Narnia: Prince Caspian\n",
            "Name: title, dtype: object\n"
          ]
        }
      ]
    },
    {
      "cell_type": "markdown",
      "source": [
        "# Content-Based Recommendation System with Cosine Similarity"
      ],
      "metadata": {
        "id": "Te4QKjdBpEvy"
      }
    },
    {
      "cell_type": "code",
      "execution_count": null,
      "metadata": {
        "id": "e5swFuJusOM2"
      },
      "outputs": [],
      "source": [
        "from sklearn.metrics.pairwise import cosine_similarity\n",
        "similarity=cosine_similarity(X)"
      ]
    },
    {
      "cell_type": "code",
      "source": [
        "import sys\n",
        "# Calculate the size of topic_distribution in bytes\n",
        "similarity_size_bytes = sys.getsizeof(similarity)\n",
        "\n",
        "# Convert to megabytes (MB)\n",
        "similarity_size_mb = similarity_size_bytes / (1024 * 1024)\n",
        "\n",
        "print(\"Size of similarity:\")\n",
        "print(\"Bytes:\", similarity_size_bytes)\n",
        "print(\"Megabytes (MB):\", similarity_size_mb)"
      ],
      "metadata": {
        "colab": {
          "base_uri": "https://localhost:8080/"
        },
        "id": "3zsdmswIVZns",
        "outputId": "f19f65b7-e354-44d4-cdd4-96571e4d2079"
      },
      "execution_count": null,
      "outputs": [
        {
          "output_type": "stream",
          "name": "stdout",
          "text": [
            "Size of similarity:\n",
            "Bytes: 2752226560\n",
            "Megabytes (MB): 2624.727783203125\n"
          ]
        }
      ]
    },
    {
      "cell_type": "code",
      "execution_count": null,
      "metadata": {
        "colab": {
          "base_uri": "https://localhost:8080/"
        },
        "id": "DlYYZY4ftQjp",
        "outputId": "5d9abe00-ce55-4751-bab5-7968c39a3f93"
      },
      "outputs": [
        {
          "output_type": "execute_result",
          "data": {
            "text/plain": [
              "[(3981, 0.2034787998649838),\n",
              " (4971, 0.16863471508944566),\n",
              " (2577, 0.12398594322201954),\n",
              " (4464, 0.11970303889031969),\n",
              " (4841, 0.11453929331561093)]"
            ]
          },
          "metadata": {},
          "execution_count": 83
        }
      ],
      "source": [
        "sorted(list(enumerate(similarity[0])),reverse=True,key=lambda x:x[1])[1:6]  ## Creating distances with index position and fetching out 5 top"
      ]
    },
    {
      "cell_type": "code",
      "execution_count": null,
      "metadata": {
        "id": "1rvvl2UDtfmF"
      },
      "outputs": [],
      "source": [
        "def recommend(movie_data, movie_title):\n",
        "    movie_index = movie_data[movie_data['title'] == movie_title].index[0]\n",
        "    distances = similarity[movie_index]\n",
        "    movies_list = sorted(list(enumerate(distances)),reverse=True,key=lambda x:x[1])[1:6]\n",
        "    for i in movies_list:\n",
        "        print(movie.iloc[i[0]].title)"
      ]
    },
    {
      "cell_type": "code",
      "source": [
        "movie.head()"
      ],
      "metadata": {
        "colab": {
          "base_uri": "https://localhost:8080/",
          "height": 206
        },
        "id": "alql15kyL5R8",
        "outputId": "c2c27670-38ed-4d51-df8f-805e2526519b"
      },
      "execution_count": null,
      "outputs": [
        {
          "output_type": "execute_result",
          "data": {
            "text/plain": [
              "                  title                                               tags\n",
              "0  Take Care Good Night  a metro family decides to fight a cyber crimin...\n",
              "1                Whoop!  abish mathew is the worlds greatest standup co...\n",
              "2   Wedding Cha Shinema  an aspiring filmmaker reluctantly takes up the...\n",
              "3       Waiting for You  paul morgan investigates his late fathers incr...\n",
              "4     Vows of Deception  when a prominent lawyer is found murdered his ..."
            ],
            "text/html": [
              "\n",
              "  <div id=\"df-949cc331-e1d7-4765-9fb6-40abd9c57b68\">\n",
              "    <div class=\"colab-df-container\">\n",
              "      <div>\n",
              "<style scoped>\n",
              "    .dataframe tbody tr th:only-of-type {\n",
              "        vertical-align: middle;\n",
              "    }\n",
              "\n",
              "    .dataframe tbody tr th {\n",
              "        vertical-align: top;\n",
              "    }\n",
              "\n",
              "    .dataframe thead th {\n",
              "        text-align: right;\n",
              "    }\n",
              "</style>\n",
              "<table border=\"1\" class=\"dataframe\">\n",
              "  <thead>\n",
              "    <tr style=\"text-align: right;\">\n",
              "      <th></th>\n",
              "      <th>title</th>\n",
              "      <th>tags</th>\n",
              "    </tr>\n",
              "  </thead>\n",
              "  <tbody>\n",
              "    <tr>\n",
              "      <th>0</th>\n",
              "      <td>Take Care Good Night</td>\n",
              "      <td>a metro family decides to fight a cyber crimin...</td>\n",
              "    </tr>\n",
              "    <tr>\n",
              "      <th>1</th>\n",
              "      <td>Whoop!</td>\n",
              "      <td>abish mathew is the worlds greatest standup co...</td>\n",
              "    </tr>\n",
              "    <tr>\n",
              "      <th>2</th>\n",
              "      <td>Wedding Cha Shinema</td>\n",
              "      <td>an aspiring filmmaker reluctantly takes up the...</td>\n",
              "    </tr>\n",
              "    <tr>\n",
              "      <th>3</th>\n",
              "      <td>Waiting for You</td>\n",
              "      <td>paul morgan investigates his late fathers incr...</td>\n",
              "    </tr>\n",
              "    <tr>\n",
              "      <th>4</th>\n",
              "      <td>Vows of Deception</td>\n",
              "      <td>when a prominent lawyer is found murdered his ...</td>\n",
              "    </tr>\n",
              "  </tbody>\n",
              "</table>\n",
              "</div>\n",
              "      <button class=\"colab-df-convert\" onclick=\"convertToInteractive('df-949cc331-e1d7-4765-9fb6-40abd9c57b68')\"\n",
              "              title=\"Convert this dataframe to an interactive table.\"\n",
              "              style=\"display:none;\">\n",
              "        \n",
              "  <svg xmlns=\"http://www.w3.org/2000/svg\" height=\"24px\"viewBox=\"0 0 24 24\"\n",
              "       width=\"24px\">\n",
              "    <path d=\"M0 0h24v24H0V0z\" fill=\"none\"/>\n",
              "    <path d=\"M18.56 5.44l.94 2.06.94-2.06 2.06-.94-2.06-.94-.94-2.06-.94 2.06-2.06.94zm-11 1L8.5 8.5l.94-2.06 2.06-.94-2.06-.94L8.5 2.5l-.94 2.06-2.06.94zm10 10l.94 2.06.94-2.06 2.06-.94-2.06-.94-.94-2.06-.94 2.06-2.06.94z\"/><path d=\"M17.41 7.96l-1.37-1.37c-.4-.4-.92-.59-1.43-.59-.52 0-1.04.2-1.43.59L10.3 9.45l-7.72 7.72c-.78.78-.78 2.05 0 2.83L4 21.41c.39.39.9.59 1.41.59.51 0 1.02-.2 1.41-.59l7.78-7.78 2.81-2.81c.8-.78.8-2.07 0-2.86zM5.41 20L4 18.59l7.72-7.72 1.47 1.35L5.41 20z\"/>\n",
              "  </svg>\n",
              "      </button>\n",
              "      \n",
              "  <style>\n",
              "    .colab-df-container {\n",
              "      display:flex;\n",
              "      flex-wrap:wrap;\n",
              "      gap: 12px;\n",
              "    }\n",
              "\n",
              "    .colab-df-convert {\n",
              "      background-color: #E8F0FE;\n",
              "      border: none;\n",
              "      border-radius: 50%;\n",
              "      cursor: pointer;\n",
              "      display: none;\n",
              "      fill: #1967D2;\n",
              "      height: 32px;\n",
              "      padding: 0 0 0 0;\n",
              "      width: 32px;\n",
              "    }\n",
              "\n",
              "    .colab-df-convert:hover {\n",
              "      background-color: #E2EBFA;\n",
              "      box-shadow: 0px 1px 2px rgba(60, 64, 67, 0.3), 0px 1px 3px 1px rgba(60, 64, 67, 0.15);\n",
              "      fill: #174EA6;\n",
              "    }\n",
              "\n",
              "    [theme=dark] .colab-df-convert {\n",
              "      background-color: #3B4455;\n",
              "      fill: #D2E3FC;\n",
              "    }\n",
              "\n",
              "    [theme=dark] .colab-df-convert:hover {\n",
              "      background-color: #434B5C;\n",
              "      box-shadow: 0px 1px 3px 1px rgba(0, 0, 0, 0.15);\n",
              "      filter: drop-shadow(0px 1px 2px rgba(0, 0, 0, 0.3));\n",
              "      fill: #FFFFFF;\n",
              "    }\n",
              "  </style>\n",
              "\n",
              "      <script>\n",
              "        const buttonEl =\n",
              "          document.querySelector('#df-949cc331-e1d7-4765-9fb6-40abd9c57b68 button.colab-df-convert');\n",
              "        buttonEl.style.display =\n",
              "          google.colab.kernel.accessAllowed ? 'block' : 'none';\n",
              "\n",
              "        async function convertToInteractive(key) {\n",
              "          const element = document.querySelector('#df-949cc331-e1d7-4765-9fb6-40abd9c57b68');\n",
              "          const dataTable =\n",
              "            await google.colab.kernel.invokeFunction('convertToInteractive',\n",
              "                                                     [key], {});\n",
              "          if (!dataTable) return;\n",
              "\n",
              "          const docLinkHtml = 'Like what you see? Visit the ' +\n",
              "            '<a target=\"_blank\" href=https://colab.research.google.com/notebooks/data_table.ipynb>data table notebook</a>'\n",
              "            + ' to learn more about interactive tables.';\n",
              "          element.innerHTML = '';\n",
              "          dataTable['output_type'] = 'display_data';\n",
              "          await google.colab.output.renderOutput(dataTable, element);\n",
              "          const docLink = document.createElement('div');\n",
              "          docLink.innerHTML = docLinkHtml;\n",
              "          element.appendChild(docLink);\n",
              "        }\n",
              "      </script>\n",
              "    </div>\n",
              "  </div>\n",
              "  "
            ]
          },
          "metadata": {},
          "execution_count": 85
        }
      ]
    },
    {
      "cell_type": "code",
      "execution_count": null,
      "metadata": {
        "colab": {
          "base_uri": "https://localhost:8080/"
        },
        "id": "pCqECNsCtwWQ",
        "outputId": "e98801cd-c216-46cb-e7dc-969710e7ad1b"
      },
      "outputs": [
        {
          "output_type": "stream",
          "name": "stdout",
          "text": [
            "X-Men: Days of Future Past\n",
            "X-Men: Dark Phoenix\n",
            "X-Men: Apocalypse\n",
            "X-Men\n",
            "X-Men Origins: Wolverine\n"
          ]
        }
      ],
      "source": [
        "recommend(movie,\"X-Men: First Class\")"
      ]
    },
    {
      "cell_type": "code",
      "execution_count": null,
      "metadata": {
        "id": "BfixJ6HVtkae",
        "colab": {
          "base_uri": "https://localhost:8080/",
          "height": 206
        },
        "outputId": "5d7486e8-15e2-4a32-a2cd-be8c2bbe63cf"
      },
      "outputs": [
        {
          "output_type": "execute_result",
          "data": {
            "text/plain": [
              "                  title                                               tags\n",
              "0  Take Care Good Night  a metro family decides to fight a cyber crimin...\n",
              "1                Whoop!  abish mathew is the worlds greatest standup co...\n",
              "2   Wedding Cha Shinema  an aspiring filmmaker reluctantly takes up the...\n",
              "3       Waiting for You  paul morgan investigates his late fathers incr...\n",
              "4     Vows of Deception  when a prominent lawyer is found murdered his ..."
            ],
            "text/html": [
              "\n",
              "  <div id=\"df-669d4d17-f91e-4280-8f09-78b1e4c05d8f\">\n",
              "    <div class=\"colab-df-container\">\n",
              "      <div>\n",
              "<style scoped>\n",
              "    .dataframe tbody tr th:only-of-type {\n",
              "        vertical-align: middle;\n",
              "    }\n",
              "\n",
              "    .dataframe tbody tr th {\n",
              "        vertical-align: top;\n",
              "    }\n",
              "\n",
              "    .dataframe thead th {\n",
              "        text-align: right;\n",
              "    }\n",
              "</style>\n",
              "<table border=\"1\" class=\"dataframe\">\n",
              "  <thead>\n",
              "    <tr style=\"text-align: right;\">\n",
              "      <th></th>\n",
              "      <th>title</th>\n",
              "      <th>tags</th>\n",
              "    </tr>\n",
              "  </thead>\n",
              "  <tbody>\n",
              "    <tr>\n",
              "      <th>0</th>\n",
              "      <td>Take Care Good Night</td>\n",
              "      <td>a metro family decides to fight a cyber crimin...</td>\n",
              "    </tr>\n",
              "    <tr>\n",
              "      <th>1</th>\n",
              "      <td>Whoop!</td>\n",
              "      <td>abish mathew is the worlds greatest standup co...</td>\n",
              "    </tr>\n",
              "    <tr>\n",
              "      <th>2</th>\n",
              "      <td>Wedding Cha Shinema</td>\n",
              "      <td>an aspiring filmmaker reluctantly takes up the...</td>\n",
              "    </tr>\n",
              "    <tr>\n",
              "      <th>3</th>\n",
              "      <td>Waiting for You</td>\n",
              "      <td>paul morgan investigates his late fathers incr...</td>\n",
              "    </tr>\n",
              "    <tr>\n",
              "      <th>4</th>\n",
              "      <td>Vows of Deception</td>\n",
              "      <td>when a prominent lawyer is found murdered his ...</td>\n",
              "    </tr>\n",
              "  </tbody>\n",
              "</table>\n",
              "</div>\n",
              "      <button class=\"colab-df-convert\" onclick=\"convertToInteractive('df-669d4d17-f91e-4280-8f09-78b1e4c05d8f')\"\n",
              "              title=\"Convert this dataframe to an interactive table.\"\n",
              "              style=\"display:none;\">\n",
              "        \n",
              "  <svg xmlns=\"http://www.w3.org/2000/svg\" height=\"24px\"viewBox=\"0 0 24 24\"\n",
              "       width=\"24px\">\n",
              "    <path d=\"M0 0h24v24H0V0z\" fill=\"none\"/>\n",
              "    <path d=\"M18.56 5.44l.94 2.06.94-2.06 2.06-.94-2.06-.94-.94-2.06-.94 2.06-2.06.94zm-11 1L8.5 8.5l.94-2.06 2.06-.94-2.06-.94L8.5 2.5l-.94 2.06-2.06.94zm10 10l.94 2.06.94-2.06 2.06-.94-2.06-.94-.94-2.06-.94 2.06-2.06.94z\"/><path d=\"M17.41 7.96l-1.37-1.37c-.4-.4-.92-.59-1.43-.59-.52 0-1.04.2-1.43.59L10.3 9.45l-7.72 7.72c-.78.78-.78 2.05 0 2.83L4 21.41c.39.39.9.59 1.41.59.51 0 1.02-.2 1.41-.59l7.78-7.78 2.81-2.81c.8-.78.8-2.07 0-2.86zM5.41 20L4 18.59l7.72-7.72 1.47 1.35L5.41 20z\"/>\n",
              "  </svg>\n",
              "      </button>\n",
              "      \n",
              "  <style>\n",
              "    .colab-df-container {\n",
              "      display:flex;\n",
              "      flex-wrap:wrap;\n",
              "      gap: 12px;\n",
              "    }\n",
              "\n",
              "    .colab-df-convert {\n",
              "      background-color: #E8F0FE;\n",
              "      border: none;\n",
              "      border-radius: 50%;\n",
              "      cursor: pointer;\n",
              "      display: none;\n",
              "      fill: #1967D2;\n",
              "      height: 32px;\n",
              "      padding: 0 0 0 0;\n",
              "      width: 32px;\n",
              "    }\n",
              "\n",
              "    .colab-df-convert:hover {\n",
              "      background-color: #E2EBFA;\n",
              "      box-shadow: 0px 1px 2px rgba(60, 64, 67, 0.3), 0px 1px 3px 1px rgba(60, 64, 67, 0.15);\n",
              "      fill: #174EA6;\n",
              "    }\n",
              "\n",
              "    [theme=dark] .colab-df-convert {\n",
              "      background-color: #3B4455;\n",
              "      fill: #D2E3FC;\n",
              "    }\n",
              "\n",
              "    [theme=dark] .colab-df-convert:hover {\n",
              "      background-color: #434B5C;\n",
              "      box-shadow: 0px 1px 3px 1px rgba(0, 0, 0, 0.15);\n",
              "      filter: drop-shadow(0px 1px 2px rgba(0, 0, 0, 0.3));\n",
              "      fill: #FFFFFF;\n",
              "    }\n",
              "  </style>\n",
              "\n",
              "      <script>\n",
              "        const buttonEl =\n",
              "          document.querySelector('#df-669d4d17-f91e-4280-8f09-78b1e4c05d8f button.colab-df-convert');\n",
              "        buttonEl.style.display =\n",
              "          google.colab.kernel.accessAllowed ? 'block' : 'none';\n",
              "\n",
              "        async function convertToInteractive(key) {\n",
              "          const element = document.querySelector('#df-669d4d17-f91e-4280-8f09-78b1e4c05d8f');\n",
              "          const dataTable =\n",
              "            await google.colab.kernel.invokeFunction('convertToInteractive',\n",
              "                                                     [key], {});\n",
              "          if (!dataTable) return;\n",
              "\n",
              "          const docLinkHtml = 'Like what you see? Visit the ' +\n",
              "            '<a target=\"_blank\" href=https://colab.research.google.com/notebooks/data_table.ipynb>data table notebook</a>'\n",
              "            + ' to learn more about interactive tables.';\n",
              "          element.innerHTML = '';\n",
              "          dataTable['output_type'] = 'display_data';\n",
              "          await google.colab.output.renderOutput(dataTable, element);\n",
              "          const docLink = document.createElement('div');\n",
              "          docLink.innerHTML = docLinkHtml;\n",
              "          element.appendChild(docLink);\n",
              "        }\n",
              "      </script>\n",
              "    </div>\n",
              "  </div>\n",
              "  "
            ]
          },
          "metadata": {},
          "execution_count": 102
        }
      ],
      "source": [
        "movie.head()"
      ]
    },
    {
      "cell_type": "markdown",
      "source": [
        "# Content-Based Recommendation System Using KNN and Cosine Similarity"
      ],
      "metadata": {
        "id": "pCpdUliIpp65"
      }
    },
    {
      "cell_type": "code",
      "source": [
        "content_similarity = cosine_similarity(X, X)"
      ],
      "metadata": {
        "id": "FDf6ZVLKPk1c"
      },
      "execution_count": 133,
      "outputs": []
    },
    {
      "cell_type": "code",
      "source": [
        "svd = TruncatedSVD(n_components=100, random_state=42)\n",
        "content_similarity_reduced = svd.fit_transform(content_similarity)\n",
        "\n",
        "# Normalize the reduced similarity matrix\n",
        "content_similarity_reduced = normalize(content_similarity_reduced)\n",
        "\n",
        "# Calculate the new size of the reduced similarity matrix\n",
        "bytes_size = content_similarity_reduced.nbytes\n",
        "mb_size = bytes_size / (1024 * 1024)\n",
        "\n",
        "print(\"Size of content_similarity_reduced:\")\n",
        "print(\"Bytes:\", bytes_size)\n",
        "print(\"Megabytes (MB):\", mb_size)"
      ],
      "metadata": {
        "colab": {
          "base_uri": "https://localhost:8080/"
        },
        "id": "WmrnoBwH49LA",
        "outputId": "26318ffd-976e-48ac-fc49-2a8edfcd132a"
      },
      "execution_count": null,
      "outputs": [
        {
          "output_type": "stream",
          "name": "stdout",
          "text": [
            "Size of content_similarity_reduced:\n",
            "Bytes: 1483840\n",
            "Megabytes (MB): 1.41510009765625\n"
          ]
        }
      ]
    },
    {
      "cell_type": "code",
      "source": [
        "import sys\n",
        "# Calculate the size of topic_distribution in bytes\n",
        "content_similarity_size_bytes = sys.getsizeof(content_similarity)\n",
        "\n",
        "# Convert to megabytes (MB)\n",
        "content_similarity_size_mb = content_similarity_size_bytes / (1024 * 1024)\n",
        "\n",
        "print(\"Size of content_similarity:\")\n",
        "print(\"Bytes:\", content_similarity_size_bytes)\n",
        "print(\"Megabytes (MB):\", content_similarity_size_mb)"
      ],
      "metadata": {
        "colab": {
          "base_uri": "https://localhost:8080/"
        },
        "id": "Jafp3BNIVobL",
        "outputId": "9edc0d7b-d183-4ce9-b580-f07ffcb6ba86"
      },
      "execution_count": null,
      "outputs": [
        {
          "output_type": "stream",
          "name": "stdout",
          "text": [
            "Size of content_similarity:\n",
            "Bytes: 2752226560\n",
            "Megabytes (MB): 2624.727783203125\n"
          ]
        }
      ]
    },
    {
      "cell_type": "code",
      "source": [
        "knn = NearestNeighbors(metric='euclidean', algorithm='brute')\n",
        "knn.fit(content_similarity)"
      ],
      "metadata": {
        "colab": {
          "base_uri": "https://localhost:8080/",
          "height": 74
        },
        "id": "j9Jn2kPDPtk5",
        "outputId": "d01ad254-002b-4db1-e0a7-20c68b3f2e29"
      },
      "execution_count": 214,
      "outputs": [
        {
          "output_type": "execute_result",
          "data": {
            "text/plain": [
              "NearestNeighbors(algorithm='brute', metric='cosine')"
            ],
            "text/html": [
              "<style>#sk-container-id-13 {color: black;background-color: white;}#sk-container-id-13 pre{padding: 0;}#sk-container-id-13 div.sk-toggleable {background-color: white;}#sk-container-id-13 label.sk-toggleable__label {cursor: pointer;display: block;width: 100%;margin-bottom: 0;padding: 0.3em;box-sizing: border-box;text-align: center;}#sk-container-id-13 label.sk-toggleable__label-arrow:before {content: \"▸\";float: left;margin-right: 0.25em;color: #696969;}#sk-container-id-13 label.sk-toggleable__label-arrow:hover:before {color: black;}#sk-container-id-13 div.sk-estimator:hover label.sk-toggleable__label-arrow:before {color: black;}#sk-container-id-13 div.sk-toggleable__content {max-height: 0;max-width: 0;overflow: hidden;text-align: left;background-color: #f0f8ff;}#sk-container-id-13 div.sk-toggleable__content pre {margin: 0.2em;color: black;border-radius: 0.25em;background-color: #f0f8ff;}#sk-container-id-13 input.sk-toggleable__control:checked~div.sk-toggleable__content {max-height: 200px;max-width: 100%;overflow: auto;}#sk-container-id-13 input.sk-toggleable__control:checked~label.sk-toggleable__label-arrow:before {content: \"▾\";}#sk-container-id-13 div.sk-estimator input.sk-toggleable__control:checked~label.sk-toggleable__label {background-color: #d4ebff;}#sk-container-id-13 div.sk-label input.sk-toggleable__control:checked~label.sk-toggleable__label {background-color: #d4ebff;}#sk-container-id-13 input.sk-hidden--visually {border: 0;clip: rect(1px 1px 1px 1px);clip: rect(1px, 1px, 1px, 1px);height: 1px;margin: -1px;overflow: hidden;padding: 0;position: absolute;width: 1px;}#sk-container-id-13 div.sk-estimator {font-family: monospace;background-color: #f0f8ff;border: 1px dotted black;border-radius: 0.25em;box-sizing: border-box;margin-bottom: 0.5em;}#sk-container-id-13 div.sk-estimator:hover {background-color: #d4ebff;}#sk-container-id-13 div.sk-parallel-item::after {content: \"\";width: 100%;border-bottom: 1px solid gray;flex-grow: 1;}#sk-container-id-13 div.sk-label:hover label.sk-toggleable__label {background-color: #d4ebff;}#sk-container-id-13 div.sk-serial::before {content: \"\";position: absolute;border-left: 1px solid gray;box-sizing: border-box;top: 0;bottom: 0;left: 50%;z-index: 0;}#sk-container-id-13 div.sk-serial {display: flex;flex-direction: column;align-items: center;background-color: white;padding-right: 0.2em;padding-left: 0.2em;position: relative;}#sk-container-id-13 div.sk-item {position: relative;z-index: 1;}#sk-container-id-13 div.sk-parallel {display: flex;align-items: stretch;justify-content: center;background-color: white;position: relative;}#sk-container-id-13 div.sk-item::before, #sk-container-id-13 div.sk-parallel-item::before {content: \"\";position: absolute;border-left: 1px solid gray;box-sizing: border-box;top: 0;bottom: 0;left: 50%;z-index: -1;}#sk-container-id-13 div.sk-parallel-item {display: flex;flex-direction: column;z-index: 1;position: relative;background-color: white;}#sk-container-id-13 div.sk-parallel-item:first-child::after {align-self: flex-end;width: 50%;}#sk-container-id-13 div.sk-parallel-item:last-child::after {align-self: flex-start;width: 50%;}#sk-container-id-13 div.sk-parallel-item:only-child::after {width: 0;}#sk-container-id-13 div.sk-dashed-wrapped {border: 1px dashed gray;margin: 0 0.4em 0.5em 0.4em;box-sizing: border-box;padding-bottom: 0.4em;background-color: white;}#sk-container-id-13 div.sk-label label {font-family: monospace;font-weight: bold;display: inline-block;line-height: 1.2em;}#sk-container-id-13 div.sk-label-container {text-align: center;}#sk-container-id-13 div.sk-container {/* jupyter's `normalize.less` sets `[hidden] { display: none; }` but bootstrap.min.css set `[hidden] { display: none !important; }` so we also need the `!important` here to be able to override the default hidden behavior on the sphinx rendered scikit-learn.org. See: https://github.com/scikit-learn/scikit-learn/issues/21755 */display: inline-block !important;position: relative;}#sk-container-id-13 div.sk-text-repr-fallback {display: none;}</style><div id=\"sk-container-id-13\" class=\"sk-top-container\"><div class=\"sk-text-repr-fallback\"><pre>NearestNeighbors(algorithm=&#x27;brute&#x27;, metric=&#x27;cosine&#x27;)</pre><b>In a Jupyter environment, please rerun this cell to show the HTML representation or trust the notebook. <br />On GitHub, the HTML representation is unable to render, please try loading this page with nbviewer.org.</b></div><div class=\"sk-container\" hidden><div class=\"sk-item\"><div class=\"sk-estimator sk-toggleable\"><input class=\"sk-toggleable__control sk-hidden--visually\" id=\"sk-estimator-id-13\" type=\"checkbox\" checked><label for=\"sk-estimator-id-13\" class=\"sk-toggleable__label sk-toggleable__label-arrow\">NearestNeighbors</label><div class=\"sk-toggleable__content\"><pre>NearestNeighbors(algorithm=&#x27;brute&#x27;, metric=&#x27;cosine&#x27;)</pre></div></div></div></div></div>"
            ]
          },
          "metadata": {},
          "execution_count": 214
        }
      ]
    },
    {
      "cell_type": "code",
      "source": [
        "def recommend_movies(movie_title, num_recommendations=5):\n",
        "    # Find the index of the movie in the dataframe\n",
        "    movie_index = movie[movie['title'] == movie_title].index[0]\n",
        "\n",
        "    # Get the indices of similar movies based on content similarity\n",
        "    _, indices = knn.kneighbors([content_similarity[movie_index]], n_neighbors=num_recommendations+1)\n",
        "\n",
        "    # Exclude the movie itself from recommendations\n",
        "    indices = indices.squeeze()[1:]\n",
        "\n",
        "    # Return the recommended movie titles\n",
        "    recommended_movies = movie.iloc[indices]['title']\n",
        "    return recommended_movies"
      ],
      "metadata": {
        "id": "aeR4KTKLPw8t"
      },
      "execution_count": 215,
      "outputs": []
    },
    {
      "cell_type": "code",
      "source": [
        "movie['title']"
      ],
      "metadata": {
        "colab": {
          "base_uri": "https://localhost:8080/"
        },
        "id": "9Elb_7WeQeJ4",
        "outputId": "34c3c53f-3ebd-4b8b-8cc4-aee107ffbe22"
      },
      "execution_count": null,
      "outputs": [
        {
          "output_type": "execute_result",
          "data": {
            "text/plain": [
              "0                             Take Care Good Night\n",
              "1                                           Whoop!\n",
              "2                              Wedding Cha Shinema\n",
              "3                                  Waiting for You\n",
              "4                                Vows of Deception\n",
              "                           ...                    \n",
              "18543       Marvel Studios: Expanding the Universe\n",
              "18544      Marvel's Avengers: Secret Wars (Shorts)\n",
              "18545    Marvel's Guardians of the Galaxy (Shorts)\n",
              "18546             Marvel's Rocket & Groot (Shorts)\n",
              "18547                    Star Wars Rebels (Shorts)\n",
              "Name: title, Length: 18548, dtype: object"
            ]
          },
          "metadata": {},
          "execution_count": 133
        }
      ]
    },
    {
      "cell_type": "code",
      "source": [
        "recommended_movies = recommend_movies(\"Aladdin (2019)\", num_recommendations=5)\n",
        "print(recommended_movies)"
      ],
      "metadata": {
        "colab": {
          "base_uri": "https://localhost:8080/"
        },
        "id": "wgo8zjXoP8zY",
        "outputId": "abc30749-8d62-4443-859d-7626bac70ba0"
      },
      "execution_count": 216,
      "outputs": [
        {
          "output_type": "stream",
          "name": "stdout",
          "text": [
            "6043    The Nutcracker and the Four Realms\n",
            "6330                                 Dumbo\n",
            "6127          Maleficent: Mistress of Evil\n",
            "6130                      Bride of Boogedy\n",
            "6129                           John Carter\n",
            "Name: title, dtype: object\n"
          ]
        }
      ]
    },
    {
      "cell_type": "markdown",
      "source": [
        "Considering computational efficiency and performance, we have opted for a Content-Based Recommendation System that leverages Latent Semantic Analysis (LSA) and k-nearest neighbors (KNN). This approach ensures smoother and more efficient operations in the recommendation process. By utilizing LSA, we extract underlying patterns and topics from the movie tags, while KNN allows us to identify similar movies based on these latent features. This combination of LSA and KNN strikes a balance between computational resources and recommendation accuracy, resulting in an effective and performant system."
      ],
      "metadata": {
        "id": "F8WpmlR3ykvR"
      }
    },
    {
      "cell_type": "markdown",
      "source": [
        " Saving The Files For Further Development for ImDb App"
      ],
      "metadata": {
        "id": "7eUYW5PnrNgq"
      }
    },
    {
      "cell_type": "code",
      "source": [
        "import pickle\n",
        "pickle.dump(movie,open('recommend/movie_list.pkl','wb'))\n",
        "pickle.dump(topic_distribution,open('recommend/similarity.pkl','wb'))\n",
        "pickle.dump(knn_t,open('recommend/knn.pkl','wb'))"
      ],
      "metadata": {
        "id": "49OgRbHD-W40"
      },
      "execution_count": 229,
      "outputs": []
    },
    {
      "cell_type": "code",
      "source": [],
      "metadata": {
        "id": "CQlN05M2wSsp"
      },
      "execution_count": null,
      "outputs": []
    }
  ],
  "metadata": {
    "colab": {
      "provenance": [],
      "include_colab_link": true
    },
    "kernelspec": {
      "display_name": "Python 3",
      "name": "python3"
    },
    "language_info": {
      "name": "python"
    }
  },
  "nbformat": 4,
  "nbformat_minor": 0
}